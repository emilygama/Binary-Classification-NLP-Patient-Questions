{
 "cells": [
  {
   "cell_type": "code",
   "execution_count": 1,
   "id": "eeabef5d-b433-4716-bc8a-c77a969b1098",
   "metadata": {},
   "outputs": [
    {
     "name": "stderr",
     "output_type": "stream",
     "text": [
      "[nltk_data] Downloading package stopwords to /Users/ER/nltk_data...\n",
      "[nltk_data]   Package stopwords is already up-to-date!\n"
     ]
    },
    {
     "data": {
      "text/plain": [
       "True"
      ]
     },
     "execution_count": 1,
     "metadata": {},
     "output_type": "execute_result"
    }
   ],
   "source": [
    "import nltk\n",
    "nltk.download('stopwords')\n",
    "\n",
    "# https://pythonspot.com/nltk-stop-words/"
   ]
  },
  {
   "cell_type": "code",
   "execution_count": 2,
   "id": "77a3adb7-93f6-4d83-804c-8ccac44a122d",
   "metadata": {},
   "outputs": [],
   "source": [
    "import pandas as pd\n",
    "import matplotlib.pyplot as plt\n",
    "import plotly.express as px\n",
    "import numpy as np\n",
    "from sklearn.feature_extraction.text import CountVectorizer\n",
    "from nltk.corpus import stopwords"
   ]
  },
  {
   "cell_type": "code",
   "execution_count": 3,
   "id": "59e30eb7-cb28-4f12-bc29-e70c70ba0ebb",
   "metadata": {},
   "outputs": [
    {
     "name": "stdout",
     "output_type": "stream",
     "text": [
      "{'ourselves', \"mightn't\", 'because', \"shan't\", 'this', 'didn', 'him', 'once', 'between', \"couldn't\", \"wasn't\", 'than', 'in', 'how', 'she', 'weren', 'has', \"won't\", 'such', 'own', 'wouldn', 'there', 'above', 've', 'y', \"hadn't\", \"hasn't\", 'doesn', 'isn', 'off', 'so', 'ours', \"you've\", 'am', 'under', \"didn't\", 'why', 'he', 'your', 'll', 'that', 'up', 'hadn', 'the', \"wouldn't\", 'd', 'can', 'at', 'on', 'do', \"that'll\", 'himself', \"should've\", 'having', 'her', 'any', 'below', \"aren't\", \"you'll\", 'needn', \"isn't\", 'and', 'be', 'after', 'it', 'are', 'as', 'ain', 'what', 'with', 'just', 'of', 'they', 'our', 'or', \"it's\", 'hasn', 'whom', \"haven't\", 'o', 'their', 'ma', 'we', 'his', \"you'd\", 'not', 'about', 're', 'further', 'when', 'don', 'all', \"don't\", 'which', 'very', 'mightn', 'if', 'is', 'did', 'had', 'before', \"shouldn't\", 'same', 'each', 'shouldn', 'against', 'were', 'does', 'been', 'for', 'from', 'where', 'being', 'no', \"doesn't\", 'mustn', 'by', 'only', \"she's\", 'myself', 'over', 'other', 'have', 's', 'm', 'again', 'yours', 'few', 'i', 'to', 'its', 'was', 'out', 't', 'those', \"weren't\", 'should', 'you', 'down', 'more', 'while', 'most', 'hers', 'but', 'me', 'now', 'aren', 'haven', 'couldn', 'themselves', 'then', \"needn't\", 'these', 'shan', 'during', 'some', 'here', \"mustn't\", 'an', 'itself', 'herself', 'doing', 'through', 'will', 'yourself', 'until', 'both', 'nor', 'theirs', 'too', 'won', 'them', 'into', 'yourselves', 'wasn', \"you're\", 'my', 'who', 'a'}\n"
     ]
    }
   ],
   "source": [
    "stops = set(stopwords.words('english'))\n",
    "print(stops)"
   ]
  },
  {
   "cell_type": "code",
   "execution_count": 4,
   "id": "7fe86e5a-796b-4344-8f46-4d38fec10468",
   "metadata": {},
   "outputs": [],
   "source": [
    "questions = pd.read_csv('./data/Capstone-Data - Sheet1.csv')"
   ]
  },
  {
   "cell_type": "code",
   "execution_count": 5,
   "id": "8e51ab47-dd18-405a-8d81-309ca8400230",
   "metadata": {},
   "outputs": [
    {
     "data": {
      "text/html": [
       "<div>\n",
       "<style scoped>\n",
       "    .dataframe tbody tr th:only-of-type {\n",
       "        vertical-align: middle;\n",
       "    }\n",
       "\n",
       "    .dataframe tbody tr th {\n",
       "        vertical-align: top;\n",
       "    }\n",
       "\n",
       "    .dataframe thead th {\n",
       "        text-align: right;\n",
       "    }\n",
       "</style>\n",
       "<table border=\"1\" class=\"dataframe\">\n",
       "  <thead>\n",
       "    <tr style=\"text-align: right;\">\n",
       "      <th></th>\n",
       "      <th>File</th>\n",
       "      <th>message</th>\n",
       "      <th>binary: pharmacist/internist</th>\n",
       "      <th>specialty</th>\n",
       "      <th>Summary</th>\n",
       "      <th>specialty.1</th>\n",
       "      <th>Unnamed: 6</th>\n",
       "    </tr>\n",
       "  </thead>\n",
       "  <tbody>\n",
       "    <tr>\n",
       "      <th>0</th>\n",
       "      <td>1-131188152.xml.txt</td>\n",
       "      <td>SUBJECT: who and where to get cetirizine - D\\n...</td>\n",
       "      <td>pharmacist</td>\n",
       "      <td>pharmacist</td>\n",
       "      <td>Who manufactures cetirizine?</td>\n",
       "      <td>pharmacist</td>\n",
       "      <td>pharmacist</td>\n",
       "    </tr>\n",
       "    <tr>\n",
       "      <th>1</th>\n",
       "      <td>14348.txt</td>\n",
       "      <td>who makes bromocriptine\\n i am wondering what ...</td>\n",
       "      <td>pharmacist</td>\n",
       "      <td>pharmacist</td>\n",
       "      <td>Who manufactures bromocriptine?</td>\n",
       "      <td>pediatrician</td>\n",
       "      <td>internist</td>\n",
       "    </tr>\n",
       "    <tr>\n",
       "      <th>2</th>\n",
       "      <td>1-131985747.xml.txt</td>\n",
       "      <td>SUBJECT: nulytely\\n MESSAGE: Hello can you tel...</td>\n",
       "      <td>pharmacist</td>\n",
       "      <td>pharmacist</td>\n",
       "      <td>Who makes nulytely, and where can I buy it?</td>\n",
       "      <td>oncologist</td>\n",
       "      <td>dentist</td>\n",
       "    </tr>\n",
       "  </tbody>\n",
       "</table>\n",
       "</div>"
      ],
      "text/plain": [
       "                  File                                            message  \\\n",
       "0  1-131188152.xml.txt  SUBJECT: who and where to get cetirizine - D\\n...   \n",
       "1            14348.txt  who makes bromocriptine\\n i am wondering what ...   \n",
       "2  1-131985747.xml.txt  SUBJECT: nulytely\\n MESSAGE: Hello can you tel...   \n",
       "\n",
       "  binary: pharmacist/internist   specialty  \\\n",
       "0                   pharmacist  pharmacist   \n",
       "1                   pharmacist  pharmacist   \n",
       "2                   pharmacist  pharmacist   \n",
       "\n",
       "                                       Summary   specialty.1  Unnamed: 6  \n",
       "0                 Who manufactures cetirizine?    pharmacist  pharmacist  \n",
       "1              Who manufactures bromocriptine?  pediatrician   internist  \n",
       "2  Who makes nulytely, and where can I buy it?    oncologist     dentist  "
      ]
     },
     "execution_count": 5,
     "metadata": {},
     "output_type": "execute_result"
    }
   ],
   "source": [
    "questions.head(3)"
   ]
  },
  {
   "cell_type": "code",
   "execution_count": 6,
   "id": "ad487880-e851-4dd5-b710-df3b501ac660",
   "metadata": {},
   "outputs": [],
   "source": [
    "questions.rename(columns = {'binary: pharmacist/internist': 'binary'}, inplace=True)"
   ]
  },
  {
   "cell_type": "code",
   "execution_count": 7,
   "id": "544792c7-2d9a-4428-aa77-c8f3c373c9be",
   "metadata": {},
   "outputs": [
    {
     "data": {
      "text/html": [
       "<div>\n",
       "<style scoped>\n",
       "    .dataframe tbody tr th:only-of-type {\n",
       "        vertical-align: middle;\n",
       "    }\n",
       "\n",
       "    .dataframe tbody tr th {\n",
       "        vertical-align: top;\n",
       "    }\n",
       "\n",
       "    .dataframe thead th {\n",
       "        text-align: right;\n",
       "    }\n",
       "</style>\n",
       "<table border=\"1\" class=\"dataframe\">\n",
       "  <thead>\n",
       "    <tr style=\"text-align: right;\">\n",
       "      <th></th>\n",
       "      <th>File</th>\n",
       "      <th>message</th>\n",
       "      <th>binary</th>\n",
       "      <th>specialty</th>\n",
       "      <th>Summary</th>\n",
       "      <th>specialty.1</th>\n",
       "      <th>Unnamed: 6</th>\n",
       "    </tr>\n",
       "  </thead>\n",
       "  <tbody>\n",
       "    <tr>\n",
       "      <th>0</th>\n",
       "      <td>1-131188152.xml.txt</td>\n",
       "      <td>SUBJECT: who and where to get cetirizine - D\\n...</td>\n",
       "      <td>pharmacist</td>\n",
       "      <td>pharmacist</td>\n",
       "      <td>Who manufactures cetirizine?</td>\n",
       "      <td>pharmacist</td>\n",
       "      <td>pharmacist</td>\n",
       "    </tr>\n",
       "    <tr>\n",
       "      <th>1</th>\n",
       "      <td>14348.txt</td>\n",
       "      <td>who makes bromocriptine\\n i am wondering what ...</td>\n",
       "      <td>pharmacist</td>\n",
       "      <td>pharmacist</td>\n",
       "      <td>Who manufactures bromocriptine?</td>\n",
       "      <td>pediatrician</td>\n",
       "      <td>internist</td>\n",
       "    </tr>\n",
       "    <tr>\n",
       "      <th>2</th>\n",
       "      <td>1-131985747.xml.txt</td>\n",
       "      <td>SUBJECT: nulytely\\n MESSAGE: Hello can you tel...</td>\n",
       "      <td>pharmacist</td>\n",
       "      <td>pharmacist</td>\n",
       "      <td>Who makes nulytely, and where can I buy it?</td>\n",
       "      <td>oncologist</td>\n",
       "      <td>dentist</td>\n",
       "    </tr>\n",
       "  </tbody>\n",
       "</table>\n",
       "</div>"
      ],
      "text/plain": [
       "                  File                                            message  \\\n",
       "0  1-131188152.xml.txt  SUBJECT: who and where to get cetirizine - D\\n...   \n",
       "1            14348.txt  who makes bromocriptine\\n i am wondering what ...   \n",
       "2  1-131985747.xml.txt  SUBJECT: nulytely\\n MESSAGE: Hello can you tel...   \n",
       "\n",
       "       binary   specialty                                      Summary  \\\n",
       "0  pharmacist  pharmacist                 Who manufactures cetirizine?   \n",
       "1  pharmacist  pharmacist              Who manufactures bromocriptine?   \n",
       "2  pharmacist  pharmacist  Who makes nulytely, and where can I buy it?   \n",
       "\n",
       "    specialty.1  Unnamed: 6  \n",
       "0    pharmacist  pharmacist  \n",
       "1  pediatrician   internist  \n",
       "2    oncologist     dentist  "
      ]
     },
     "execution_count": 7,
     "metadata": {},
     "output_type": "execute_result"
    }
   ],
   "source": [
    "questions.head(3)"
   ]
  },
  {
   "cell_type": "code",
   "execution_count": 8,
   "id": "ac371bdc-4790-406e-835b-64ce2df1c5b6",
   "metadata": {},
   "outputs": [
    {
     "data": {
      "text/plain": [
       "internist     860\n",
       "pharmacist    139\n",
       "internists      1\n",
       "Name: binary, dtype: int64"
      ]
     },
     "execution_count": 8,
     "metadata": {},
     "output_type": "execute_result"
    }
   ],
   "source": [
    "questions['binary'].value_counts()"
   ]
  },
  {
   "cell_type": "code",
   "execution_count": 9,
   "id": "e906d756-c64f-479f-9fc8-d00ea019e98d",
   "metadata": {},
   "outputs": [],
   "source": [
    "questions['binary'][questions['binary'] == 'internists'] = 'internist'"
   ]
  },
  {
   "cell_type": "code",
   "execution_count": 10,
   "id": "9b6d2266-595d-4359-b6aa-b52c98587ffd",
   "metadata": {},
   "outputs": [
    {
     "data": {
      "text/plain": [
       "Series([], Name: binary, dtype: object)"
      ]
     },
     "execution_count": 10,
     "metadata": {},
     "output_type": "execute_result"
    }
   ],
   "source": [
    "questions['binary'][questions['binary'] == 'internists']"
   ]
  },
  {
   "cell_type": "code",
   "execution_count": 11,
   "id": "458cece6-2835-46e8-91a0-b5c4ad680a25",
   "metadata": {},
   "outputs": [
    {
     "data": {
      "text/plain": [
       "internist     861\n",
       "pharmacist    139\n",
       "Name: binary, dtype: int64"
      ]
     },
     "execution_count": 11,
     "metadata": {},
     "output_type": "execute_result"
    }
   ],
   "source": [
    "questions['binary'].value_counts()"
   ]
  },
  {
   "cell_type": "code",
   "execution_count": 12,
   "id": "622edc19-3852-4524-bc61-1518b6bcd8c0",
   "metadata": {},
   "outputs": [
    {
     "data": {
      "application/vnd.plotly.v1+json": {
       "config": {
        "plotlyServerURL": "https://plot.ly"
       },
       "data": [
        {
         "alignmentgroup": "True",
         "bingroup": "x",
         "hovertemplate": "variable=binary<br>value=%{x}<br>count=%{y}<extra></extra>",
         "legendgroup": "binary",
         "marker": {
          "color": "#636efa",
          "pattern": {
           "shape": ""
          }
         },
         "name": "binary",
         "offsetgroup": "binary",
         "orientation": "v",
         "showlegend": true,
         "type": "histogram",
         "x": [
          "pharmacist",
          "pharmacist",
          "pharmacist",
          "internist",
          "internist",
          "internist",
          "internist",
          "internist",
          "internist",
          "internist",
          "internist",
          "internist",
          "internist",
          "internist",
          "pharmacist",
          "internist",
          "internist",
          "internist",
          "pharmacist",
          "internist",
          "internist",
          "internist",
          "internist",
          "internist",
          "internist",
          "pharmacist",
          "internist",
          "pharmacist",
          "internist",
          "internist",
          "pharmacist",
          "internist",
          "internist",
          "internist",
          "pharmacist",
          "pharmacist",
          "internist",
          "internist",
          "internist",
          "internist",
          "internist",
          "internist",
          "internist",
          "internist",
          "pharmacist",
          "internist",
          "internist",
          "internist",
          "internist",
          "internist",
          "internist",
          "internist",
          "internist",
          "internist",
          "internist",
          "internist",
          "internist",
          "pharmacist",
          "internist",
          "internist",
          "internist",
          "internist",
          "internist",
          "internist",
          "internist",
          "internist",
          "internist",
          "internist",
          "internist",
          "internist",
          "internist",
          "internist",
          "internist",
          "internist",
          "internist",
          "internist",
          "internist",
          "internist",
          "internist",
          "internist",
          "internist",
          "internist",
          "internist",
          "internist",
          "internist",
          "internist",
          "internist",
          "internist",
          "internist",
          "internist",
          "internist",
          "internist",
          "internist",
          "internist",
          "internist",
          "internist",
          "internist",
          "internist",
          "internist",
          "internist",
          "internist",
          "internist",
          "internist",
          "internist",
          "internist",
          "internist",
          "internist",
          "internist",
          "internist",
          "internist",
          "internist",
          "internist",
          "internist",
          "internist",
          "internist",
          "internist",
          "internist",
          "internist",
          "internist",
          "internist",
          "internist",
          "internist",
          "pharmacist",
          "internist",
          "pharmacist",
          "pharmacist",
          "pharmacist",
          "pharmacist",
          "pharmacist",
          "pharmacist",
          "internist",
          "internist",
          "pharmacist",
          "pharmacist",
          "pharmacist",
          "pharmacist",
          "pharmacist",
          "internist",
          "internist",
          "internist",
          "internist",
          "internist",
          "internist",
          "internist",
          "internist",
          "internist",
          "internist",
          "internist",
          "internist",
          "internist",
          "internist",
          "internist",
          "internist",
          "internist",
          "pharmacist",
          "pharmacist",
          "internist",
          "internist",
          "internist",
          "internist",
          "pharmacist",
          "pharmacist",
          "internist",
          "internist",
          "internist",
          "internist",
          "pharmacist",
          "internist",
          "pharmacist",
          "internist",
          "internist",
          "internist",
          "internist",
          "internist",
          "internist",
          "pharmacist",
          "internist",
          "internist",
          "pharmacist",
          "internist",
          "pharmacist",
          "internist",
          "pharmacist",
          "internist",
          "internist",
          "internist",
          "internist",
          "internist",
          "internist",
          "internist",
          "internist",
          "internist",
          "internist",
          "internist",
          "internist",
          "internist",
          "pharmacist",
          "internist",
          "internist",
          "internist",
          "internist",
          "internist",
          "pharmacist",
          "internist",
          "internist",
          "internist",
          "internist",
          "internist",
          "internist",
          "internist",
          "internist",
          "pharmacist",
          "internist",
          "internist",
          "internist",
          "internist",
          "internist",
          "internist",
          "internist",
          "internist",
          "internist",
          "internist",
          "internist",
          "internist",
          "internist",
          "internist",
          "internist",
          "internist",
          "internist",
          "internist",
          "internist",
          "internist",
          "pharmacist",
          "internist",
          "internist",
          "internist",
          "internist",
          "internist",
          "internist",
          "internist",
          "internist",
          "pharmacist",
          "internist",
          "internist",
          "internist",
          "internist",
          "internist",
          "internist",
          "internist",
          "internist",
          "internist",
          "pharmacist",
          "internist",
          "internist",
          "internist",
          "internist",
          "internist",
          "internist",
          "internist",
          "internist",
          "internist",
          "internist",
          "internist",
          "internist",
          "pharmacist",
          "internist",
          "internist",
          "internist",
          "internist",
          "internist",
          "internist",
          "internist",
          "internist",
          "internist",
          "internist",
          "internist",
          "pharmacist",
          "pharmacist",
          "internist",
          "internist",
          "internist",
          "internist",
          "internist",
          "internist",
          "internist",
          "internist",
          "internist",
          "internist",
          "internist",
          "internist",
          "internist",
          "internist",
          "internist",
          "internist",
          "internist",
          "internist",
          "internist",
          "internist",
          "internist",
          "internist",
          "internist",
          "internist",
          "internist",
          "internist",
          "internist",
          "internist",
          "internist",
          "internist",
          "internist",
          "internist",
          "internist",
          "internist",
          "internist",
          "internist",
          "internist",
          "internist",
          "internist",
          "internist",
          "internist",
          "internist",
          "pharmacist",
          "pharmacist",
          "pharmacist",
          "internist",
          "internist",
          "internist",
          "pharmacist",
          "internist",
          "internist",
          "internist",
          "internist",
          "internist",
          "internist",
          "pharmacist",
          "internist",
          "internist",
          "internist",
          "internist",
          "internist",
          "internist",
          "internist",
          "internist",
          "internist",
          "internist",
          "internist",
          "internist",
          "pharmacist",
          "pharmacist",
          "internist",
          "internist",
          "internist",
          "internist",
          "internist",
          "internist",
          "pharmacist",
          "pharmacist",
          "internist",
          "internist",
          "pharmacist",
          "internist",
          "internist",
          "pharmacist",
          "internist",
          "internist",
          "internist",
          "internist",
          "internist",
          "internist",
          "internist",
          "internist",
          "internist",
          "internist",
          "pharmacist",
          "internist",
          "internist",
          "internist",
          "pharmacist",
          "internist",
          "internist",
          "pharmacist",
          "internist",
          "internist",
          "internist",
          "internist",
          "internist",
          "internist",
          "pharmacist",
          "pharmacist",
          "internist",
          "internist",
          "internist",
          "pharmacist",
          "internist",
          "internist",
          "internist",
          "internist",
          "pharmacist",
          "internist",
          "internist",
          "pharmacist",
          "internist",
          "internist",
          "internist",
          "internist",
          "pharmacist",
          "internist",
          "internist",
          "pharmacist",
          "internist",
          "pharmacist",
          "internist",
          "internist",
          "internist",
          "internist",
          "pharmacist",
          "internist",
          "internist",
          "internist",
          "pharmacist",
          "internist",
          "internist",
          "internist",
          "internist",
          "internist",
          "internist",
          "internist",
          "internist",
          "internist",
          "pharmacist",
          "pharmacist",
          "internist",
          "pharmacist",
          "internist",
          "internist",
          "pharmacist",
          "internist",
          "internist",
          "internist",
          "internist",
          "internist",
          "internist",
          "internist",
          "internist",
          "internist",
          "pharmacist",
          "internist",
          "internist",
          "pharmacist",
          "internist",
          "internist",
          "internist",
          "internist",
          "internist",
          "internist",
          "internist",
          "internist",
          "pharmacist",
          "pharmacist",
          "internist",
          "internist",
          "pharmacist",
          "internist",
          "internist",
          "internist",
          "internist",
          "pharmacist",
          "internist",
          "internist",
          "internist",
          "internist",
          "internist",
          "internist",
          "internist",
          "internist",
          "internist",
          "internist",
          "internist",
          "internist",
          "internist",
          "internist",
          "internist",
          "internist",
          "internist",
          "internist",
          "internist",
          "internist",
          "pharmacist",
          "pharmacist",
          "internist",
          "internist",
          "internist",
          "internist",
          "internist",
          "internist",
          "internist",
          "internist",
          "internist",
          "internist",
          "internist",
          "internist",
          "internist",
          "internist",
          "pharmacist",
          "internist",
          "internist",
          "internist",
          "internist",
          "internist",
          "internist",
          "pharmacist",
          "pharmacist",
          "internist",
          "pharmacist",
          "internist",
          "internist",
          "internist",
          "internist",
          "internist",
          "internist",
          "internist",
          "internist",
          "internist",
          "internist",
          "internist",
          "internist",
          "internist",
          "internist",
          "internist",
          "internist",
          "internist",
          "internist",
          "internist",
          "internist",
          "internist",
          "internist",
          "internist",
          "internist",
          "internist",
          "internist",
          "pharmacist",
          "internist",
          "pharmacist",
          "internist",
          "pharmacist",
          "internist",
          "internist",
          "internist",
          "pharmacist",
          "internist",
          "internist",
          "internist",
          "internist",
          "internist",
          "internist",
          "internist",
          "internist",
          "internist",
          "internist",
          "internist",
          "internist",
          "internist",
          "internist",
          "internist",
          "internist",
          "internist",
          "internist",
          "internist",
          "pharmacist",
          "internist",
          "internist",
          "pharmacist",
          "pharmacist",
          "internist",
          "internist",
          "internist",
          "internist",
          "internist",
          "internist",
          "internist",
          "internist",
          "internist",
          "pharmacist",
          "internist",
          "internist",
          "internist",
          "pharmacist",
          "internist",
          "pharmacist",
          "pharmacist",
          "internist",
          "internist",
          "internist",
          "internist",
          "internist",
          "internist",
          "internist",
          "pharmacist",
          "pharmacist",
          "internist",
          "internist",
          "internist",
          "internist",
          "internist",
          "internist",
          "internist",
          "internist",
          "internist",
          "internist",
          "internist",
          "internist",
          "internist",
          "internist",
          "internist",
          "pharmacist",
          "internist",
          "internist",
          "pharmacist",
          "internist",
          "internist",
          "pharmacist",
          "pharmacist",
          "internist",
          "internist",
          "internist",
          "internist",
          "internist",
          "internist",
          "internist",
          "internist",
          "internist",
          "internist",
          "internist",
          "internist",
          "internist",
          "internist",
          "pharmacist",
          "internist",
          "internist",
          "internist",
          "pharmacist",
          "internist",
          "pharmacist",
          "internist",
          "internist",
          "internist",
          "internist",
          "internist",
          "internist",
          "internist",
          "internist",
          "internist",
          "internist",
          "internist",
          "internist",
          "internist",
          "internist",
          "internist",
          "internist",
          "internist",
          "internist",
          "pharmacist",
          "internist",
          "internist",
          "internist",
          "internist",
          "internist",
          "internist",
          "internist",
          "internist",
          "internist",
          "internist",
          "internist",
          "internist",
          "pharmacist",
          "internist",
          "internist",
          "pharmacist",
          "pharmacist",
          "internist",
          "internist",
          "internist",
          "internist",
          "internist",
          "internist",
          "internist",
          "pharmacist",
          "internist",
          "internist",
          "internist",
          "internist",
          "internist",
          "internist",
          "internist",
          "internist",
          "internist",
          "internist",
          "internist",
          "internist",
          "internist",
          "internist",
          "internist",
          "internist",
          "internist",
          "internist",
          "internist",
          "internist",
          "internist",
          "internist",
          "internist",
          "internist",
          "pharmacist",
          "internist",
          "internist",
          "internist",
          "internist",
          "internist",
          "internist",
          "internist",
          "internist",
          "internist",
          "pharmacist",
          "internist",
          "pharmacist",
          "internist",
          "internist",
          "internist",
          "internist",
          "internist",
          "internist",
          "internist",
          "internist",
          "internist",
          "internist",
          "internist",
          "internist",
          "internist",
          "internist",
          "internist",
          "internist",
          "internist",
          "internist",
          "internist",
          "internist",
          "internist",
          "internist",
          "internist",
          "internist",
          "internist",
          "internist",
          "internist",
          "internist",
          "internist",
          "internist",
          "internist",
          "internist",
          "internist",
          "pharmacist",
          "internist",
          "internist",
          "internist",
          "internist",
          "internist",
          "internist",
          "internist",
          "pharmacist",
          "internist",
          "internist",
          "internist",
          "internist",
          "internist",
          "internist",
          "internist",
          "pharmacist",
          "internist",
          "internist",
          "internist",
          "internist",
          "internist",
          "internist",
          "internist",
          "internist",
          "internist",
          "internist",
          "internist",
          "internist",
          "internist",
          "internist",
          "pharmacist",
          "internist",
          "internist",
          "pharmacist",
          "internist",
          "pharmacist",
          "internist",
          "internist",
          "internist",
          "internist",
          "internist",
          "internist",
          "internist",
          "internist",
          "pharmacist",
          "internist",
          "internist",
          "internist",
          "internist",
          "internist",
          "internist",
          "internist",
          "internist",
          "internist",
          "internist",
          "pharmacist",
          "internist",
          "internist",
          "pharmacist",
          "pharmacist",
          "internist",
          "internist",
          "internist",
          "internist",
          "internist",
          "internist",
          "internist",
          "internist",
          "internist",
          "internist",
          "internist",
          "internist",
          "internist",
          "internist",
          "internist",
          "internist",
          "internist",
          "pharmacist",
          "internist",
          "internist",
          "internist",
          "internist",
          "internist",
          "internist",
          "internist",
          "internist",
          "internist",
          "internist",
          "internist",
          "internist",
          "internist",
          "internist",
          "internist",
          "internist",
          "internist",
          "internist",
          "internist",
          "internist",
          "pharmacist",
          "internist",
          "internist",
          "internist",
          "internist",
          "internist",
          "internist",
          "pharmacist",
          "internist",
          "internist",
          "internist",
          "internist",
          "internist",
          "internist",
          "internist",
          "internist",
          "internist",
          "internist",
          "internist",
          "pharmacist",
          "pharmacist",
          "internist",
          "internist",
          "internist",
          "internist",
          "internist",
          "internist",
          "internist",
          "internist",
          "internist",
          "internist",
          "internist",
          "internist",
          "internist",
          "internist",
          "pharmacist",
          "internist",
          "internist",
          "internist",
          "internist",
          "internist",
          "internist",
          "internist",
          "internist",
          "internist",
          "internist",
          "internist",
          "internist",
          "internist",
          "internist",
          "internist",
          "internist",
          "pharmacist",
          "internist",
          "internist",
          "internist",
          "internist",
          "internist",
          "internist",
          "internist",
          "internist",
          "internist",
          "internist",
          "internist",
          "internist",
          "pharmacist",
          "internist",
          "internist",
          "pharmacist",
          "internist",
          "internist",
          "internist",
          "internist",
          "internist",
          "internist",
          "internist",
          "internist",
          "internist",
          "internist",
          "internist",
          "internist",
          "internist",
          "internist",
          "pharmacist",
          "internist",
          "internist",
          "internist",
          "internist",
          "internist",
          "pharmacist",
          "internist",
          "internist",
          "internist",
          "internist",
          "internist",
          "internist",
          "internist",
          "internist",
          "internist",
          "internist",
          "internist",
          "pharmacist",
          "internist",
          "internist",
          "internist",
          "internist",
          "internist",
          "internist",
          "internist",
          "internist",
          "internist",
          "pharmacist",
          "internist",
          "internist",
          "pharmacist",
          "internist",
          "pharmacist",
          "internist",
          "internist",
          "internist",
          "pharmacist",
          "internist",
          "internist",
          "pharmacist",
          "internist",
          "internist",
          "internist",
          "internist",
          "internist",
          "internist",
          "internist",
          "internist",
          "internist",
          "internist",
          "internist",
          "internist",
          "pharmacist",
          "internist",
          "internist",
          "internist",
          "internist",
          "internist",
          "internist",
          "internist",
          "internist"
         ],
         "xaxis": "x",
         "yaxis": "y"
        }
       ],
       "layout": {
        "autosize": true,
        "barmode": "relative",
        "legend": {
         "title": {
          "text": "variable"
         },
         "tracegroupgap": 0
        },
        "margin": {
         "t": 60
        },
        "template": {
         "data": {
          "bar": [
           {
            "error_x": {
             "color": "#2a3f5f"
            },
            "error_y": {
             "color": "#2a3f5f"
            },
            "marker": {
             "line": {
              "color": "#E5ECF6",
              "width": 0.5
             },
             "pattern": {
              "fillmode": "overlay",
              "size": 10,
              "solidity": 0.2
             }
            },
            "type": "bar"
           }
          ],
          "barpolar": [
           {
            "marker": {
             "line": {
              "color": "#E5ECF6",
              "width": 0.5
             },
             "pattern": {
              "fillmode": "overlay",
              "size": 10,
              "solidity": 0.2
             }
            },
            "type": "barpolar"
           }
          ],
          "carpet": [
           {
            "aaxis": {
             "endlinecolor": "#2a3f5f",
             "gridcolor": "white",
             "linecolor": "white",
             "minorgridcolor": "white",
             "startlinecolor": "#2a3f5f"
            },
            "baxis": {
             "endlinecolor": "#2a3f5f",
             "gridcolor": "white",
             "linecolor": "white",
             "minorgridcolor": "white",
             "startlinecolor": "#2a3f5f"
            },
            "type": "carpet"
           }
          ],
          "choropleth": [
           {
            "colorbar": {
             "outlinewidth": 0,
             "ticks": ""
            },
            "type": "choropleth"
           }
          ],
          "contour": [
           {
            "colorbar": {
             "outlinewidth": 0,
             "ticks": ""
            },
            "colorscale": [
             [
              0,
              "#0d0887"
             ],
             [
              0.1111111111111111,
              "#46039f"
             ],
             [
              0.2222222222222222,
              "#7201a8"
             ],
             [
              0.3333333333333333,
              "#9c179e"
             ],
             [
              0.4444444444444444,
              "#bd3786"
             ],
             [
              0.5555555555555556,
              "#d8576b"
             ],
             [
              0.6666666666666666,
              "#ed7953"
             ],
             [
              0.7777777777777778,
              "#fb9f3a"
             ],
             [
              0.8888888888888888,
              "#fdca26"
             ],
             [
              1,
              "#f0f921"
             ]
            ],
            "type": "contour"
           }
          ],
          "contourcarpet": [
           {
            "colorbar": {
             "outlinewidth": 0,
             "ticks": ""
            },
            "type": "contourcarpet"
           }
          ],
          "heatmap": [
           {
            "colorbar": {
             "outlinewidth": 0,
             "ticks": ""
            },
            "colorscale": [
             [
              0,
              "#0d0887"
             ],
             [
              0.1111111111111111,
              "#46039f"
             ],
             [
              0.2222222222222222,
              "#7201a8"
             ],
             [
              0.3333333333333333,
              "#9c179e"
             ],
             [
              0.4444444444444444,
              "#bd3786"
             ],
             [
              0.5555555555555556,
              "#d8576b"
             ],
             [
              0.6666666666666666,
              "#ed7953"
             ],
             [
              0.7777777777777778,
              "#fb9f3a"
             ],
             [
              0.8888888888888888,
              "#fdca26"
             ],
             [
              1,
              "#f0f921"
             ]
            ],
            "type": "heatmap"
           }
          ],
          "heatmapgl": [
           {
            "colorbar": {
             "outlinewidth": 0,
             "ticks": ""
            },
            "colorscale": [
             [
              0,
              "#0d0887"
             ],
             [
              0.1111111111111111,
              "#46039f"
             ],
             [
              0.2222222222222222,
              "#7201a8"
             ],
             [
              0.3333333333333333,
              "#9c179e"
             ],
             [
              0.4444444444444444,
              "#bd3786"
             ],
             [
              0.5555555555555556,
              "#d8576b"
             ],
             [
              0.6666666666666666,
              "#ed7953"
             ],
             [
              0.7777777777777778,
              "#fb9f3a"
             ],
             [
              0.8888888888888888,
              "#fdca26"
             ],
             [
              1,
              "#f0f921"
             ]
            ],
            "type": "heatmapgl"
           }
          ],
          "histogram": [
           {
            "marker": {
             "pattern": {
              "fillmode": "overlay",
              "size": 10,
              "solidity": 0.2
             }
            },
            "type": "histogram"
           }
          ],
          "histogram2d": [
           {
            "colorbar": {
             "outlinewidth": 0,
             "ticks": ""
            },
            "colorscale": [
             [
              0,
              "#0d0887"
             ],
             [
              0.1111111111111111,
              "#46039f"
             ],
             [
              0.2222222222222222,
              "#7201a8"
             ],
             [
              0.3333333333333333,
              "#9c179e"
             ],
             [
              0.4444444444444444,
              "#bd3786"
             ],
             [
              0.5555555555555556,
              "#d8576b"
             ],
             [
              0.6666666666666666,
              "#ed7953"
             ],
             [
              0.7777777777777778,
              "#fb9f3a"
             ],
             [
              0.8888888888888888,
              "#fdca26"
             ],
             [
              1,
              "#f0f921"
             ]
            ],
            "type": "histogram2d"
           }
          ],
          "histogram2dcontour": [
           {
            "colorbar": {
             "outlinewidth": 0,
             "ticks": ""
            },
            "colorscale": [
             [
              0,
              "#0d0887"
             ],
             [
              0.1111111111111111,
              "#46039f"
             ],
             [
              0.2222222222222222,
              "#7201a8"
             ],
             [
              0.3333333333333333,
              "#9c179e"
             ],
             [
              0.4444444444444444,
              "#bd3786"
             ],
             [
              0.5555555555555556,
              "#d8576b"
             ],
             [
              0.6666666666666666,
              "#ed7953"
             ],
             [
              0.7777777777777778,
              "#fb9f3a"
             ],
             [
              0.8888888888888888,
              "#fdca26"
             ],
             [
              1,
              "#f0f921"
             ]
            ],
            "type": "histogram2dcontour"
           }
          ],
          "mesh3d": [
           {
            "colorbar": {
             "outlinewidth": 0,
             "ticks": ""
            },
            "type": "mesh3d"
           }
          ],
          "parcoords": [
           {
            "line": {
             "colorbar": {
              "outlinewidth": 0,
              "ticks": ""
             }
            },
            "type": "parcoords"
           }
          ],
          "pie": [
           {
            "automargin": true,
            "type": "pie"
           }
          ],
          "scatter": [
           {
            "fillpattern": {
             "fillmode": "overlay",
             "size": 10,
             "solidity": 0.2
            },
            "type": "scatter"
           }
          ],
          "scatter3d": [
           {
            "line": {
             "colorbar": {
              "outlinewidth": 0,
              "ticks": ""
             }
            },
            "marker": {
             "colorbar": {
              "outlinewidth": 0,
              "ticks": ""
             }
            },
            "type": "scatter3d"
           }
          ],
          "scattercarpet": [
           {
            "marker": {
             "colorbar": {
              "outlinewidth": 0,
              "ticks": ""
             }
            },
            "type": "scattercarpet"
           }
          ],
          "scattergeo": [
           {
            "marker": {
             "colorbar": {
              "outlinewidth": 0,
              "ticks": ""
             }
            },
            "type": "scattergeo"
           }
          ],
          "scattergl": [
           {
            "marker": {
             "colorbar": {
              "outlinewidth": 0,
              "ticks": ""
             }
            },
            "type": "scattergl"
           }
          ],
          "scattermapbox": [
           {
            "marker": {
             "colorbar": {
              "outlinewidth": 0,
              "ticks": ""
             }
            },
            "type": "scattermapbox"
           }
          ],
          "scatterpolar": [
           {
            "marker": {
             "colorbar": {
              "outlinewidth": 0,
              "ticks": ""
             }
            },
            "type": "scatterpolar"
           }
          ],
          "scatterpolargl": [
           {
            "marker": {
             "colorbar": {
              "outlinewidth": 0,
              "ticks": ""
             }
            },
            "type": "scatterpolargl"
           }
          ],
          "scatterternary": [
           {
            "marker": {
             "colorbar": {
              "outlinewidth": 0,
              "ticks": ""
             }
            },
            "type": "scatterternary"
           }
          ],
          "surface": [
           {
            "colorbar": {
             "outlinewidth": 0,
             "ticks": ""
            },
            "colorscale": [
             [
              0,
              "#0d0887"
             ],
             [
              0.1111111111111111,
              "#46039f"
             ],
             [
              0.2222222222222222,
              "#7201a8"
             ],
             [
              0.3333333333333333,
              "#9c179e"
             ],
             [
              0.4444444444444444,
              "#bd3786"
             ],
             [
              0.5555555555555556,
              "#d8576b"
             ],
             [
              0.6666666666666666,
              "#ed7953"
             ],
             [
              0.7777777777777778,
              "#fb9f3a"
             ],
             [
              0.8888888888888888,
              "#fdca26"
             ],
             [
              1,
              "#f0f921"
             ]
            ],
            "type": "surface"
           }
          ],
          "table": [
           {
            "cells": {
             "fill": {
              "color": "#EBF0F8"
             },
             "line": {
              "color": "white"
             }
            },
            "header": {
             "fill": {
              "color": "#C8D4E3"
             },
             "line": {
              "color": "white"
             }
            },
            "type": "table"
           }
          ]
         },
         "layout": {
          "annotationdefaults": {
           "arrowcolor": "#2a3f5f",
           "arrowhead": 0,
           "arrowwidth": 1
          },
          "autotypenumbers": "strict",
          "coloraxis": {
           "colorbar": {
            "outlinewidth": 0,
            "ticks": ""
           }
          },
          "colorscale": {
           "diverging": [
            [
             0,
             "#8e0152"
            ],
            [
             0.1,
             "#c51b7d"
            ],
            [
             0.2,
             "#de77ae"
            ],
            [
             0.3,
             "#f1b6da"
            ],
            [
             0.4,
             "#fde0ef"
            ],
            [
             0.5,
             "#f7f7f7"
            ],
            [
             0.6,
             "#e6f5d0"
            ],
            [
             0.7,
             "#b8e186"
            ],
            [
             0.8,
             "#7fbc41"
            ],
            [
             0.9,
             "#4d9221"
            ],
            [
             1,
             "#276419"
            ]
           ],
           "sequential": [
            [
             0,
             "#0d0887"
            ],
            [
             0.1111111111111111,
             "#46039f"
            ],
            [
             0.2222222222222222,
             "#7201a8"
            ],
            [
             0.3333333333333333,
             "#9c179e"
            ],
            [
             0.4444444444444444,
             "#bd3786"
            ],
            [
             0.5555555555555556,
             "#d8576b"
            ],
            [
             0.6666666666666666,
             "#ed7953"
            ],
            [
             0.7777777777777778,
             "#fb9f3a"
            ],
            [
             0.8888888888888888,
             "#fdca26"
            ],
            [
             1,
             "#f0f921"
            ]
           ],
           "sequentialminus": [
            [
             0,
             "#0d0887"
            ],
            [
             0.1111111111111111,
             "#46039f"
            ],
            [
             0.2222222222222222,
             "#7201a8"
            ],
            [
             0.3333333333333333,
             "#9c179e"
            ],
            [
             0.4444444444444444,
             "#bd3786"
            ],
            [
             0.5555555555555556,
             "#d8576b"
            ],
            [
             0.6666666666666666,
             "#ed7953"
            ],
            [
             0.7777777777777778,
             "#fb9f3a"
            ],
            [
             0.8888888888888888,
             "#fdca26"
            ],
            [
             1,
             "#f0f921"
            ]
           ]
          },
          "colorway": [
           "#636efa",
           "#EF553B",
           "#00cc96",
           "#ab63fa",
           "#FFA15A",
           "#19d3f3",
           "#FF6692",
           "#B6E880",
           "#FF97FF",
           "#FECB52"
          ],
          "font": {
           "color": "#2a3f5f"
          },
          "geo": {
           "bgcolor": "white",
           "lakecolor": "white",
           "landcolor": "#E5ECF6",
           "showlakes": true,
           "showland": true,
           "subunitcolor": "white"
          },
          "hoverlabel": {
           "align": "left"
          },
          "hovermode": "closest",
          "mapbox": {
           "style": "light"
          },
          "paper_bgcolor": "white",
          "plot_bgcolor": "#E5ECF6",
          "polar": {
           "angularaxis": {
            "gridcolor": "white",
            "linecolor": "white",
            "ticks": ""
           },
           "bgcolor": "#E5ECF6",
           "radialaxis": {
            "gridcolor": "white",
            "linecolor": "white",
            "ticks": ""
           }
          },
          "scene": {
           "xaxis": {
            "backgroundcolor": "#E5ECF6",
            "gridcolor": "white",
            "gridwidth": 2,
            "linecolor": "white",
            "showbackground": true,
            "ticks": "",
            "zerolinecolor": "white"
           },
           "yaxis": {
            "backgroundcolor": "#E5ECF6",
            "gridcolor": "white",
            "gridwidth": 2,
            "linecolor": "white",
            "showbackground": true,
            "ticks": "",
            "zerolinecolor": "white"
           },
           "zaxis": {
            "backgroundcolor": "#E5ECF6",
            "gridcolor": "white",
            "gridwidth": 2,
            "linecolor": "white",
            "showbackground": true,
            "ticks": "",
            "zerolinecolor": "white"
           }
          },
          "shapedefaults": {
           "line": {
            "color": "#2a3f5f"
           }
          },
          "ternary": {
           "aaxis": {
            "gridcolor": "white",
            "linecolor": "white",
            "ticks": ""
           },
           "baxis": {
            "gridcolor": "white",
            "linecolor": "white",
            "ticks": ""
           },
           "bgcolor": "#E5ECF6",
           "caxis": {
            "gridcolor": "white",
            "linecolor": "white",
            "ticks": ""
           }
          },
          "title": {
           "x": 0.05
          },
          "xaxis": {
           "automargin": true,
           "gridcolor": "white",
           "linecolor": "white",
           "ticks": "",
           "title": {
            "standoff": 15
           },
           "zerolinecolor": "white",
           "zerolinewidth": 2
          },
          "yaxis": {
           "automargin": true,
           "gridcolor": "white",
           "linecolor": "white",
           "ticks": "",
           "title": {
            "standoff": 15
           },
           "zerolinecolor": "white",
           "zerolinewidth": 2
          }
         }
        },
        "xaxis": {
         "anchor": "y",
         "autorange": true,
         "domain": [
          0,
          1
         ],
         "range": [
          -0.5,
          1.5
         ],
         "title": {
          "text": "value"
         },
         "type": "category"
        },
        "yaxis": {
         "anchor": "x",
         "autorange": true,
         "domain": [
          0,
          1
         ],
         "range": [
          0,
          906.3157894736842
         ],
         "title": {
          "text": "count"
         }
        }
       }
      },
      "image/png": "[encoded data removed]"
     },
     "metadata": {},
     "output_type": "display_data"
    }
   ],
   "source": [
    "px.histogram(data_frame=questions['binary'])"
   ]
  },
  {
   "cell_type": "code",
   "execution_count": 13,
   "id": "f94aa545-3650-4c9d-9060-ed1d73b0fc6f",
   "metadata": {},
   "outputs": [
    {
     "data": {
      "text/plain": [
       "pharmacist            139\n",
       "neurologist           113\n",
       "internist              87\n",
       "gastroenterologist     78\n",
       "orthopedist            64\n",
       "pediatrician           58\n",
       "obgyn                  56\n",
       "dermatologist          55\n",
       "cardiologist           53\n",
       "oncologist             48\n",
       "endocrinologist        40\n",
       "urologist              36\n",
       "ophthamologist         34\n",
       "pulmonologist          33\n",
       "infectious disease     30\n",
       "ENT                    28\n",
       "psychologist           18\n",
       "rheumatologist         14\n",
       "dentist                 8\n",
       "bariatrician            7\n",
       "bariaticians            1\n",
       "Name: specialty, dtype: int64"
      ]
     },
     "execution_count": 13,
     "metadata": {},
     "output_type": "execute_result"
    }
   ],
   "source": [
    "questions['specialty'].value_counts()"
   ]
  },
  {
   "cell_type": "code",
   "execution_count": 14,
   "id": "fc7670fe-6a05-4f25-a4b2-932d8f32ee84",
   "metadata": {},
   "outputs": [
    {
     "data": {
      "application/vnd.plotly.v1+json": {
       "config": {
        "plotlyServerURL": "https://plot.ly"
       },
       "data": [
        {
         "alignmentgroup": "True",
         "bingroup": "x",
         "hovertemplate": "variable=specialty<br>value=%{x}<br>count=%{y}<extra></extra>",
         "legendgroup": "specialty",
         "marker": {
          "color": "#636efa",
          "pattern": {
           "shape": ""
          }
         },
         "name": "specialty",
         "offsetgroup": "specialty",
         "orientation": "v",
         "showlegend": true,
         "type": "histogram",
         "x": [
          "pediatrician",
          "oncologist",
          "cardiologist",
          "neurologist",
          "internist",
          "bariaticians",
          "gastroenterologist",
          "neurologist",
          "gastroenterologist",
          "obgyn",
          "oncologist",
          "endocrinologist",
          "pediatrician",
          "neurologist",
          "gastroenterologist",
          "obgyn",
          "rheumatologist",
          "ophthamologist",
          "orthopedist",
          "internist",
          "psychologist",
          "obgyn",
          "gastroenterologist",
          "rheumatologist",
          "orthopedist",
          "pediatrician",
          "pulmonologist",
          "pediatrician",
          "oncologist",
          "neurologist",
          "orthopedist",
          "orthopedist",
          "ophthamologist",
          "pediatrician",
          "gastroenterologist",
          "internist",
          "dentist",
          "endocrinologist",
          "urologist",
          "obgyn",
          "neurologist",
          "urologist",
          "oncologist",
          "neurologist",
          "urologist",
          "gastroenterologist",
          "endocrinologist",
          "orthopedist",
          "ophthamologist",
          "internist",
          "neurologist",
          "infectious disease",
          "cardiologist",
          "neurologist",
          "dermatologist",
          "dentist",
          "dermatologist",
          "ENT",
          "orthopedist",
          "ophthamologist",
          "pulmonologist",
          "dermatologist",
          "urologist",
          "gastroenterologist",
          "ophthamologist",
          "neurologist",
          "internist",
          "internist",
          "internist",
          "pulmonologist",
          "internist",
          "gastroenterologist",
          "dermatologist",
          "orthopedist",
          "cardiologist",
          "rheumatologist",
          "urologist",
          "orthopedist",
          "dermatologist",
          "ENT",
          "dermatologist",
          "ENT",
          "neurologist",
          "neurologist",
          "gastroenterologist",
          "pediatrician",
          "ophthamologist",
          "urologist",
          "urologist",
          "neurologist",
          "neurologist",
          "pediatrician",
          "infectious disease",
          "pulmonologist",
          "ENT",
          "oncologist",
          "obgyn",
          "internist",
          "neurologist",
          "pediatrician",
          "psychologist",
          "rheumatologist",
          "psychologist",
          "cardiologist",
          "gastroenterologist",
          "oncologist",
          "oncologist",
          "psychologist",
          "oncologist",
          "neurologist",
          "pulmonologist",
          "psychologist",
          "orthopedist",
          "internist",
          "internist",
          "oncologist",
          "dermatologist",
          "endocrinologist",
          "obgyn",
          "orthopedist",
          "gastroenterologist",
          "gastroenterologist",
          "cardiologist",
          "gastroenterologist",
          "bariatrician",
          "endocrinologist",
          "oncologist",
          "orthopedist",
          "obgyn",
          "dermatologist",
          "gastroenterologist",
          "internist",
          "endocrinologist",
          "neurologist",
          "dermatologist",
          "neurologist",
          "pediatrician",
          "neurologist",
          "neurologist",
          "gastroenterologist",
          "internist",
          "dermatologist",
          "oncologist",
          "ENT",
          "psychologist",
          "obgyn",
          "internist",
          "pulmonologist",
          "orthopedist",
          "obgyn",
          "internist",
          "rheumatologist",
          "neurologist",
          "pediatrician",
          "cardiologist",
          "obgyn",
          "obgyn",
          "ENT",
          "endocrinologist",
          "oncologist",
          "psychologist",
          "orthopedist",
          "pulmonologist",
          "orthopedist",
          "internist",
          "neurologist",
          "internist",
          "pulmonologist",
          "ENT",
          "neurologist",
          "dermatologist",
          "internist",
          "pulmonologist",
          "ENT",
          "oncologist",
          "bariatrician",
          "gastroenterologist",
          "obgyn",
          "pediatrician",
          "dermatologist",
          "gastroenterologist",
          "endocrinologist",
          "infectious disease",
          "internist",
          "ENT",
          "ophthamologist",
          "endocrinologist",
          "pediatrician",
          "endocrinologist",
          "cardiologist",
          "gastroenterologist",
          "infectious disease",
          "obgyn",
          "oncologist",
          "ENT",
          "pediatrician",
          "gastroenterologist",
          "cardiologist",
          "endocrinologist",
          "urologist",
          "neurologist",
          "ENT",
          "endocrinologist",
          "ENT",
          "internist",
          "ENT",
          "infectious disease",
          "gastroenterologist",
          "ophthamologist",
          "cardiologist",
          "orthopedist",
          "pulmonologist",
          "internist",
          "neurologist",
          "neurologist",
          "oncologist",
          "internist",
          "obgyn",
          "cardiologist",
          "internist",
          "cardiologist",
          "oncologist",
          "internist",
          "pulmonologist",
          "ophthamologist",
          "internist",
          "rheumatologist",
          "neurologist",
          "orthopedist",
          "pediatrician",
          "internist",
          "cardiologist",
          "orthopedist",
          "internist",
          "urologist",
          "internist",
          "gastroenterologist",
          "urologist",
          "dermatologist",
          "cardiologist",
          "dermatologist",
          "pediatrician",
          "endocrinologist",
          "orthopedist",
          "orthopedist",
          "dermatologist",
          "orthopedist",
          "internist",
          "cardiologist",
          "ENT",
          "dentist",
          "gastroenterologist",
          "infectious disease",
          "dermatologist",
          "infectious disease",
          "neurologist",
          "endocrinologist",
          "oncologist",
          "orthopedist",
          "obgyn",
          "pediatrician",
          "obgyn",
          "internist",
          "urologist",
          "gastroenterologist",
          "internist",
          "dermatologist",
          "orthopedist",
          "dermatologist",
          "psychologist",
          "neurologist",
          "endocrinologist",
          "endocrinologist",
          "orthopedist",
          "urologist",
          "obgyn",
          "dentist",
          "neurologist",
          "pediatrician",
          "cardiologist",
          "orthopedist",
          "internist",
          "gastroenterologist",
          "gastroenterologist",
          "obgyn",
          "neurologist",
          "gastroenterologist",
          "internist",
          "neurologist",
          "gastroenterologist",
          "obgyn",
          "endocrinologist",
          "cardiologist",
          "dentist",
          "dermatologist",
          "pediatrician",
          "orthopedist",
          "infectious disease",
          "internist",
          "gastroenterologist",
          "infectious disease",
          "internist",
          "dermatologist",
          "neurologist",
          "pediatrician",
          "internist",
          "pediatrician",
          "pediatrician",
          "orthopedist",
          "pulmonologist",
          "oncologist",
          "urologist",
          "oncologist",
          "pediatrician",
          "pediatrician",
          "obgyn",
          "urologist",
          "cardiologist",
          "ENT",
          "neurologist",
          "neurologist",
          "pulmonologist",
          "gastroenterologist",
          "pulmonologist",
          "internist",
          "oncologist",
          "ophthamologist",
          "oncologist",
          "oncologist",
          "internist",
          "pulmonologist",
          "neurologist",
          "internist",
          "obgyn",
          "dermatologist",
          "dermatologist",
          "infectious disease",
          "gastroenterologist",
          "orthopedist",
          "dermatologist",
          "oncologist",
          "obgyn",
          "urologist",
          "oncologist",
          "neurologist",
          "infectious disease",
          "cardiologist",
          "pediatrician",
          "ophthamologist",
          "dermatologist",
          "oncologist",
          "neurologist",
          "pediatrician",
          "infectious disease",
          "ophthamologist",
          "gastroenterologist",
          "orthopedist",
          "internist",
          "ophthamologist",
          "neurologist",
          "dermatologist",
          "ophthamologist",
          "dermatologist",
          "internist",
          "neurologist",
          "obgyn",
          "internist",
          "neurologist",
          "internist",
          "internist",
          "endocrinologist",
          "cardiologist",
          "orthopedist",
          "obgyn",
          "pulmonologist",
          "neurologist",
          "pediatrician",
          "infectious disease",
          "oncologist",
          "cardiologist",
          "psychologist",
          "cardiologist",
          "obgyn",
          "urologist",
          "internist",
          "cardiologist",
          "orthopedist",
          "gastroenterologist",
          "neurologist",
          "infectious disease",
          "pediatrician",
          "oncologist",
          "obgyn",
          "neurologist",
          "rheumatologist",
          "internist",
          "cardiologist",
          "pediatrician",
          "orthopedist",
          "infectious disease",
          "internist",
          "obgyn",
          "cardiologist",
          "oncologist",
          "obgyn",
          "cardiologist",
          "pediatrician",
          "pediatrician",
          "psychologist",
          "oncologist",
          "neurologist",
          "internist",
          "ENT",
          "internist",
          "cardiologist",
          "orthopedist",
          "neurologist",
          "gastroenterologist",
          "dermatologist",
          "neurologist",
          "gastroenterologist",
          "dermatologist",
          "gastroenterologist",
          "dermatologist",
          "neurologist",
          "ENT",
          "oncologist",
          "gastroenterologist",
          "pediatrician",
          "orthopedist",
          "psychologist",
          "ENT",
          "oncologist",
          "gastroenterologist",
          "neurologist",
          "gastroenterologist",
          "ENT",
          "orthopedist",
          "dermatologist",
          "neurologist",
          "pediatrician",
          "neurologist",
          "gastroenterologist",
          "endocrinologist",
          "ENT",
          "infectious disease",
          "orthopedist",
          "cardiologist",
          "urologist",
          "neurologist",
          "neurologist",
          "psychologist",
          "endocrinologist",
          "cardiologist",
          "pediatrician",
          "dermatologist",
          "cardiologist",
          "bariatrician",
          "neurologist",
          "ophthamologist",
          "dermatologist",
          "cardiologist",
          "dermatologist",
          "neurologist",
          "neurologist",
          "endocrinologist",
          "dentist",
          "ophthamologist",
          "neurologist",
          "infectious disease",
          "obgyn",
          "gastroenterologist",
          "obgyn",
          "obgyn",
          "pulmonologist",
          "obgyn",
          "internist",
          "gastroenterologist",
          "ophthamologist",
          "gastroenterologist",
          "gastroenterologist",
          "obgyn",
          "ophthamologist",
          "neurologist",
          "gastroenterologist",
          "orthopedist",
          "urologist",
          "pediatrician",
          "infectious disease",
          "ophthamologist",
          "neurologist",
          "dermatologist",
          "infectious disease",
          "cardiologist",
          "endocrinologist",
          "neurologist",
          "neurologist",
          "oncologist",
          "neurologist",
          "neurologist",
          "bariatrician",
          "orthopedist",
          "pediatrician",
          "urologist",
          "neurologist",
          "neurologist",
          "orthopedist",
          "pediatrician",
          "internist",
          "neurologist",
          "obgyn",
          "neurologist",
          "dentist",
          "infectious disease",
          "gastroenterologist",
          "oncologist",
          "oncologist",
          "endocrinologist",
          "infectious disease",
          "orthopedist",
          "neurologist",
          "rheumatologist",
          "pediatrician",
          "neurologist",
          "dermatologist",
          "neurologist",
          "gastroenterologist",
          "neurologist",
          "urologist",
          "orthopedist",
          "orthopedist",
          "bariatrician",
          "pulmonologist",
          "pediatrician",
          "internist",
          "cardiologist",
          "pediatrician",
          "urologist",
          "gastroenterologist",
          "neurologist",
          "obgyn",
          "endocrinologist",
          "obgyn",
          "neurologist",
          "gastroenterologist",
          "internist",
          "internist",
          "gastroenterologist",
          "oncologist",
          "gastroenterologist",
          "gastroenterologist",
          "gastroenterologist",
          "gastroenterologist",
          "urologist",
          "gastroenterologist",
          "infectious disease",
          "oncologist",
          "obgyn",
          "neurologist",
          "neurologist",
          "gastroenterologist",
          "obgyn",
          "neurologist",
          "orthopedist",
          "oncologist",
          "urologist",
          "neurologist",
          "gastroenterologist",
          "neurologist",
          "cardiologist",
          "infectious disease",
          "ophthamologist",
          "ophthamologist",
          "gastroenterologist",
          "internist",
          "obgyn",
          "internist",
          "cardiologist",
          "internist",
          "orthopedist",
          "internist",
          "obgyn",
          "gastroenterologist",
          "internist",
          "oncologist",
          "neurologist",
          "endocrinologist",
          "oncologist",
          "urologist",
          "infectious disease",
          "neurologist",
          "dermatologist",
          "ophthamologist",
          "psychologist",
          "dermatologist",
          "pediatrician",
          "dermatologist",
          "dermatologist",
          "internist",
          "obgyn",
          "pulmonologist",
          "endocrinologist",
          "pulmonologist",
          "urologist",
          "oncologist",
          "pediatrician",
          "neurologist",
          "bariatrician",
          "dermatologist",
          "internist",
          "orthopedist",
          "dermatologist",
          "pediatrician",
          "infectious disease",
          "internist",
          "ENT",
          "neurologist",
          "endocrinologist",
          "obgyn",
          "oncologist",
          "neurologist",
          "rheumatologist",
          "pediatrician",
          "neurologist",
          "dermatologist",
          "obgyn",
          "pediatrician",
          "internist",
          "obgyn",
          "internist",
          "internist",
          "internist",
          "cardiologist",
          "pulmonologist",
          "internist",
          "orthopedist",
          "endocrinologist",
          "gastroenterologist",
          "neurologist",
          "neurologist",
          "pediatrician",
          "cardiologist",
          "neurologist",
          "neurologist",
          "obgyn",
          "neurologist",
          "urologist",
          "gastroenterologist",
          "dermatologist",
          "pediatrician",
          "ophthamologist",
          "orthopedist",
          "urologist",
          "gastroenterologist",
          "neurologist",
          "internist",
          "orthopedist",
          "pediatrician",
          "dermatologist",
          "pediatrician",
          "ENT",
          "neurologist",
          "ENT",
          "cardiologist",
          "neurologist",
          "cardiologist",
          "oncologist",
          "pediatrician",
          "gastroenterologist",
          "gastroenterologist",
          "pulmonologist",
          "orthopedist",
          "dermatologist",
          "neurologist",
          "pulmonologist",
          "neurologist",
          "orthopedist",
          "neurologist",
          "gastroenterologist",
          "cardiologist",
          "obgyn",
          "neurologist",
          "urologist",
          "internist",
          "endocrinologist",
          "pulmonologist",
          "neurologist",
          "urologist",
          "ophthamologist",
          "endocrinologist",
          "pulmonologist",
          "internist",
          "orthopedist",
          "pulmonologist",
          "internist",
          "orthopedist",
          "ophthamologist",
          "pulmonologist",
          "cardiologist",
          "endocrinologist",
          "internist",
          "endocrinologist",
          "cardiologist",
          "dermatologist",
          "infectious disease",
          "urologist",
          "urologist",
          "pulmonologist",
          "dermatologist",
          "cardiologist",
          "pulmonologist",
          "internist",
          "gastroenterologist",
          "neurologist",
          "rheumatologist",
          "dermatologist",
          "gastroenterologist",
          "internist",
          "internist",
          "dermatologist",
          "internist",
          "neurologist",
          "ophthamologist",
          "neurologist",
          "ophthamologist",
          "gastroenterologist",
          "orthopedist",
          "urologist",
          "orthopedist",
          "obgyn",
          "internist",
          "cardiologist",
          "oncologist",
          "internist",
          "dermatologist",
          "pulmonologist",
          "dentist",
          "cardiologist",
          "dermatologist",
          "cardiologist",
          "endocrinologist",
          "endocrinologist",
          "neurologist",
          "orthopedist",
          "pediatrician",
          "internist",
          "neurologist",
          "internist",
          "psychologist",
          "orthopedist",
          "gastroenterologist",
          "urologist",
          "psychologist",
          "orthopedist",
          "neurologist",
          "cardiologist",
          "ophthamologist",
          "oncologist",
          "neurologist",
          "ophthamologist",
          "cardiologist",
          "rheumatologist",
          "neurologist",
          "orthopedist",
          "cardiologist",
          "endocrinologist",
          "pediatrician",
          "urologist",
          "cardiologist",
          "obgyn",
          "obgyn",
          "orthopedist",
          "ENT",
          "ENT",
          "ENT",
          "orthopedist",
          "gastroenterologist",
          "gastroenterologist",
          "gastroenterologist",
          "pulmonologist",
          "cardiologist",
          "gastroenterologist",
          "rheumatologist",
          "psychologist",
          "obgyn",
          "internist",
          "pediatrician",
          "endocrinologist",
          "neurologist",
          "pediatrician",
          "neurologist",
          "ophthamologist",
          "obgyn",
          "infectious disease",
          "rheumatologist",
          "infectious disease",
          "obgyn",
          "obgyn",
          "cardiologist",
          "internist",
          "rheumatologist",
          "oncologist",
          "orthopedist",
          "dermatologist",
          "psychologist",
          "gastroenterologist",
          "orthopedist",
          "endocrinologist",
          "dermatologist",
          "oncologist",
          "gastroenterologist",
          "dermatologist",
          "psychologist",
          "pediatrician",
          "ophthamologist",
          "infectious disease",
          "urologist",
          "internist",
          "pediatrician",
          "orthopedist",
          "internist",
          "neurologist",
          "obgyn",
          "gastroenterologist",
          "neurologist",
          "oncologist",
          "ENT",
          "internist",
          "cardiologist",
          "obgyn",
          "pediatrician",
          "neurologist",
          "bariatrician",
          "ophthamologist",
          "gastroenterologist",
          "cardiologist",
          "internist",
          "obgyn",
          "urologist",
          "pediatrician",
          "internist",
          "endocrinologist",
          "neurologist",
          "pediatrician",
          "dermatologist",
          "neurologist",
          "neurologist",
          "endocrinologist",
          "infectious disease",
          "ophthamologist",
          "gastroenterologist",
          "orthopedist",
          "orthopedist",
          "oncologist",
          "pulmonologist",
          "gastroenterologist",
          "ENT",
          "endocrinologist",
          "neurologist",
          "pulmonologist",
          "ophthamologist"
         ],
         "xaxis": "x",
         "yaxis": "y"
        }
       ],
       "layout": {
        "autosize": true,
        "barmode": "relative",
        "legend": {
         "title": {
          "text": "variable"
         },
         "tracegroupgap": 0
        },
        "margin": {
         "t": 60
        },
        "template": {
         "data": {
          "bar": [
           {
            "error_x": {
             "color": "#2a3f5f"
            },
            "error_y": {
             "color": "#2a3f5f"
            },
            "marker": {
             "line": {
              "color": "#E5ECF6",
              "width": 0.5
             },
             "pattern": {
              "fillmode": "overlay",
              "size": 10,
              "solidity": 0.2
             }
            },
            "type": "bar"
           }
          ],
          "barpolar": [
           {
            "marker": {
             "line": {
              "color": "#E5ECF6",
              "width": 0.5
             },
             "pattern": {
              "fillmode": "overlay",
              "size": 10,
              "solidity": 0.2
             }
            },
            "type": "barpolar"
           }
          ],
          "carpet": [
           {
            "aaxis": {
             "endlinecolor": "#2a3f5f",
             "gridcolor": "white",
             "linecolor": "white",
             "minorgridcolor": "white",
             "startlinecolor": "#2a3f5f"
            },
            "baxis": {
             "endlinecolor": "#2a3f5f",
             "gridcolor": "white",
             "linecolor": "white",
             "minorgridcolor": "white",
             "startlinecolor": "#2a3f5f"
            },
            "type": "carpet"
           }
          ],
          "choropleth": [
           {
            "colorbar": {
             "outlinewidth": 0,
             "ticks": ""
            },
            "type": "choropleth"
           }
          ],
          "contour": [
           {
            "colorbar": {
             "outlinewidth": 0,
             "ticks": ""
            },
            "colorscale": [
             [
              0,
              "#0d0887"
             ],
             [
              0.1111111111111111,
              "#46039f"
             ],
             [
              0.2222222222222222,
              "#7201a8"
             ],
             [
              0.3333333333333333,
              "#9c179e"
             ],
             [
              0.4444444444444444,
              "#bd3786"
             ],
             [
              0.5555555555555556,
              "#d8576b"
             ],
             [
              0.6666666666666666,
              "#ed7953"
             ],
             [
              0.7777777777777778,
              "#fb9f3a"
             ],
             [
              0.8888888888888888,
              "#fdca26"
             ],
             [
              1,
              "#f0f921"
             ]
            ],
            "type": "contour"
           }
          ],
          "contourcarpet": [
           {
            "colorbar": {
             "outlinewidth": 0,
             "ticks": ""
            },
            "type": "contourcarpet"
           }
          ],
          "heatmap": [
           {
            "colorbar": {
             "outlinewidth": 0,
             "ticks": ""
            },
            "colorscale": [
             [
              0,
              "#0d0887"
             ],
             [
              0.1111111111111111,
              "#46039f"
             ],
             [
              0.2222222222222222,
              "#7201a8"
             ],
             [
              0.3333333333333333,
              "#9c179e"
             ],
             [
              0.4444444444444444,
              "#bd3786"
             ],
             [
              0.5555555555555556,
              "#d8576b"
             ],
             [
              0.6666666666666666,
              "#ed7953"
             ],
             [
              0.7777777777777778,
              "#fb9f3a"
             ],
             [
              0.8888888888888888,
              "#fdca26"
             ],
             [
              1,
              "#f0f921"
             ]
            ],
            "type": "heatmap"
           }
          ],
          "heatmapgl": [
           {
            "colorbar": {
             "outlinewidth": 0,
             "ticks": ""
            },
            "colorscale": [
             [
              0,
              "#0d0887"
             ],
             [
              0.1111111111111111,
              "#46039f"
             ],
             [
              0.2222222222222222,
              "#7201a8"
             ],
             [
              0.3333333333333333,
              "#9c179e"
             ],
             [
              0.4444444444444444,
              "#bd3786"
             ],
             [
              0.5555555555555556,
              "#d8576b"
             ],
             [
              0.6666666666666666,
              "#ed7953"
             ],
             [
              0.7777777777777778,
              "#fb9f3a"
             ],
             [
              0.8888888888888888,
              "#fdca26"
             ],
             [
              1,
              "#f0f921"
             ]
            ],
            "type": "heatmapgl"
           }
          ],
          "histogram": [
           {
            "marker": {
             "pattern": {
              "fillmode": "overlay",
              "size": 10,
              "solidity": 0.2
             }
            },
            "type": "histogram"
           }
          ],
          "histogram2d": [
           {
            "colorbar": {
             "outlinewidth": 0,
             "ticks": ""
            },
            "colorscale": [
             [
              0,
              "#0d0887"
             ],
             [
              0.1111111111111111,
              "#46039f"
             ],
             [
              0.2222222222222222,
              "#7201a8"
             ],
             [
              0.3333333333333333,
              "#9c179e"
             ],
             [
              0.4444444444444444,
              "#bd3786"
             ],
             [
              0.5555555555555556,
              "#d8576b"
             ],
             [
              0.6666666666666666,
              "#ed7953"
             ],
             [
              0.7777777777777778,
              "#fb9f3a"
             ],
             [
              0.8888888888888888,
              "#fdca26"
             ],
             [
              1,
              "#f0f921"
             ]
            ],
            "type": "histogram2d"
           }
          ],
          "histogram2dcontour": [
           {
            "colorbar": {
             "outlinewidth": 0,
             "ticks": ""
            },
            "colorscale": [
             [
              0,
              "#0d0887"
             ],
             [
              0.1111111111111111,
              "#46039f"
             ],
             [
              0.2222222222222222,
              "#7201a8"
             ],
             [
              0.3333333333333333,
              "#9c179e"
             ],
             [
              0.4444444444444444,
              "#bd3786"
             ],
             [
              0.5555555555555556,
              "#d8576b"
             ],
             [
              0.6666666666666666,
              "#ed7953"
             ],
             [
              0.7777777777777778,
              "#fb9f3a"
             ],
             [
              0.8888888888888888,
              "#fdca26"
             ],
             [
              1,
              "#f0f921"
             ]
            ],
            "type": "histogram2dcontour"
           }
          ],
          "mesh3d": [
           {
            "colorbar": {
             "outlinewidth": 0,
             "ticks": ""
            },
            "type": "mesh3d"
           }
          ],
          "parcoords": [
           {
            "line": {
             "colorbar": {
              "outlinewidth": 0,
              "ticks": ""
             }
            },
            "type": "parcoords"
           }
          ],
          "pie": [
           {
            "automargin": true,
            "type": "pie"
           }
          ],
          "scatter": [
           {
            "fillpattern": {
             "fillmode": "overlay",
             "size": 10,
             "solidity": 0.2
            },
            "type": "scatter"
           }
          ],
          "scatter3d": [
           {
            "line": {
             "colorbar": {
              "outlinewidth": 0,
              "ticks": ""
             }
            },
            "marker": {
             "colorbar": {
              "outlinewidth": 0,
              "ticks": ""
             }
            },
            "type": "scatter3d"
           }
          ],
          "scattercarpet": [
           {
            "marker": {
             "colorbar": {
              "outlinewidth": 0,
              "ticks": ""
             }
            },
            "type": "scattercarpet"
           }
          ],
          "scattergeo": [
           {
            "marker": {
             "colorbar": {
              "outlinewidth": 0,
              "ticks": ""
             }
            },
            "type": "scattergeo"
           }
          ],
          "scattergl": [
           {
            "marker": {
             "colorbar": {
              "outlinewidth": 0,
              "ticks": ""
             }
            },
            "type": "scattergl"
           }
          ],
          "scattermapbox": [
           {
            "marker": {
             "colorbar": {
              "outlinewidth": 0,
              "ticks": ""
             }
            },
            "type": "scattermapbox"
           }
          ],
          "scatterpolar": [
           {
            "marker": {
             "colorbar": {
              "outlinewidth": 0,
              "ticks": ""
             }
            },
            "type": "scatterpolar"
           }
          ],
          "scatterpolargl": [
           {
            "marker": {
             "colorbar": {
              "outlinewidth": 0,
              "ticks": ""
             }
            },
            "type": "scatterpolargl"
           }
          ],
          "scatterternary": [
           {
            "marker": {
             "colorbar": {
              "outlinewidth": 0,
              "ticks": ""
             }
            },
            "type": "scatterternary"
           }
          ],
          "surface": [
           {
            "colorbar": {
             "outlinewidth": 0,
             "ticks": ""
            },
            "colorscale": [
             [
              0,
              "#0d0887"
             ],
             [
              0.1111111111111111,
              "#46039f"
             ],
             [
              0.2222222222222222,
              "#7201a8"
             ],
             [
              0.3333333333333333,
              "#9c179e"
             ],
             [
              0.4444444444444444,
              "#bd3786"
             ],
             [
              0.5555555555555556,
              "#d8576b"
             ],
             [
              0.6666666666666666,
              "#ed7953"
             ],
             [
              0.7777777777777778,
              "#fb9f3a"
             ],
             [
              0.8888888888888888,
              "#fdca26"
             ],
             [
              1,
              "#f0f921"
             ]
            ],
            "type": "surface"
           }
          ],
          "table": [
           {
            "cells": {
             "fill": {
              "color": "#EBF0F8"
             },
             "line": {
              "color": "white"
             }
            },
            "header": {
             "fill": {
              "color": "#C8D4E3"
             },
             "line": {
              "color": "white"
             }
            },
            "type": "table"
           }
          ]
         },
         "layout": {
          "annotationdefaults": {
           "arrowcolor": "#2a3f5f",
           "arrowhead": 0,
           "arrowwidth": 1
          },
          "autotypenumbers": "strict",
          "coloraxis": {
           "colorbar": {
            "outlinewidth": 0,
            "ticks": ""
           }
          },
          "colorscale": {
           "diverging": [
            [
             0,
             "#8e0152"
            ],
            [
             0.1,
             "#c51b7d"
            ],
            [
             0.2,
             "#de77ae"
            ],
            [
             0.3,
             "#f1b6da"
            ],
            [
             0.4,
             "#fde0ef"
            ],
            [
             0.5,
             "#f7f7f7"
            ],
            [
             0.6,
             "#e6f5d0"
            ],
            [
             0.7,
             "#b8e186"
            ],
            [
             0.8,
             "#7fbc41"
            ],
            [
             0.9,
             "#4d9221"
            ],
            [
             1,
             "#276419"
            ]
           ],
           "sequential": [
            [
             0,
             "#0d0887"
            ],
            [
             0.1111111111111111,
             "#46039f"
            ],
            [
             0.2222222222222222,
             "#7201a8"
            ],
            [
             0.3333333333333333,
             "#9c179e"
            ],
            [
             0.4444444444444444,
             "#bd3786"
            ],
            [
             0.5555555555555556,
             "#d8576b"
            ],
            [
             0.6666666666666666,
             "#ed7953"
            ],
            [
             0.7777777777777778,
             "#fb9f3a"
            ],
            [
             0.8888888888888888,
             "#fdca26"
            ],
            [
             1,
             "#f0f921"
            ]
           ],
           "sequentialminus": [
            [
             0,
             "#0d0887"
            ],
            [
             0.1111111111111111,
             "#46039f"
            ],
            [
             0.2222222222222222,
             "#7201a8"
            ],
            [
             0.3333333333333333,
             "#9c179e"
            ],
            [
             0.4444444444444444,
             "#bd3786"
            ],
            [
             0.5555555555555556,
             "#d8576b"
            ],
            [
             0.6666666666666666,
             "#ed7953"
            ],
            [
             0.7777777777777778,
             "#fb9f3a"
            ],
            [
             0.8888888888888888,
             "#fdca26"
            ],
            [
             1,
             "#f0f921"
            ]
           ]
          },
          "colorway": [
           "#636efa",
           "#EF553B",
           "#00cc96",
           "#ab63fa",
           "#FFA15A",
           "#19d3f3",
           "#FF6692",
           "#B6E880",
           "#FF97FF",
           "#FECB52"
          ],
          "font": {
           "color": "#2a3f5f"
          },
          "geo": {
           "bgcolor": "white",
           "lakecolor": "white",
           "landcolor": "#E5ECF6",
           "showlakes": true,
           "showland": true,
           "subunitcolor": "white"
          },
          "hoverlabel": {
           "align": "left"
          },
          "hovermode": "closest",
          "mapbox": {
           "style": "light"
          },
          "paper_bgcolor": "white",
          "plot_bgcolor": "#E5ECF6",
          "polar": {
           "angularaxis": {
            "gridcolor": "white",
            "linecolor": "white",
            "ticks": ""
           },
           "bgcolor": "#E5ECF6",
           "radialaxis": {
            "gridcolor": "white",
            "linecolor": "white",
            "ticks": ""
           }
          },
          "scene": {
           "xaxis": {
            "backgroundcolor": "#E5ECF6",
            "gridcolor": "white",
            "gridwidth": 2,
            "linecolor": "white",
            "showbackground": true,
            "ticks": "",
            "zerolinecolor": "white"
           },
           "yaxis": {
            "backgroundcolor": "#E5ECF6",
            "gridcolor": "white",
            "gridwidth": 2,
            "linecolor": "white",
            "showbackground": true,
            "ticks": "",
            "zerolinecolor": "white"
           },
           "zaxis": {
            "backgroundcolor": "#E5ECF6",
            "gridcolor": "white",
            "gridwidth": 2,
            "linecolor": "white",
            "showbackground": true,
            "ticks": "",
            "zerolinecolor": "white"
           }
          },
          "shapedefaults": {
           "line": {
            "color": "#2a3f5f"
           }
          },
          "ternary": {
           "aaxis": {
            "gridcolor": "white",
            "linecolor": "white",
            "ticks": ""
           },
           "baxis": {
            "gridcolor": "white",
            "linecolor": "white",
            "ticks": ""
           },
           "bgcolor": "#E5ECF6",
           "caxis": {
            "gridcolor": "white",
            "linecolor": "white",
            "ticks": ""
           }
          },
          "title": {
           "x": 0.05
          },
          "xaxis": {
           "automargin": true,
           "gridcolor": "white",
           "linecolor": "white",
           "ticks": "",
           "title": {
            "standoff": 15
           },
           "zerolinecolor": "white",
           "zerolinewidth": 2
          },
          "yaxis": {
           "automargin": true,
           "gridcolor": "white",
           "linecolor": "white",
           "ticks": "",
           "title": {
            "standoff": 15
           },
           "zerolinecolor": "white",
           "zerolinewidth": 2
          }
         }
        },
        "xaxis": {
         "anchor": "y",
         "autorange": true,
         "domain": [
          0,
          1
         ],
         "range": [
          -0.5,
          19.5
         ],
         "title": {
          "text": "value"
         },
         "type": "category"
        },
        "yaxis": {
         "anchor": "x",
         "autorange": true,
         "domain": [
          0,
          1
         ],
         "range": [
          0,
          118.94736842105263
         ],
         "title": {
          "text": "count"
         }
        }
       }
      },
      "image/png": "[encoded data removed]"
     },
     "metadata": {},
     "output_type": "display_data"
    }
   ],
   "source": [
    "px.histogram(data_frame=questions['specialty'][questions['specialty'] != 'pharmacist'])"
   ]
  },
  {
   "cell_type": "code",
   "execution_count": 15,
   "id": "f91fae51-6c78-4330-9a14-8c5811eefa70",
   "metadata": {},
   "outputs": [
    {
     "data": {
      "text/html": [
       "<div>\n",
       "<style scoped>\n",
       "    .dataframe tbody tr th:only-of-type {\n",
       "        vertical-align: middle;\n",
       "    }\n",
       "\n",
       "    .dataframe tbody tr th {\n",
       "        vertical-align: top;\n",
       "    }\n",
       "\n",
       "    .dataframe thead th {\n",
       "        text-align: right;\n",
       "    }\n",
       "</style>\n",
       "<table border=\"1\" class=\"dataframe\">\n",
       "  <thead>\n",
       "    <tr style=\"text-align: right;\">\n",
       "      <th></th>\n",
       "      <th>message</th>\n",
       "      <th>Summary</th>\n",
       "      <th>specialty</th>\n",
       "    </tr>\n",
       "  </thead>\n",
       "  <tbody>\n",
       "    <tr>\n",
       "      <th>855</th>\n",
       "      <td>SUBJECT: taking oxycodone 5mg\\n MESSAGE: what will happen to me if my doctors just stop my oxycodone 5mg 2 every 4 hours and iv been on it for three ahalf weeks? and how do i have them wean me off slowly?</td>\n",
       "      <td>How do I stop taking oxycodone?</td>\n",
       "      <td>pharmacist</td>\n",
       "    </tr>\n",
       "  </tbody>\n",
       "</table>\n",
       "</div>"
      ],
      "text/plain": [
       "                                                                                                                                                                                                          message  \\\n",
       "855  SUBJECT: taking oxycodone 5mg\\n MESSAGE: what will happen to me if my doctors just stop my oxycodone 5mg 2 every 4 hours and iv been on it for three ahalf weeks? and how do i have them wean me off slowly?   \n",
       "\n",
       "                             Summary   specialty  \n",
       "855  How do I stop taking oxycodone?  pharmacist  "
      ]
     },
     "execution_count": 15,
     "metadata": {},
     "output_type": "execute_result"
    }
   ],
   "source": [
    "pd.options.display.max_colwidth = 1000\n",
    "\n",
    "questions[['message', 'Summary', 'specialty']].iloc[[np.random.randint(0,1000)]]"
   ]
  },
  {
   "cell_type": "code",
   "execution_count": 16,
   "id": "762019c6-8120-4af3-9b04-ab0f07107015",
   "metadata": {},
   "outputs": [
    {
     "data": {
      "text/html": [
       "<div>\n",
       "<style scoped>\n",
       "    .dataframe tbody tr th:only-of-type {\n",
       "        vertical-align: middle;\n",
       "    }\n",
       "\n",
       "    .dataframe tbody tr th {\n",
       "        vertical-align: top;\n",
       "    }\n",
       "\n",
       "    .dataframe thead th {\n",
       "        text-align: right;\n",
       "    }\n",
       "</style>\n",
       "<table border=\"1\" class=\"dataframe\">\n",
       "  <thead>\n",
       "    <tr style=\"text-align: right;\">\n",
       "      <th></th>\n",
       "      <th>message</th>\n",
       "      <th>Summary</th>\n",
       "      <th>specialty</th>\n",
       "    </tr>\n",
       "  </thead>\n",
       "  <tbody>\n",
       "    <tr>\n",
       "      <th>264</th>\n",
       "      <td>SUBJECT: Before I get married\\n MESSAGE: Can this help when I marry the Girl I'mWith ( In vitro) her family has something cAlled Pheochromocytoma Paraganglioma only her brother and father have it. She is just a carrier. Will you think In vitro might prevent it if we have kids?</td>\n",
       "      <td>How is Pheochromocytoma Paraganglioma inherited?</td>\n",
       "      <td>pharmacist</td>\n",
       "    </tr>\n",
       "  </tbody>\n",
       "</table>\n",
       "</div>"
      ],
      "text/plain": [
       "                                                                                                                                                                                                                                                                                   message  \\\n",
       "264  SUBJECT: Before I get married\\n MESSAGE: Can this help when I marry the Girl I'mWith ( In vitro) her family has something cAlled Pheochromocytoma Paraganglioma only her brother and father have it. She is just a carrier. Will you think In vitro might prevent it if we have kids?   \n",
       "\n",
       "                                              Summary   specialty  \n",
       "264  How is Pheochromocytoma Paraganglioma inherited?  pharmacist  "
      ]
     },
     "execution_count": 16,
     "metadata": {},
     "output_type": "execute_result"
    }
   ],
   "source": [
    "questions[['message', 'Summary', 'specialty']].iloc[[np.random.randint(0,1000)]]"
   ]
  },
  {
   "cell_type": "code",
   "execution_count": 17,
   "id": "eafb676f-8e4f-4665-88af-ff4b86ad1aa3",
   "metadata": {},
   "outputs": [
    {
     "data": {
      "text/html": [
       "<div>\n",
       "<style scoped>\n",
       "    .dataframe tbody tr th:only-of-type {\n",
       "        vertical-align: middle;\n",
       "    }\n",
       "\n",
       "    .dataframe tbody tr th {\n",
       "        vertical-align: top;\n",
       "    }\n",
       "\n",
       "    .dataframe thead th {\n",
       "        text-align: right;\n",
       "    }\n",
       "</style>\n",
       "<table border=\"1\" class=\"dataframe\">\n",
       "  <thead>\n",
       "    <tr style=\"text-align: right;\">\n",
       "      <th></th>\n",
       "      <th>message</th>\n",
       "      <th>Summary</th>\n",
       "      <th>specialty</th>\n",
       "    </tr>\n",
       "  </thead>\n",
       "  <tbody>\n",
       "    <tr>\n",
       "      <th>147</th>\n",
       "      <td>SUBJECT: health\\n MESSAGE: I have been bleeding since 2010 and I have been having sharp pain on my left stomach since 2014 and my stomach is so big and I feel weak I have don a lot of test and nothing was seen. What could be wrong with me? And how can I conquer?</td>\n",
       "      <td>What are the causes of abdominal pain and swelling?</td>\n",
       "      <td>gastroenterologist</td>\n",
       "    </tr>\n",
       "  </tbody>\n",
       "</table>\n",
       "</div>"
      ],
      "text/plain": [
       "                                                                                                                                                                                                                                                                    message  \\\n",
       "147  SUBJECT: health\\n MESSAGE: I have been bleeding since 2010 and I have been having sharp pain on my left stomach since 2014 and my stomach is so big and I feel weak I have don a lot of test and nothing was seen. What could be wrong with me? And how can I conquer?   \n",
       "\n",
       "                                                 Summary           specialty  \n",
       "147  What are the causes of abdominal pain and swelling?  gastroenterologist  "
      ]
     },
     "execution_count": 17,
     "metadata": {},
     "output_type": "execute_result"
    }
   ],
   "source": [
    "questions[['message', 'Summary', 'specialty']].iloc[[np.random.randint(0,1000)]]"
   ]
  },
  {
   "cell_type": "code",
   "execution_count": 18,
   "id": "d32c22bf-b9f3-4bbd-b2fd-68e96aea41a9",
   "metadata": {},
   "outputs": [
    {
     "data": {
      "text/html": [
       "<div>\n",
       "<style scoped>\n",
       "    .dataframe tbody tr th:only-of-type {\n",
       "        vertical-align: middle;\n",
       "    }\n",
       "\n",
       "    .dataframe tbody tr th {\n",
       "        vertical-align: top;\n",
       "    }\n",
       "\n",
       "    .dataframe thead th {\n",
       "        text-align: right;\n",
       "    }\n",
       "</style>\n",
       "<table border=\"1\" class=\"dataframe\">\n",
       "  <thead>\n",
       "    <tr style=\"text-align: right;\">\n",
       "      <th></th>\n",
       "      <th>message</th>\n",
       "      <th>Summary</th>\n",
       "      <th>specialty</th>\n",
       "    </tr>\n",
       "  </thead>\n",
       "  <tbody>\n",
       "    <tr>\n",
       "      <th>684</th>\n",
       "      <td>SUBJECT: Stroke from high blood pressure\\n MESSAGE: My mother is 90 yrs old recent high blood pressure minor stroke. She is sensitive w/ medication. Should she take Statin and Plavix?</td>\n",
       "      <td>What are drug treatments for high blood pressure and minor stroke in elderly?</td>\n",
       "      <td>cardiologist</td>\n",
       "    </tr>\n",
       "  </tbody>\n",
       "</table>\n",
       "</div>"
      ],
      "text/plain": [
       "                                                                                                                                                                                     message  \\\n",
       "684  SUBJECT: Stroke from high blood pressure\\n MESSAGE: My mother is 90 yrs old recent high blood pressure minor stroke. She is sensitive w/ medication. Should she take Statin and Plavix?   \n",
       "\n",
       "                                                                           Summary  \\\n",
       "684  What are drug treatments for high blood pressure and minor stroke in elderly?   \n",
       "\n",
       "        specialty  \n",
       "684  cardiologist  "
      ]
     },
     "execution_count": 18,
     "metadata": {},
     "output_type": "execute_result"
    }
   ],
   "source": [
    "questions[['message', 'Summary', 'specialty']].iloc[[np.random.randint(0,1000)]]"
   ]
  },
  {
   "cell_type": "code",
   "execution_count": 19,
   "id": "979c8e87-babb-43d3-b8d0-9af5efdf5ca6",
   "metadata": {},
   "outputs": [],
   "source": [
    "questions['message_word_count'] = [len(i.split()) for i in questions['message']]"
   ]
  },
  {
   "cell_type": "code",
   "execution_count": 20,
   "id": "2cea1139-959a-4ddb-8e58-3687d0597123",
   "metadata": {},
   "outputs": [
    {
     "data": {
      "text/html": [
       "<div>\n",
       "<style scoped>\n",
       "    .dataframe tbody tr th:only-of-type {\n",
       "        vertical-align: middle;\n",
       "    }\n",
       "\n",
       "    .dataframe tbody tr th {\n",
       "        vertical-align: top;\n",
       "    }\n",
       "\n",
       "    .dataframe thead th {\n",
       "        text-align: right;\n",
       "    }\n",
       "</style>\n",
       "<table border=\"1\" class=\"dataframe\">\n",
       "  <thead>\n",
       "    <tr style=\"text-align: right;\">\n",
       "      <th></th>\n",
       "      <th>File</th>\n",
       "      <th>message</th>\n",
       "      <th>binary</th>\n",
       "      <th>specialty</th>\n",
       "      <th>Summary</th>\n",
       "      <th>specialty.1</th>\n",
       "      <th>Unnamed: 6</th>\n",
       "      <th>message_word_count</th>\n",
       "    </tr>\n",
       "  </thead>\n",
       "  <tbody>\n",
       "    <tr>\n",
       "      <th>714</th>\n",
       "      <td>1-135983184.xml.txt</td>\n",
       "      <td>Hi All,\\n I am from India and really worried.\\n I have a 6 months old baby girl. I have read the article on Lactose intolerance. She is unable to digest any formula milk or any milk products. When she was a new born, I started giving her Lactogen (a formula milk) a little bit along with my milk. She was fine with it but after 3 weeks, I switched her to another formula milk named Nan Pro 0 which is for babies upto 1 year. She started drinking that along with my breast milk. After 2 weeks, she started getting Diarrhea and a severe one where she pooped at least 15 times in one day. Therefore, I consulted the doctor and the doctor immediately asked me to put her on breast milk only. I did try that but she was hungry and crying therefore, I gave her a little bit of formula milk aswell. She was file with all the medicines. However, once the medicine stooped, she again started getting diarrhea. This continued on and off.\\n After a while, the doctor asked me to stop the formula milk and st...</td>\n",
       "      <td>internist</td>\n",
       "      <td>pediatrician</td>\n",
       "      <td>Where can I get help for my 6 months old baby girl with Lactose intolerance in India?</td>\n",
       "      <td>NaN</td>\n",
       "      <td>NaN</td>\n",
       "      <td>378</td>\n",
       "    </tr>\n",
       "    <tr>\n",
       "      <th>642</th>\n",
       "      <td>11199.txt</td>\n",
       "      <td>ClinicalTrials.gov - Question - general information.\\n  Hello, \\n My name is [NAME],I am 30 years old and I am from [LOCATION]. I met my friend [NAME] on a chat room. [NAME] is 25 years old and he currently lives in [LOCATION], Algeria. His dad died, his brother died 2 years ago in a motorcycle accident and about 9 months ago my dear friend got into a car accident. In that car accident he suffered a T-6 and T-7 fracture which cause him to be paralyzed from his waist down. He is so young and it really hurts how much he has suffered in his short life. Not only him, but just thinking how much his mom has suffered it really breaks my heart. I asked him how or what can I do to help him, he did not asked for money or something like, he just said: \"Would you help me to research how to get cured?\". Since I met my friend there is no one day I have stopped thinking in what can I do to make his dream come true. I know we lives in an imperfect world and things happen to people but faith moves ...</td>\n",
       "      <td>internist</td>\n",
       "      <td>neurologist</td>\n",
       "      <td>Where can I get information about treatment for T-6 and T-7 fracture paraplegia?</td>\n",
       "      <td>NaN</td>\n",
       "      <td>NaN</td>\n",
       "      <td>348</td>\n",
       "    </tr>\n",
       "    <tr>\n",
       "      <th>640</th>\n",
       "      <td>1-132048350.xml.txt</td>\n",
       "      <td>Hello.\\n I am writing this mail from [LOCATION]. This in regards with seeking help for\\n Ulceratice colitis.\\n My mother is suffering from this diseases from last 3 Years. Her treatment\\n is going with [LOCATION] from past a\\n year and half.\\n Below are the symptoms of her disease :\\n 1. Mucas Pus flow in quantity while passing stool\\n 2. Blood flow while passing stool\\n 3. Heavy weakness\\n 4. Heavy and steady weight loss\\n 5. Weak Eyesight\\n 6. Heavy cramps after meal\\n 7. stomach pain sometimes after lifting heavy weight\\n 8. Poor appetite\\n Below are the medicines given by the doctor during the course :\\n Cap SonprazD, Tab Coolgut 1.5 , tab Falute, Mesacol Supporteries, Cap A to\\n Z , Tab siho fix, and Tab omnacortil , rabelco rd cap , coolgut , folvitc ,\\n entofoam , bevon , anovate.\\n She had undergone Colonoscopy , Endoscopy , Stool test , Urine tests and\\n Blood test many times ( i can mail the reports of all the above if needed\\n ). Her progress was very good at initial sta...</td>\n",
       "      <td>internist</td>\n",
       "      <td>gastroenterologist</td>\n",
       "      <td>Where can I get advice and help for ulceratice colitis?</td>\n",
       "      <td>NaN</td>\n",
       "      <td>NaN</td>\n",
       "      <td>341</td>\n",
       "    </tr>\n",
       "    <tr>\n",
       "      <th>802</th>\n",
       "      <td>12800.txt</td>\n",
       "      <td>I understand that you cannot provide opinions,nor suggest, any type of therpy. \\n My son (dob-[DATE]), was called back to the hospital four days after birth due to a abnormal PKU, which suggested adrenal hyperplasia. After test the endocrine physians felt he did not have the condition. Several years later he began having severe headaches preceded by violent vomiting epidodes \\n that lasted for hours. When he was admitted to [LOCATION], he was suffering from bleeding esphogal ulcers, and severe dehydration and, malnutrician. His urine (24 hr), blood plasma,&amp; VMA,showed increased values of catacholomines.He also demostrated intermittent hypertension, and tachcardia through out the day (he had been diagnoised with ADHD several years earlier). His MIGB clearly showed bifocal uptake in both adrenal glands. The mri did not show tumors at that time ([DATE]. He has since been diagnoised with antral polys (biosphy's taken were misplaced, and the gastrologist would not redo the test), aberra...</td>\n",
       "      <td>internist</td>\n",
       "      <td>endocrinologist</td>\n",
       "      <td>How can I find physician(s) or hospital(s) who specialize in pheochromocytomas?</td>\n",
       "      <td>NaN</td>\n",
       "      <td>NaN</td>\n",
       "      <td>328</td>\n",
       "    </tr>\n",
       "    <tr>\n",
       "      <th>392</th>\n",
       "      <td>1-135532945.xml.txt</td>\n",
       "      <td>SUBJECT: G6PD deficiency adopted 1957\\n MESSAGE: My primary care says that even though I have had three blood tests that all confirm I am totally lacking the G6PD that my deficiency is unsubstantiated. Other than expensive genetic testing how to I get them to confirm this? I want need this in my medical records and a bracelet or necklace or something to wear that I have this so they do not give me drugs and/or vitamins supplements that I should not have at all and make me worse or kill me? I am adopted and the records are still sealed and I have a son and a daughter and four grandchildren that could have had this deficiency passed on to them so you see why this is important to me. I got injured at work years ago and they gave me some kind of anesthesia I should not of had to find a bleeder on the inside and sew it and then they could not wake me up for two days. Also same job required that I get yellow fever shot every six months. No wonder I felt so awfull back then. I do not want...</td>\n",
       "      <td>internist</td>\n",
       "      <td>internist</td>\n",
       "      <td>How is G6PD deficiency inherited and diagnosed, and what are the treatments for it?</td>\n",
       "      <td>NaN</td>\n",
       "      <td>NaN</td>\n",
       "      <td>314</td>\n",
       "    </tr>\n",
       "  </tbody>\n",
       "</table>\n",
       "</div>"
      ],
      "text/plain": [
       "                    File  \\\n",
       "714  1-135983184.xml.txt   \n",
       "642            11199.txt   \n",
       "640  1-132048350.xml.txt   \n",
       "802            12800.txt   \n",
       "392  1-135532945.xml.txt   \n",
       "\n",
       "                                                                                                                                                                                                                                                                                                                                                                                                                                                                                                                                                                                                                                                                                                                                                                                                                                                                                                                                                                                                                                     message  \\\n",
       "714  Hi All,\\n I am from India and really worried.\\n I have a 6 months old baby girl. I have read the article on Lactose intolerance. She is unable to digest any formula milk or any milk products. When she was a new born, I started giving her Lactogen (a formula milk) a little bit along with my milk. She was fine with it but after 3 weeks, I switched her to another formula milk named Nan Pro 0 which is for babies upto 1 year. She started drinking that along with my breast milk. After 2 weeks, she started getting Diarrhea and a severe one where she pooped at least 15 times in one day. Therefore, I consulted the doctor and the doctor immediately asked me to put her on breast milk only. I did try that but she was hungry and crying therefore, I gave her a little bit of formula milk aswell. She was file with all the medicines. However, once the medicine stooped, she again started getting diarrhea. This continued on and off.\\n After a while, the doctor asked me to stop the formula milk and st...   \n",
       "642  ClinicalTrials.gov - Question - general information.\\n  Hello, \\n My name is [NAME],I am 30 years old and I am from [LOCATION]. I met my friend [NAME] on a chat room. [NAME] is 25 years old and he currently lives in [LOCATION], Algeria. His dad died, his brother died 2 years ago in a motorcycle accident and about 9 months ago my dear friend got into a car accident. In that car accident he suffered a T-6 and T-7 fracture which cause him to be paralyzed from his waist down. He is so young and it really hurts how much he has suffered in his short life. Not only him, but just thinking how much his mom has suffered it really breaks my heart. I asked him how or what can I do to help him, he did not asked for money or something like, he just said: \"Would you help me to research how to get cured?\". Since I met my friend there is no one day I have stopped thinking in what can I do to make his dream come true. I know we lives in an imperfect world and things happen to people but faith moves ...   \n",
       "640  Hello.\\n I am writing this mail from [LOCATION]. This in regards with seeking help for\\n Ulceratice colitis.\\n My mother is suffering from this diseases from last 3 Years. Her treatment\\n is going with [LOCATION] from past a\\n year and half.\\n Below are the symptoms of her disease :\\n 1. Mucas Pus flow in quantity while passing stool\\n 2. Blood flow while passing stool\\n 3. Heavy weakness\\n 4. Heavy and steady weight loss\\n 5. Weak Eyesight\\n 6. Heavy cramps after meal\\n 7. stomach pain sometimes after lifting heavy weight\\n 8. Poor appetite\\n Below are the medicines given by the doctor during the course :\\n Cap SonprazD, Tab Coolgut 1.5 , tab Falute, Mesacol Supporteries, Cap A to\\n Z , Tab siho fix, and Tab omnacortil , rabelco rd cap , coolgut , folvitc ,\\n entofoam , bevon , anovate.\\n She had undergone Colonoscopy , Endoscopy , Stool test , Urine tests and\\n Blood test many times ( i can mail the reports of all the above if needed\\n ). Her progress was very good at initial sta...   \n",
       "802  I understand that you cannot provide opinions,nor suggest, any type of therpy. \\n My son (dob-[DATE]), was called back to the hospital four days after birth due to a abnormal PKU, which suggested adrenal hyperplasia. After test the endocrine physians felt he did not have the condition. Several years later he began having severe headaches preceded by violent vomiting epidodes \\n that lasted for hours. When he was admitted to [LOCATION], he was suffering from bleeding esphogal ulcers, and severe dehydration and, malnutrician. His urine (24 hr), blood plasma,& VMA,showed increased values of catacholomines.He also demostrated intermittent hypertension, and tachcardia through out the day (he had been diagnoised with ADHD several years earlier). His MIGB clearly showed bifocal uptake in both adrenal glands. The mri did not show tumors at that time ([DATE]. He has since been diagnoised with antral polys (biosphy's taken were misplaced, and the gastrologist would not redo the test), aberra...   \n",
       "392  SUBJECT: G6PD deficiency adopted 1957\\n MESSAGE: My primary care says that even though I have had three blood tests that all confirm I am totally lacking the G6PD that my deficiency is unsubstantiated. Other than expensive genetic testing how to I get them to confirm this? I want need this in my medical records and a bracelet or necklace or something to wear that I have this so they do not give me drugs and/or vitamins supplements that I should not have at all and make me worse or kill me? I am adopted and the records are still sealed and I have a son and a daughter and four grandchildren that could have had this deficiency passed on to them so you see why this is important to me. I got injured at work years ago and they gave me some kind of anesthesia I should not of had to find a bleeder on the inside and sew it and then they could not wake me up for two days. Also same job required that I get yellow fever shot every six months. No wonder I felt so awfull back then. I do not want...   \n",
       "\n",
       "        binary           specialty  \\\n",
       "714  internist        pediatrician   \n",
       "642  internist         neurologist   \n",
       "640  internist  gastroenterologist   \n",
       "802  internist     endocrinologist   \n",
       "392  internist           internist   \n",
       "\n",
       "                                                                                   Summary  \\\n",
       "714  Where can I get help for my 6 months old baby girl with Lactose intolerance in India?   \n",
       "642       Where can I get information about treatment for T-6 and T-7 fracture paraplegia?   \n",
       "640                                Where can I get advice and help for ulceratice colitis?   \n",
       "802        How can I find physician(s) or hospital(s) who specialize in pheochromocytomas?   \n",
       "392    How is G6PD deficiency inherited and diagnosed, and what are the treatments for it?   \n",
       "\n",
       "    specialty.1 Unnamed: 6  message_word_count  \n",
       "714         NaN        NaN                 378  \n",
       "642         NaN        NaN                 348  \n",
       "640         NaN        NaN                 341  \n",
       "802         NaN        NaN                 328  \n",
       "392         NaN        NaN                 314  "
      ]
     },
     "execution_count": 20,
     "metadata": {},
     "output_type": "execute_result"
    }
   ],
   "source": [
    "questions.sort_values(by='message_word_count', ascending=False).head(5)"
   ]
  },
  {
   "cell_type": "code",
   "execution_count": 21,
   "id": "367b4295-f662-4ffa-a96e-cfd23c64a5d5",
   "metadata": {},
   "outputs": [
    {
     "data": {
      "text/html": [
       "<div>\n",
       "<style scoped>\n",
       "    .dataframe tbody tr th:only-of-type {\n",
       "        vertical-align: middle;\n",
       "    }\n",
       "\n",
       "    .dataframe tbody tr th {\n",
       "        vertical-align: top;\n",
       "    }\n",
       "\n",
       "    .dataframe thead th {\n",
       "        text-align: right;\n",
       "    }\n",
       "</style>\n",
       "<table border=\"1\" class=\"dataframe\">\n",
       "  <thead>\n",
       "    <tr style=\"text-align: right;\">\n",
       "      <th></th>\n",
       "      <th>File</th>\n",
       "      <th>message</th>\n",
       "      <th>binary</th>\n",
       "      <th>specialty</th>\n",
       "      <th>Summary</th>\n",
       "      <th>specialty.1</th>\n",
       "      <th>Unnamed: 6</th>\n",
       "      <th>message_word_count</th>\n",
       "    </tr>\n",
       "  </thead>\n",
       "  <tbody>\n",
       "    <tr>\n",
       "      <th>577</th>\n",
       "      <td>38.txt</td>\n",
       "      <td>cinca sindrome. where the treatment of cinca sindrome.</td>\n",
       "      <td>internist</td>\n",
       "      <td>pediatrician</td>\n",
       "      <td>What are the tratments for cinca syndrome?</td>\n",
       "      <td>NaN</td>\n",
       "      <td>NaN</td>\n",
       "      <td>8</td>\n",
       "    </tr>\n",
       "    <tr>\n",
       "      <th>946</th>\n",
       "      <td>5566.txt</td>\n",
       "      <td>Cross Eye.\\n  Need to fix my cross eyed</td>\n",
       "      <td>internist</td>\n",
       "      <td>ophthamologist</td>\n",
       "      <td>How to treat crossed eyes?</td>\n",
       "      <td>NaN</td>\n",
       "      <td>NaN</td>\n",
       "      <td>8</td>\n",
       "    </tr>\n",
       "    <tr>\n",
       "      <th>611</th>\n",
       "      <td>78.txt</td>\n",
       "      <td>are jumping genes[transposons] associated with lynch syndrome? [NAME]</td>\n",
       "      <td>internist</td>\n",
       "      <td>oncologist</td>\n",
       "      <td>Are jumping genes [transposons] associated with Lynch syndrome?</td>\n",
       "      <td>NaN</td>\n",
       "      <td>NaN</td>\n",
       "      <td>8</td>\n",
       "    </tr>\n",
       "    <tr>\n",
       "      <th>827</th>\n",
       "      <td>11352.txt</td>\n",
       "      <td>erection problems.\\n  how to get rid of erections?</td>\n",
       "      <td>internist</td>\n",
       "      <td>urologist</td>\n",
       "      <td>What are the treatments for erection problems?</td>\n",
       "      <td>NaN</td>\n",
       "      <td>NaN</td>\n",
       "      <td>8</td>\n",
       "    </tr>\n",
       "    <tr>\n",
       "      <th>759</th>\n",
       "      <td>11947.txt</td>\n",
       "      <td>bile.\\n  because reason vomit bile?</td>\n",
       "      <td>internist</td>\n",
       "      <td>gastroenterologist</td>\n",
       "      <td>What causes vomiting bile?</td>\n",
       "      <td>NaN</td>\n",
       "      <td>NaN</td>\n",
       "      <td>5</td>\n",
       "    </tr>\n",
       "  </tbody>\n",
       "</table>\n",
       "</div>"
      ],
      "text/plain": [
       "          File  \\\n",
       "577     38.txt   \n",
       "946   5566.txt   \n",
       "611     78.txt   \n",
       "827  11352.txt   \n",
       "759  11947.txt   \n",
       "\n",
       "                                                                   message  \\\n",
       "577                 cinca sindrome. where the treatment of cinca sindrome.   \n",
       "946                                Cross Eye.\\n  Need to fix my cross eyed   \n",
       "611  are jumping genes[transposons] associated with lynch syndrome? [NAME]   \n",
       "827                     erection problems.\\n  how to get rid of erections?   \n",
       "759                                    bile.\\n  because reason vomit bile?   \n",
       "\n",
       "        binary           specialty  \\\n",
       "577  internist        pediatrician   \n",
       "946  internist      ophthamologist   \n",
       "611  internist          oncologist   \n",
       "827  internist           urologist   \n",
       "759  internist  gastroenterologist   \n",
       "\n",
       "                                                             Summary  \\\n",
       "577                       What are the tratments for cinca syndrome?   \n",
       "946                                       How to treat crossed eyes?   \n",
       "611  Are jumping genes [transposons] associated with Lynch syndrome?   \n",
       "827                   What are the treatments for erection problems?   \n",
       "759                                       What causes vomiting bile?   \n",
       "\n",
       "    specialty.1 Unnamed: 6  message_word_count  \n",
       "577         NaN        NaN                   8  \n",
       "946         NaN        NaN                   8  \n",
       "611         NaN        NaN                   8  \n",
       "827         NaN        NaN                   8  \n",
       "759         NaN        NaN                   5  "
      ]
     },
     "execution_count": 21,
     "metadata": {},
     "output_type": "execute_result"
    }
   ],
   "source": [
    "questions.sort_values(by='message_word_count', ascending=False).tail(5)"
   ]
  },
  {
   "cell_type": "code",
   "execution_count": 22,
   "id": "9bd467c8-f865-4b10-b2dc-da0633d84488",
   "metadata": {},
   "outputs": [
    {
     "data": {
      "application/vnd.plotly.v1+json": {
       "config": {
        "plotlyServerURL": "https://plot.ly"
       },
       "data": [
        {
         "alignmentgroup": "True",
         "bingroup": "x",
         "hovertemplate": "message_word_count=%{x}<br>count=%{y}<extra></extra>",
         "legendgroup": "",
         "marker": {
          "color": "#636efa",
          "pattern": {
           "shape": ""
          }
         },
         "name": "",
         "nbinsx": 25,
         "offsetgroup": "",
         "orientation": "v",
         "showlegend": false,
         "type": "histogram",
         "x": [
          31,
          97,
          25,
          31,
          69,
          44,
          57,
          129,
          59,
          43,
          27,
          45,
          30,
          22,
          102,
          40,
          101,
          49,
          27,
          23,
          28,
          45,
          149,
          49,
          27,
          46,
          38,
          25,
          72,
          38,
          75,
          78,
          84,
          109,
          14,
          33,
          22,
          115,
          59,
          85,
          84,
          50,
          22,
          55,
          30,
          35,
          46,
          105,
          50,
          43,
          106,
          12,
          43,
          46,
          35,
          42,
          28,
          37,
          31,
          22,
          82,
          114,
          84,
          101,
          23,
          30,
          29,
          73,
          44,
          51,
          29,
          158,
          62,
          22,
          90,
          51,
          72,
          140,
          18,
          44,
          71,
          76,
          37,
          62,
          72,
          109,
          28,
          46,
          22,
          63,
          25,
          100,
          32,
          35,
          94,
          17,
          28,
          83,
          21,
          28,
          23,
          29,
          98,
          41,
          33,
          41,
          24,
          14,
          68,
          119,
          37,
          26,
          55,
          33,
          61,
          35,
          91,
          45,
          56,
          136,
          35,
          68,
          154,
          44,
          31,
          32,
          17,
          49,
          60,
          63,
          19,
          19,
          39,
          42,
          65,
          16,
          56,
          40,
          52,
          23,
          38,
          53,
          37,
          30,
          30,
          72,
          19,
          54,
          35,
          82,
          32,
          121,
          131,
          38,
          58,
          73,
          33,
          34,
          32,
          61,
          26,
          88,
          28,
          22,
          123,
          25,
          31,
          18,
          83,
          37,
          51,
          31,
          27,
          44,
          53,
          53,
          45,
          118,
          23,
          17,
          124,
          29,
          165,
          80,
          72,
          28,
          97,
          43,
          64,
          27,
          68,
          183,
          50,
          87,
          186,
          62,
          55,
          53,
          28,
          59,
          39,
          64,
          16,
          147,
          50,
          80,
          121,
          113,
          44,
          54,
          21,
          36,
          44,
          53,
          68,
          43,
          163,
          68,
          31,
          42,
          176,
          95,
          86,
          12,
          88,
          63,
          13,
          68,
          47,
          25,
          164,
          66,
          168,
          114,
          175,
          50,
          40,
          93,
          74,
          24,
          257,
          118,
          78,
          265,
          46,
          71,
          40,
          27,
          40,
          24,
          66,
          50,
          105,
          70,
          60,
          16,
          63,
          97,
          61,
          37,
          13,
          95,
          88,
          105,
          49,
          102,
          43,
          117,
          28,
          13,
          123,
          116,
          92,
          65,
          53,
          27,
          78,
          25,
          47,
          287,
          34,
          59,
          21,
          130,
          31,
          49,
          29,
          89,
          70,
          104,
          22,
          45,
          54,
          44,
          167,
          61,
          51,
          61,
          71,
          84,
          32,
          44,
          49,
          37,
          44,
          16,
          65,
          174,
          28,
          48,
          64,
          24,
          56,
          72,
          25,
          44,
          89,
          37,
          75,
          43,
          67,
          98,
          55,
          43,
          43,
          49,
          118,
          38,
          54,
          13,
          30,
          103,
          46,
          30,
          37,
          51,
          41,
          41,
          91,
          64,
          64,
          22,
          62,
          133,
          76,
          32,
          21,
          42,
          18,
          93,
          34,
          21,
          72,
          43,
          46,
          54,
          65,
          51,
          44,
          13,
          72,
          44,
          23,
          172,
          22,
          81,
          215,
          84,
          127,
          65,
          37,
          66,
          40,
          96,
          75,
          44,
          118,
          105,
          45,
          28,
          61,
          119,
          70,
          80,
          63,
          42,
          44,
          30,
          72,
          66,
          50,
          47,
          314,
          113,
          34,
          79,
          45,
          77,
          71,
          60,
          79,
          17,
          60,
          16,
          51,
          67,
          51,
          91,
          87,
          37,
          26,
          37,
          95,
          81,
          35,
          104,
          91,
          113,
          24,
          92,
          21,
          27,
          107,
          175,
          56,
          30,
          60,
          62,
          36,
          87,
          46,
          33,
          97,
          12,
          24,
          14,
          22,
          11,
          121,
          65,
          32,
          97,
          17,
          17,
          14,
          19,
          29,
          61,
          71,
          32,
          27,
          25,
          34,
          129,
          24,
          31,
          146,
          16,
          53,
          180,
          19,
          56,
          58,
          35,
          113,
          51,
          13,
          94,
          17,
          131,
          74,
          14,
          12,
          55,
          55,
          49,
          41,
          55,
          52,
          54,
          35,
          117,
          47,
          78,
          224,
          189,
          56,
          23,
          40,
          80,
          90,
          129,
          37,
          160,
          71,
          63,
          48,
          90,
          11,
          35,
          63,
          152,
          26,
          60,
          39,
          52,
          202,
          166,
          107,
          47,
          133,
          29,
          33,
          32,
          42,
          41,
          20,
          47,
          64,
          31,
          40,
          39,
          36,
          32,
          55,
          61,
          82,
          22,
          36,
          58,
          21,
          60,
          71,
          31,
          49,
          114,
          91,
          86,
          83,
          18,
          17,
          46,
          28,
          36,
          120,
          40,
          22,
          40,
          195,
          67,
          121,
          17,
          61,
          16,
          27,
          147,
          23,
          63,
          51,
          146,
          97,
          186,
          60,
          43,
          84,
          126,
          14,
          31,
          60,
          72,
          132,
          16,
          292,
          189,
          27,
          49,
          119,
          8,
          78,
          178,
          56,
          26,
          39,
          68,
          51,
          48,
          60,
          23,
          46,
          76,
          113,
          47,
          39,
          41,
          21,
          136,
          60,
          102,
          37,
          148,
          98,
          27,
          21,
          83,
          27,
          45,
          32,
          87,
          13,
          24,
          23,
          8,
          21,
          40,
          69,
          32,
          17,
          214,
          42,
          58,
          47,
          42,
          13,
          39,
          16,
          81,
          30,
          23,
          24,
          190,
          46,
          90,
          17,
          136,
          27,
          26,
          33,
          22,
          30,
          35,
          341,
          38,
          348,
          67,
          131,
          26,
          64,
          58,
          145,
          63,
          54,
          90,
          16,
          63,
          38,
          139,
          80,
          20,
          48,
          84,
          28,
          20,
          26,
          18,
          60,
          106,
          43,
          48,
          60,
          14,
          64,
          45,
          22,
          13,
          28,
          143,
          36,
          45,
          53,
          46,
          11,
          17,
          19,
          157,
          30,
          21,
          19,
          40,
          30,
          37,
          105,
          54,
          52,
          135,
          81,
          25,
          33,
          56,
          25,
          117,
          87,
          102,
          26,
          116,
          45,
          14,
          50,
          69,
          43,
          65,
          32,
          15,
          39,
          92,
          378,
          80,
          12,
          62,
          19,
          22,
          63,
          42,
          39,
          82,
          64,
          69,
          44,
          40,
          60,
          83,
          75,
          21,
          83,
          57,
          50,
          33,
          74,
          13,
          177,
          196,
          47,
          21,
          18,
          46,
          114,
          71,
          103,
          47,
          27,
          18,
          20,
          30,
          46,
          23,
          25,
          113,
          45,
          158,
          21,
          5,
          83,
          25,
          75,
          12,
          56,
          58,
          33,
          70,
          19,
          157,
          148,
          217,
          28,
          25,
          22,
          46,
          80,
          74,
          21,
          13,
          44,
          20,
          61,
          39,
          30,
          69,
          34,
          68,
          24,
          42,
          18,
          35,
          61,
          14,
          44,
          24,
          124,
          63,
          53,
          18,
          30,
          95,
          328,
          47,
          25,
          27,
          107,
          52,
          56,
          30,
          17,
          53,
          73,
          103,
          31,
          46,
          52,
          53,
          57,
          31,
          101,
          9,
          63,
          35,
          63,
          14,
          78,
          8,
          51,
          124,
          22,
          28,
          54,
          176,
          40,
          58,
          77,
          87,
          158,
          28,
          11,
          31,
          152,
          30,
          36,
          48,
          72,
          19,
          28,
          38,
          74,
          24,
          41,
          39,
          50,
          41,
          70,
          137,
          62,
          30,
          26,
          58,
          79,
          18,
          118,
          64,
          27,
          49,
          46,
          25,
          18,
          134,
          31,
          27,
          89,
          33,
          52,
          28,
          241,
          109,
          17,
          96,
          148,
          81,
          88,
          64,
          73,
          47,
          46,
          16,
          40,
          22,
          80,
          63,
          56,
          95,
          87,
          21,
          12,
          76,
          30,
          147,
          67,
          48,
          65,
          49,
          37,
          42,
          207,
          111,
          41,
          37,
          14,
          61,
          35,
          27,
          75,
          25,
          52,
          40,
          18,
          83,
          33,
          24,
          23,
          61,
          86,
          32,
          32,
          42,
          15,
          65,
          61,
          42,
          67,
          112,
          38,
          119,
          12,
          12,
          86,
          147,
          45,
          44,
          25,
          44,
          8,
          59,
          32,
          39,
          61,
          15,
          23,
          36,
          15,
          24,
          32,
          47,
          36,
          32,
          50,
          18,
          29,
          57,
          57,
          136,
          28,
          25,
          111,
          57,
          31,
          48,
          26,
          41,
          19,
          16,
          215,
          68,
          45,
          29,
          43,
          32,
          64,
          49,
          51,
          88,
          30,
          119,
          41,
          121,
          39,
          25,
          17,
          25,
          101,
          91,
          49,
          31,
          58,
          45
         ],
         "xaxis": "x",
         "yaxis": "y"
        }
       ],
       "layout": {
        "autosize": true,
        "barmode": "relative",
        "legend": {
         "tracegroupgap": 0
        },
        "template": {
         "data": {
          "bar": [
           {
            "error_x": {
             "color": "#2a3f5f"
            },
            "error_y": {
             "color": "#2a3f5f"
            },
            "marker": {
             "line": {
              "color": "#E5ECF6",
              "width": 0.5
             },
             "pattern": {
              "fillmode": "overlay",
              "size": 10,
              "solidity": 0.2
             }
            },
            "type": "bar"
           }
          ],
          "barpolar": [
           {
            "marker": {
             "line": {
              "color": "#E5ECF6",
              "width": 0.5
             },
             "pattern": {
              "fillmode": "overlay",
              "size": 10,
              "solidity": 0.2
             }
            },
            "type": "barpolar"
           }
          ],
          "carpet": [
           {
            "aaxis": {
             "endlinecolor": "#2a3f5f",
             "gridcolor": "white",
             "linecolor": "white",
             "minorgridcolor": "white",
             "startlinecolor": "#2a3f5f"
            },
            "baxis": {
             "endlinecolor": "#2a3f5f",
             "gridcolor": "white",
             "linecolor": "white",
             "minorgridcolor": "white",
             "startlinecolor": "#2a3f5f"
            },
            "type": "carpet"
           }
          ],
          "choropleth": [
           {
            "colorbar": {
             "outlinewidth": 0,
             "ticks": ""
            },
            "type": "choropleth"
           }
          ],
          "contour": [
           {
            "colorbar": {
             "outlinewidth": 0,
             "ticks": ""
            },
            "colorscale": [
             [
              0,
              "#0d0887"
             ],
             [
              0.1111111111111111,
              "#46039f"
             ],
             [
              0.2222222222222222,
              "#7201a8"
             ],
             [
              0.3333333333333333,
              "#9c179e"
             ],
             [
              0.4444444444444444,
              "#bd3786"
             ],
             [
              0.5555555555555556,
              "#d8576b"
             ],
             [
              0.6666666666666666,
              "#ed7953"
             ],
             [
              0.7777777777777778,
              "#fb9f3a"
             ],
             [
              0.8888888888888888,
              "#fdca26"
             ],
             [
              1,
              "#f0f921"
             ]
            ],
            "type": "contour"
           }
          ],
          "contourcarpet": [
           {
            "colorbar": {
             "outlinewidth": 0,
             "ticks": ""
            },
            "type": "contourcarpet"
           }
          ],
          "heatmap": [
           {
            "colorbar": {
             "outlinewidth": 0,
             "ticks": ""
            },
            "colorscale": [
             [
              0,
              "#0d0887"
             ],
             [
              0.1111111111111111,
              "#46039f"
             ],
             [
              0.2222222222222222,
              "#7201a8"
             ],
             [
              0.3333333333333333,
              "#9c179e"
             ],
             [
              0.4444444444444444,
              "#bd3786"
             ],
             [
              0.5555555555555556,
              "#d8576b"
             ],
             [
              0.6666666666666666,
              "#ed7953"
             ],
             [
              0.7777777777777778,
              "#fb9f3a"
             ],
             [
              0.8888888888888888,
              "#fdca26"
             ],
             [
              1,
              "#f0f921"
             ]
            ],
            "type": "heatmap"
           }
          ],
          "heatmapgl": [
           {
            "colorbar": {
             "outlinewidth": 0,
             "ticks": ""
            },
            "colorscale": [
             [
              0,
              "#0d0887"
             ],
             [
              0.1111111111111111,
              "#46039f"
             ],
             [
              0.2222222222222222,
              "#7201a8"
             ],
             [
              0.3333333333333333,
              "#9c179e"
             ],
             [
              0.4444444444444444,
              "#bd3786"
             ],
             [
              0.5555555555555556,
              "#d8576b"
             ],
             [
              0.6666666666666666,
              "#ed7953"
             ],
             [
              0.7777777777777778,
              "#fb9f3a"
             ],
             [
              0.8888888888888888,
              "#fdca26"
             ],
             [
              1,
              "#f0f921"
             ]
            ],
            "type": "heatmapgl"
           }
          ],
          "histogram": [
           {
            "marker": {
             "pattern": {
              "fillmode": "overlay",
              "size": 10,
              "solidity": 0.2
             }
            },
            "type": "histogram"
           }
          ],
          "histogram2d": [
           {
            "colorbar": {
             "outlinewidth": 0,
             "ticks": ""
            },
            "colorscale": [
             [
              0,
              "#0d0887"
             ],
             [
              0.1111111111111111,
              "#46039f"
             ],
             [
              0.2222222222222222,
              "#7201a8"
             ],
             [
              0.3333333333333333,
              "#9c179e"
             ],
             [
              0.4444444444444444,
              "#bd3786"
             ],
             [
              0.5555555555555556,
              "#d8576b"
             ],
             [
              0.6666666666666666,
              "#ed7953"
             ],
             [
              0.7777777777777778,
              "#fb9f3a"
             ],
             [
              0.8888888888888888,
              "#fdca26"
             ],
             [
              1,
              "#f0f921"
             ]
            ],
            "type": "histogram2d"
           }
          ],
          "histogram2dcontour": [
           {
            "colorbar": {
             "outlinewidth": 0,
             "ticks": ""
            },
            "colorscale": [
             [
              0,
              "#0d0887"
             ],
             [
              0.1111111111111111,
              "#46039f"
             ],
             [
              0.2222222222222222,
              "#7201a8"
             ],
             [
              0.3333333333333333,
              "#9c179e"
             ],
             [
              0.4444444444444444,
              "#bd3786"
             ],
             [
              0.5555555555555556,
              "#d8576b"
             ],
             [
              0.6666666666666666,
              "#ed7953"
             ],
             [
              0.7777777777777778,
              "#fb9f3a"
             ],
             [
              0.8888888888888888,
              "#fdca26"
             ],
             [
              1,
              "#f0f921"
             ]
            ],
            "type": "histogram2dcontour"
           }
          ],
          "mesh3d": [
           {
            "colorbar": {
             "outlinewidth": 0,
             "ticks": ""
            },
            "type": "mesh3d"
           }
          ],
          "parcoords": [
           {
            "line": {
             "colorbar": {
              "outlinewidth": 0,
              "ticks": ""
             }
            },
            "type": "parcoords"
           }
          ],
          "pie": [
           {
            "automargin": true,
            "type": "pie"
           }
          ],
          "scatter": [
           {
            "fillpattern": {
             "fillmode": "overlay",
             "size": 10,
             "solidity": 0.2
            },
            "type": "scatter"
           }
          ],
          "scatter3d": [
           {
            "line": {
             "colorbar": {
              "outlinewidth": 0,
              "ticks": ""
             }
            },
            "marker": {
             "colorbar": {
              "outlinewidth": 0,
              "ticks": ""
             }
            },
            "type": "scatter3d"
           }
          ],
          "scattercarpet": [
           {
            "marker": {
             "colorbar": {
              "outlinewidth": 0,
              "ticks": ""
             }
            },
            "type": "scattercarpet"
           }
          ],
          "scattergeo": [
           {
            "marker": {
             "colorbar": {
              "outlinewidth": 0,
              "ticks": ""
             }
            },
            "type": "scattergeo"
           }
          ],
          "scattergl": [
           {
            "marker": {
             "colorbar": {
              "outlinewidth": 0,
              "ticks": ""
             }
            },
            "type": "scattergl"
           }
          ],
          "scattermapbox": [
           {
            "marker": {
             "colorbar": {
              "outlinewidth": 0,
              "ticks": ""
             }
            },
            "type": "scattermapbox"
           }
          ],
          "scatterpolar": [
           {
            "marker": {
             "colorbar": {
              "outlinewidth": 0,
              "ticks": ""
             }
            },
            "type": "scatterpolar"
           }
          ],
          "scatterpolargl": [
           {
            "marker": {
             "colorbar": {
              "outlinewidth": 0,
              "ticks": ""
             }
            },
            "type": "scatterpolargl"
           }
          ],
          "scatterternary": [
           {
            "marker": {
             "colorbar": {
              "outlinewidth": 0,
              "ticks": ""
             }
            },
            "type": "scatterternary"
           }
          ],
          "surface": [
           {
            "colorbar": {
             "outlinewidth": 0,
             "ticks": ""
            },
            "colorscale": [
             [
              0,
              "#0d0887"
             ],
             [
              0.1111111111111111,
              "#46039f"
             ],
             [
              0.2222222222222222,
              "#7201a8"
             ],
             [
              0.3333333333333333,
              "#9c179e"
             ],
             [
              0.4444444444444444,
              "#bd3786"
             ],
             [
              0.5555555555555556,
              "#d8576b"
             ],
             [
              0.6666666666666666,
              "#ed7953"
             ],
             [
              0.7777777777777778,
              "#fb9f3a"
             ],
             [
              0.8888888888888888,
              "#fdca26"
             ],
             [
              1,
              "#f0f921"
             ]
            ],
            "type": "surface"
           }
          ],
          "table": [
           {
            "cells": {
             "fill": {
              "color": "#EBF0F8"
             },
             "line": {
              "color": "white"
             }
            },
            "header": {
             "fill": {
              "color": "#C8D4E3"
             },
             "line": {
              "color": "white"
             }
            },
            "type": "table"
           }
          ]
         },
         "layout": {
          "annotationdefaults": {
           "arrowcolor": "#2a3f5f",
           "arrowhead": 0,
           "arrowwidth": 1
          },
          "autotypenumbers": "strict",
          "coloraxis": {
           "colorbar": {
            "outlinewidth": 0,
            "ticks": ""
           }
          },
          "colorscale": {
           "diverging": [
            [
             0,
             "#8e0152"
            ],
            [
             0.1,
             "#c51b7d"
            ],
            [
             0.2,
             "#de77ae"
            ],
            [
             0.3,
             "#f1b6da"
            ],
            [
             0.4,
             "#fde0ef"
            ],
            [
             0.5,
             "#f7f7f7"
            ],
            [
             0.6,
             "#e6f5d0"
            ],
            [
             0.7,
             "#b8e186"
            ],
            [
             0.8,
             "#7fbc41"
            ],
            [
             0.9,
             "#4d9221"
            ],
            [
             1,
             "#276419"
            ]
           ],
           "sequential": [
            [
             0,
             "#0d0887"
            ],
            [
             0.1111111111111111,
             "#46039f"
            ],
            [
             0.2222222222222222,
             "#7201a8"
            ],
            [
             0.3333333333333333,
             "#9c179e"
            ],
            [
             0.4444444444444444,
             "#bd3786"
            ],
            [
             0.5555555555555556,
             "#d8576b"
            ],
            [
             0.6666666666666666,
             "#ed7953"
            ],
            [
             0.7777777777777778,
             "#fb9f3a"
            ],
            [
             0.8888888888888888,
             "#fdca26"
            ],
            [
             1,
             "#f0f921"
            ]
           ],
           "sequentialminus": [
            [
             0,
             "#0d0887"
            ],
            [
             0.1111111111111111,
             "#46039f"
            ],
            [
             0.2222222222222222,
             "#7201a8"
            ],
            [
             0.3333333333333333,
             "#9c179e"
            ],
            [
             0.4444444444444444,
             "#bd3786"
            ],
            [
             0.5555555555555556,
             "#d8576b"
            ],
            [
             0.6666666666666666,
             "#ed7953"
            ],
            [
             0.7777777777777778,
             "#fb9f3a"
            ],
            [
             0.8888888888888888,
             "#fdca26"
            ],
            [
             1,
             "#f0f921"
            ]
           ]
          },
          "colorway": [
           "#636efa",
           "#EF553B",
           "#00cc96",
           "#ab63fa",
           "#FFA15A",
           "#19d3f3",
           "#FF6692",
           "#B6E880",
           "#FF97FF",
           "#FECB52"
          ],
          "font": {
           "color": "#2a3f5f"
          },
          "geo": {
           "bgcolor": "white",
           "lakecolor": "white",
           "landcolor": "#E5ECF6",
           "showlakes": true,
           "showland": true,
           "subunitcolor": "white"
          },
          "hoverlabel": {
           "align": "left"
          },
          "hovermode": "closest",
          "mapbox": {
           "style": "light"
          },
          "paper_bgcolor": "white",
          "plot_bgcolor": "#E5ECF6",
          "polar": {
           "angularaxis": {
            "gridcolor": "white",
            "linecolor": "white",
            "ticks": ""
           },
           "bgcolor": "#E5ECF6",
           "radialaxis": {
            "gridcolor": "white",
            "linecolor": "white",
            "ticks": ""
           }
          },
          "scene": {
           "xaxis": {
            "backgroundcolor": "#E5ECF6",
            "gridcolor": "white",
            "gridwidth": 2,
            "linecolor": "white",
            "showbackground": true,
            "ticks": "",
            "zerolinecolor": "white"
           },
           "yaxis": {
            "backgroundcolor": "#E5ECF6",
            "gridcolor": "white",
            "gridwidth": 2,
            "linecolor": "white",
            "showbackground": true,
            "ticks": "",
            "zerolinecolor": "white"
           },
           "zaxis": {
            "backgroundcolor": "#E5ECF6",
            "gridcolor": "white",
            "gridwidth": 2,
            "linecolor": "white",
            "showbackground": true,
            "ticks": "",
            "zerolinecolor": "white"
           }
          },
          "shapedefaults": {
           "line": {
            "color": "#2a3f5f"
           }
          },
          "ternary": {
           "aaxis": {
            "gridcolor": "white",
            "linecolor": "white",
            "ticks": ""
           },
           "baxis": {
            "gridcolor": "white",
            "linecolor": "white",
            "ticks": ""
           },
           "bgcolor": "#E5ECF6",
           "caxis": {
            "gridcolor": "white",
            "linecolor": "white",
            "ticks": ""
           }
          },
          "title": {
           "x": 0.05
          },
          "xaxis": {
           "automargin": true,
           "gridcolor": "white",
           "linecolor": "white",
           "ticks": "",
           "title": {
            "standoff": 15
           },
           "zerolinecolor": "white",
           "zerolinewidth": 2
          },
          "yaxis": {
           "automargin": true,
           "gridcolor": "white",
           "linecolor": "white",
           "ticks": "",
           "title": {
            "standoff": 15
           },
           "zerolinecolor": "white",
           "zerolinewidth": 2
          }
         }
        },
        "title": {
         "font": {
          "size": 18
         },
         "text": "Distribution of Message Length",
         "x": 0.5
        },
        "xaxis": {
         "anchor": "y",
         "autorange": true,
         "domain": [
          0,
          1
         ],
         "range": [
          -0.5,
          379.5
         ],
         "title": {
          "text": "message_word_count"
         },
         "type": "linear"
        },
        "yaxis": {
         "anchor": "x",
         "autorange": true,
         "domain": [
          0,
          1
         ],
         "range": [
          0,
          300
         ],
         "title": {
          "text": "Count"
         }
        }
       }
      },
      "image/png": "[encoded data removed]"
     },
     "metadata": {},
     "output_type": "display_data"
    }
   ],
   "source": [
    "fig = px.histogram(data_frame=questions,\n",
    "             x='message_word_count',\n",
    "             nbins=25,\n",
    "             title='Distribution of Message Length',\n",
    "             labels={'status_length' : 'Message Length by Word Count'}\n",
    "            )\n",
    "\n",
    "fig.update_yaxes(title = 'Count')\n",
    "\n",
    "fig.update_layout(title_font_size=18, title_x=.5)"
   ]
  },
  {
   "cell_type": "code",
   "execution_count": 23,
   "id": "c9baa206-0753-44fe-9cce-748f25ce9cc4",
   "metadata": {},
   "outputs": [],
   "source": [
    "df_vec = questions[['message', 'binary']]"
   ]
  },
  {
   "cell_type": "code",
   "execution_count": 24,
   "id": "6a2fdb8e-14f1-4469-b5cc-f5868bfb4580",
   "metadata": {},
   "outputs": [
    {
     "data": {
      "text/html": [
       "<div>\n",
       "<style scoped>\n",
       "    .dataframe tbody tr th:only-of-type {\n",
       "        vertical-align: middle;\n",
       "    }\n",
       "\n",
       "    .dataframe tbody tr th {\n",
       "        vertical-align: top;\n",
       "    }\n",
       "\n",
       "    .dataframe thead th {\n",
       "        text-align: right;\n",
       "    }\n",
       "</style>\n",
       "<table border=\"1\" class=\"dataframe\">\n",
       "  <thead>\n",
       "    <tr style=\"text-align: right;\">\n",
       "      <th></th>\n",
       "      <th>message</th>\n",
       "      <th>binary</th>\n",
       "    </tr>\n",
       "  </thead>\n",
       "  <tbody>\n",
       "    <tr>\n",
       "      <th>0</th>\n",
       "      <td>SUBJECT: who and where to get cetirizine - D\\n MESSAGE: I need/want to know who manufscturs Cetirizine. My Walmart is looking for a new supply and are not getting the recent</td>\n",
       "      <td>pharmacist</td>\n",
       "    </tr>\n",
       "    <tr>\n",
       "      <th>1</th>\n",
       "      <td>who makes bromocriptine\\n i am wondering what company makes the drug bromocriptine, i need it for a mass i have on my pituitary gland and the cost just keeps raising. i cannot ever buy a full prescription because of the price and i was told if i get a hold of the maker of the drug sometimes they offer coupons or something to help me afford the medicine. if i buy 10 pills in which i have to take 2 times a day it costs me 78.00. and that is how i have to buy them. thanks.</td>\n",
       "      <td>pharmacist</td>\n",
       "    </tr>\n",
       "    <tr>\n",
       "      <th>2</th>\n",
       "      <td>SUBJECT: nulytely\\n MESSAGE: Hello can you tell me where do i order the nulytely who is the manufacture, what phone number can i call. thanks.</td>\n",
       "      <td>pharmacist</td>\n",
       "    </tr>\n",
       "  </tbody>\n",
       "</table>\n",
       "</div>"
      ],
      "text/plain": [
       "                                                                                                                                                                                                                                                                                                                                                                                                                                                                                      message  \\\n",
       "0                                                                                                                                                                                                                                                                                                               SUBJECT: who and where to get cetirizine - D\\n MESSAGE: I need/want to know who manufscturs Cetirizine. My Walmart is looking for a new supply and are not getting the recent   \n",
       "1  who makes bromocriptine\\n i am wondering what company makes the drug bromocriptine, i need it for a mass i have on my pituitary gland and the cost just keeps raising. i cannot ever buy a full prescription because of the price and i was told if i get a hold of the maker of the drug sometimes they offer coupons or something to help me afford the medicine. if i buy 10 pills in which i have to take 2 times a day it costs me 78.00. and that is how i have to buy them. thanks.   \n",
       "2                                                                                                                                                                                                                                                                                                                                              SUBJECT: nulytely\\n MESSAGE: Hello can you tell me where do i order the nulytely who is the manufacture, what phone number can i call. thanks.   \n",
       "\n",
       "       binary  \n",
       "0  pharmacist  \n",
       "1  pharmacist  \n",
       "2  pharmacist  "
      ]
     },
     "execution_count": 24,
     "metadata": {},
     "output_type": "execute_result"
    }
   ],
   "source": [
    "df_vec.head(3)"
   ]
  },
  {
   "cell_type": "code",
   "execution_count": 25,
   "id": "ba7c6ee3-2b44-438d-9d34-cb606ddb171b",
   "metadata": {},
   "outputs": [
    {
     "name": "stdout",
     "output_type": "stream",
     "text": [
      "<class 'pandas.core.frame.DataFrame'>\n",
      "RangeIndex: 1000 entries, 0 to 999\n",
      "Data columns (total 2 columns):\n",
      " #   Column   Non-Null Count  Dtype \n",
      "---  ------   --------------  ----- \n",
      " 0   message  1000 non-null   object\n",
      " 1   binary   1000 non-null   object\n",
      "dtypes: object(2)\n",
      "memory usage: 15.8+ KB\n"
     ]
    }
   ],
   "source": [
    "df_vec.info()"
   ]
  },
  {
   "cell_type": "code",
   "execution_count": 26,
   "id": "3ddc2e35-7519-436a-b739-7bc2bf56c928",
   "metadata": {},
   "outputs": [],
   "source": [
    "cv = CountVectorizer(stop_words=stops)"
   ]
  },
  {
   "cell_type": "code",
   "execution_count": 27,
   "id": "fb13c6ea-6f08-4118-b1f8-a22679a60c3e",
   "metadata": {},
   "outputs": [
    {
     "data": {
      "text/html": [
       "<div>\n",
       "<style scoped>\n",
       "    .dataframe tbody tr th:only-of-type {\n",
       "        vertical-align: middle;\n",
       "    }\n",
       "\n",
       "    .dataframe tbody tr th {\n",
       "        vertical-align: top;\n",
       "    }\n",
       "\n",
       "    .dataframe thead th {\n",
       "        text-align: right;\n",
       "    }\n",
       "</style>\n",
       "<table border=\"1\" class=\"dataframe\">\n",
       "  <thead>\n",
       "    <tr style=\"text-align: right;\">\n",
       "      <th></th>\n",
       "      <th>00</th>\n",
       "      <th>000</th>\n",
       "      <th>000421</th>\n",
       "      <th>001274</th>\n",
       "      <th>00527172874</th>\n",
       "      <th>01</th>\n",
       "      <th>01d08e1e</th>\n",
       "      <th>01t11</th>\n",
       "      <th>02</th>\n",
       "      <th>03</th>\n",
       "      <th>...</th>\n",
       "      <th>zerolac</th>\n",
       "      <th>zest</th>\n",
       "      <th>zinc</th>\n",
       "      <th>zolmitriptan</th>\n",
       "      <th>zostavax</th>\n",
       "      <th>évidence</th>\n",
       "      <th>úlcera</th>\n",
       "      <th>ımportant</th>\n",
       "      <th>ınformatıon</th>\n",
       "      <th>ıs</th>\n",
       "    </tr>\n",
       "  </thead>\n",
       "  <tbody>\n",
       "    <tr>\n",
       "      <th>0</th>\n",
       "      <td>0</td>\n",
       "      <td>0</td>\n",
       "      <td>0</td>\n",
       "      <td>0</td>\n",
       "      <td>0</td>\n",
       "      <td>0</td>\n",
       "      <td>0</td>\n",
       "      <td>0</td>\n",
       "      <td>0</td>\n",
       "      <td>0</td>\n",
       "      <td>...</td>\n",
       "      <td>0</td>\n",
       "      <td>0</td>\n",
       "      <td>0</td>\n",
       "      <td>0</td>\n",
       "      <td>0</td>\n",
       "      <td>0</td>\n",
       "      <td>0</td>\n",
       "      <td>0</td>\n",
       "      <td>0</td>\n",
       "      <td>0</td>\n",
       "    </tr>\n",
       "    <tr>\n",
       "      <th>1</th>\n",
       "      <td>1</td>\n",
       "      <td>0</td>\n",
       "      <td>0</td>\n",
       "      <td>0</td>\n",
       "      <td>0</td>\n",
       "      <td>0</td>\n",
       "      <td>0</td>\n",
       "      <td>0</td>\n",
       "      <td>0</td>\n",
       "      <td>0</td>\n",
       "      <td>...</td>\n",
       "      <td>0</td>\n",
       "      <td>0</td>\n",
       "      <td>0</td>\n",
       "      <td>0</td>\n",
       "      <td>0</td>\n",
       "      <td>0</td>\n",
       "      <td>0</td>\n",
       "      <td>0</td>\n",
       "      <td>0</td>\n",
       "      <td>0</td>\n",
       "    </tr>\n",
       "    <tr>\n",
       "      <th>2</th>\n",
       "      <td>0</td>\n",
       "      <td>0</td>\n",
       "      <td>0</td>\n",
       "      <td>0</td>\n",
       "      <td>0</td>\n",
       "      <td>0</td>\n",
       "      <td>0</td>\n",
       "      <td>0</td>\n",
       "      <td>0</td>\n",
       "      <td>0</td>\n",
       "      <td>...</td>\n",
       "      <td>0</td>\n",
       "      <td>0</td>\n",
       "      <td>0</td>\n",
       "      <td>0</td>\n",
       "      <td>0</td>\n",
       "      <td>0</td>\n",
       "      <td>0</td>\n",
       "      <td>0</td>\n",
       "      <td>0</td>\n",
       "      <td>0</td>\n",
       "    </tr>\n",
       "  </tbody>\n",
       "</table>\n",
       "<p>3 rows × 6550 columns</p>\n",
       "</div>"
      ],
      "text/plain": [
       "   00  000  000421  001274  00527172874  01  01d08e1e  01t11  02  03  ...  \\\n",
       "0   0    0       0       0            0   0         0      0   0   0  ...   \n",
       "1   1    0       0       0            0   0         0      0   0   0  ...   \n",
       "2   0    0       0       0            0   0         0      0   0   0  ...   \n",
       "\n",
       "   zerolac  zest  zinc  zolmitriptan  zostavax  évidence  úlcera  ımportant  \\\n",
       "0        0     0     0             0         0         0       0          0   \n",
       "1        0     0     0             0         0         0       0          0   \n",
       "2        0     0     0             0         0         0       0          0   \n",
       "\n",
       "   ınformatıon  ıs  \n",
       "0            0   0  \n",
       "1            0   0  \n",
       "2            0   0  \n",
       "\n",
       "[3 rows x 6550 columns]"
      ]
     },
     "execution_count": 27,
     "metadata": {},
     "output_type": "execute_result"
    }
   ],
   "source": [
    "dfqu_vec = pd.DataFrame(cv.fit_transform(df_vec['message']).A, columns=cv.get_feature_names_out())\n",
    "dfqu_vec.head(3)"
   ]
  },
  {
   "cell_type": "code",
   "execution_count": 28,
   "id": "4e8edc60-fa9a-40ed-897e-ac3f4e3850b6",
   "metadata": {},
   "outputs": [
    {
     "data": {
      "text/plain": [
       "message        731\n",
       "subject        666\n",
       "name           354\n",
       "help           336\n",
       "please         255\n",
       "know           228\n",
       "would          227\n",
       "years          217\n",
       "information    193\n",
       "thank          180\n",
       "treatment      171\n",
       "old            169\n",
       "location       160\n",
       "need           155\n",
       "get            151\n",
       "dtype: int64"
      ]
     },
     "execution_count": 28,
     "metadata": {},
     "output_type": "execute_result"
    }
   ],
   "source": [
    "dfqu_vec.sum().sort_values(ascending=False).head(15)"
   ]
  },
  {
   "cell_type": "code",
   "execution_count": 29,
   "id": "a282cea5-d0c3-4f95-a975-30b657e1342a",
   "metadata": {},
   "outputs": [
    {
     "data": {
      "application/vnd.plotly.v1+json": {
       "config": {
        "plotlyServerURL": "https://plot.ly"
       },
       "data": [
        {
         "alignmentgroup": "True",
         "hovertemplate": "Common Word=%{x}<br>Count=%{y}<extra></extra>",
         "legendgroup": "",
         "marker": {
          "color": "#636efa",
          "pattern": {
           "shape": ""
          }
         },
         "name": "",
         "offsetgroup": "",
         "orientation": "v",
         "showlegend": false,
         "textposition": "auto",
         "type": "bar",
         "x": [
          "message",
          "subject",
          "name",
          "help",
          "please",
          "know",
          "would",
          "years",
          "information",
          "thank",
          "treatment",
          "old",
          "location",
          "need",
          "get"
         ],
         "xaxis": "x",
         "y": [
          731,
          666,
          354,
          336,
          255,
          228,
          227,
          217,
          193,
          180,
          171,
          169,
          160,
          155,
          151
         ],
         "yaxis": "y"
        }
       ],
       "layout": {
        "autosize": true,
        "barmode": "relative",
        "legend": {
         "tracegroupgap": 0
        },
        "template": {
         "data": {
          "bar": [
           {
            "error_x": {
             "color": "#2a3f5f"
            },
            "error_y": {
             "color": "#2a3f5f"
            },
            "marker": {
             "line": {
              "color": "#E5ECF6",
              "width": 0.5
             },
             "pattern": {
              "fillmode": "overlay",
              "size": 10,
              "solidity": 0.2
             }
            },
            "type": "bar"
           }
          ],
          "barpolar": [
           {
            "marker": {
             "line": {
              "color": "#E5ECF6",
              "width": 0.5
             },
             "pattern": {
              "fillmode": "overlay",
              "size": 10,
              "solidity": 0.2
             }
            },
            "type": "barpolar"
           }
          ],
          "carpet": [
           {
            "aaxis": {
             "endlinecolor": "#2a3f5f",
             "gridcolor": "white",
             "linecolor": "white",
             "minorgridcolor": "white",
             "startlinecolor": "#2a3f5f"
            },
            "baxis": {
             "endlinecolor": "#2a3f5f",
             "gridcolor": "white",
             "linecolor": "white",
             "minorgridcolor": "white",
             "startlinecolor": "#2a3f5f"
            },
            "type": "carpet"
           }
          ],
          "choropleth": [
           {
            "colorbar": {
             "outlinewidth": 0,
             "ticks": ""
            },
            "type": "choropleth"
           }
          ],
          "contour": [
           {
            "colorbar": {
             "outlinewidth": 0,
             "ticks": ""
            },
            "colorscale": [
             [
              0,
              "#0d0887"
             ],
             [
              0.1111111111111111,
              "#46039f"
             ],
             [
              0.2222222222222222,
              "#7201a8"
             ],
             [
              0.3333333333333333,
              "#9c179e"
             ],
             [
              0.4444444444444444,
              "#bd3786"
             ],
             [
              0.5555555555555556,
              "#d8576b"
             ],
             [
              0.6666666666666666,
              "#ed7953"
             ],
             [
              0.7777777777777778,
              "#fb9f3a"
             ],
             [
              0.8888888888888888,
              "#fdca26"
             ],
             [
              1,
              "#f0f921"
             ]
            ],
            "type": "contour"
           }
          ],
          "contourcarpet": [
           {
            "colorbar": {
             "outlinewidth": 0,
             "ticks": ""
            },
            "type": "contourcarpet"
           }
          ],
          "heatmap": [
           {
            "colorbar": {
             "outlinewidth": 0,
             "ticks": ""
            },
            "colorscale": [
             [
              0,
              "#0d0887"
             ],
             [
              0.1111111111111111,
              "#46039f"
             ],
             [
              0.2222222222222222,
              "#7201a8"
             ],
             [
              0.3333333333333333,
              "#9c179e"
             ],
             [
              0.4444444444444444,
              "#bd3786"
             ],
             [
              0.5555555555555556,
              "#d8576b"
             ],
             [
              0.6666666666666666,
              "#ed7953"
             ],
             [
              0.7777777777777778,
              "#fb9f3a"
             ],
             [
              0.8888888888888888,
              "#fdca26"
             ],
             [
              1,
              "#f0f921"
             ]
            ],
            "type": "heatmap"
           }
          ],
          "heatmapgl": [
           {
            "colorbar": {
             "outlinewidth": 0,
             "ticks": ""
            },
            "colorscale": [
             [
              0,
              "#0d0887"
             ],
             [
              0.1111111111111111,
              "#46039f"
             ],
             [
              0.2222222222222222,
              "#7201a8"
             ],
             [
              0.3333333333333333,
              "#9c179e"
             ],
             [
              0.4444444444444444,
              "#bd3786"
             ],
             [
              0.5555555555555556,
              "#d8576b"
             ],
             [
              0.6666666666666666,
              "#ed7953"
             ],
             [
              0.7777777777777778,
              "#fb9f3a"
             ],
             [
              0.8888888888888888,
              "#fdca26"
             ],
             [
              1,
              "#f0f921"
             ]
            ],
            "type": "heatmapgl"
           }
          ],
          "histogram": [
           {
            "marker": {
             "pattern": {
              "fillmode": "overlay",
              "size": 10,
              "solidity": 0.2
             }
            },
            "type": "histogram"
           }
          ],
          "histogram2d": [
           {
            "colorbar": {
             "outlinewidth": 0,
             "ticks": ""
            },
            "colorscale": [
             [
              0,
              "#0d0887"
             ],
             [
              0.1111111111111111,
              "#46039f"
             ],
             [
              0.2222222222222222,
              "#7201a8"
             ],
             [
              0.3333333333333333,
              "#9c179e"
             ],
             [
              0.4444444444444444,
              "#bd3786"
             ],
             [
              0.5555555555555556,
              "#d8576b"
             ],
             [
              0.6666666666666666,
              "#ed7953"
             ],
             [
              0.7777777777777778,
              "#fb9f3a"
             ],
             [
              0.8888888888888888,
              "#fdca26"
             ],
             [
              1,
              "#f0f921"
             ]
            ],
            "type": "histogram2d"
           }
          ],
          "histogram2dcontour": [
           {
            "colorbar": {
             "outlinewidth": 0,
             "ticks": ""
            },
            "colorscale": [
             [
              0,
              "#0d0887"
             ],
             [
              0.1111111111111111,
              "#46039f"
             ],
             [
              0.2222222222222222,
              "#7201a8"
             ],
             [
              0.3333333333333333,
              "#9c179e"
             ],
             [
              0.4444444444444444,
              "#bd3786"
             ],
             [
              0.5555555555555556,
              "#d8576b"
             ],
             [
              0.6666666666666666,
              "#ed7953"
             ],
             [
              0.7777777777777778,
              "#fb9f3a"
             ],
             [
              0.8888888888888888,
              "#fdca26"
             ],
             [
              1,
              "#f0f921"
             ]
            ],
            "type": "histogram2dcontour"
           }
          ],
          "mesh3d": [
           {
            "colorbar": {
             "outlinewidth": 0,
             "ticks": ""
            },
            "type": "mesh3d"
           }
          ],
          "parcoords": [
           {
            "line": {
             "colorbar": {
              "outlinewidth": 0,
              "ticks": ""
             }
            },
            "type": "parcoords"
           }
          ],
          "pie": [
           {
            "automargin": true,
            "type": "pie"
           }
          ],
          "scatter": [
           {
            "fillpattern": {
             "fillmode": "overlay",
             "size": 10,
             "solidity": 0.2
            },
            "type": "scatter"
           }
          ],
          "scatter3d": [
           {
            "line": {
             "colorbar": {
              "outlinewidth": 0,
              "ticks": ""
             }
            },
            "marker": {
             "colorbar": {
              "outlinewidth": 0,
              "ticks": ""
             }
            },
            "type": "scatter3d"
           }
          ],
          "scattercarpet": [
           {
            "marker": {
             "colorbar": {
              "outlinewidth": 0,
              "ticks": ""
             }
            },
            "type": "scattercarpet"
           }
          ],
          "scattergeo": [
           {
            "marker": {
             "colorbar": {
              "outlinewidth": 0,
              "ticks": ""
             }
            },
            "type": "scattergeo"
           }
          ],
          "scattergl": [
           {
            "marker": {
             "colorbar": {
              "outlinewidth": 0,
              "ticks": ""
             }
            },
            "type": "scattergl"
           }
          ],
          "scattermapbox": [
           {
            "marker": {
             "colorbar": {
              "outlinewidth": 0,
              "ticks": ""
             }
            },
            "type": "scattermapbox"
           }
          ],
          "scatterpolar": [
           {
            "marker": {
             "colorbar": {
              "outlinewidth": 0,
              "ticks": ""
             }
            },
            "type": "scatterpolar"
           }
          ],
          "scatterpolargl": [
           {
            "marker": {
             "colorbar": {
              "outlinewidth": 0,
              "ticks": ""
             }
            },
            "type": "scatterpolargl"
           }
          ],
          "scatterternary": [
           {
            "marker": {
             "colorbar": {
              "outlinewidth": 0,
              "ticks": ""
             }
            },
            "type": "scatterternary"
           }
          ],
          "surface": [
           {
            "colorbar": {
             "outlinewidth": 0,
             "ticks": ""
            },
            "colorscale": [
             [
              0,
              "#0d0887"
             ],
             [
              0.1111111111111111,
              "#46039f"
             ],
             [
              0.2222222222222222,
              "#7201a8"
             ],
             [
              0.3333333333333333,
              "#9c179e"
             ],
             [
              0.4444444444444444,
              "#bd3786"
             ],
             [
              0.5555555555555556,
              "#d8576b"
             ],
             [
              0.6666666666666666,
              "#ed7953"
             ],
             [
              0.7777777777777778,
              "#fb9f3a"
             ],
             [
              0.8888888888888888,
              "#fdca26"
             ],
             [
              1,
              "#f0f921"
             ]
            ],
            "type": "surface"
           }
          ],
          "table": [
           {
            "cells": {
             "fill": {
              "color": "#EBF0F8"
             },
             "line": {
              "color": "white"
             }
            },
            "header": {
             "fill": {
              "color": "#C8D4E3"
             },
             "line": {
              "color": "white"
             }
            },
            "type": "table"
           }
          ]
         },
         "layout": {
          "annotationdefaults": {
           "arrowcolor": "#2a3f5f",
           "arrowhead": 0,
           "arrowwidth": 1
          },
          "autotypenumbers": "strict",
          "coloraxis": {
           "colorbar": {
            "outlinewidth": 0,
            "ticks": ""
           }
          },
          "colorscale": {
           "diverging": [
            [
             0,
             "#8e0152"
            ],
            [
             0.1,
             "#c51b7d"
            ],
            [
             0.2,
             "#de77ae"
            ],
            [
             0.3,
             "#f1b6da"
            ],
            [
             0.4,
             "#fde0ef"
            ],
            [
             0.5,
             "#f7f7f7"
            ],
            [
             0.6,
             "#e6f5d0"
            ],
            [
             0.7,
             "#b8e186"
            ],
            [
             0.8,
             "#7fbc41"
            ],
            [
             0.9,
             "#4d9221"
            ],
            [
             1,
             "#276419"
            ]
           ],
           "sequential": [
            [
             0,
             "#0d0887"
            ],
            [
             0.1111111111111111,
             "#46039f"
            ],
            [
             0.2222222222222222,
             "#7201a8"
            ],
            [
             0.3333333333333333,
             "#9c179e"
            ],
            [
             0.4444444444444444,
             "#bd3786"
            ],
            [
             0.5555555555555556,
             "#d8576b"
            ],
            [
             0.6666666666666666,
             "#ed7953"
            ],
            [
             0.7777777777777778,
             "#fb9f3a"
            ],
            [
             0.8888888888888888,
             "#fdca26"
            ],
            [
             1,
             "#f0f921"
            ]
           ],
           "sequentialminus": [
            [
             0,
             "#0d0887"
            ],
            [
             0.1111111111111111,
             "#46039f"
            ],
            [
             0.2222222222222222,
             "#7201a8"
            ],
            [
             0.3333333333333333,
             "#9c179e"
            ],
            [
             0.4444444444444444,
             "#bd3786"
            ],
            [
             0.5555555555555556,
             "#d8576b"
            ],
            [
             0.6666666666666666,
             "#ed7953"
            ],
            [
             0.7777777777777778,
             "#fb9f3a"
            ],
            [
             0.8888888888888888,
             "#fdca26"
            ],
            [
             1,
             "#f0f921"
            ]
           ]
          },
          "colorway": [
           "#636efa",
           "#EF553B",
           "#00cc96",
           "#ab63fa",
           "#FFA15A",
           "#19d3f3",
           "#FF6692",
           "#B6E880",
           "#FF97FF",
           "#FECB52"
          ],
          "font": {
           "color": "#2a3f5f"
          },
          "geo": {
           "bgcolor": "white",
           "lakecolor": "white",
           "landcolor": "#E5ECF6",
           "showlakes": true,
           "showland": true,
           "subunitcolor": "white"
          },
          "hoverlabel": {
           "align": "left"
          },
          "hovermode": "closest",
          "mapbox": {
           "style": "light"
          },
          "paper_bgcolor": "white",
          "plot_bgcolor": "#E5ECF6",
          "polar": {
           "angularaxis": {
            "gridcolor": "white",
            "linecolor": "white",
            "ticks": ""
           },
           "bgcolor": "#E5ECF6",
           "radialaxis": {
            "gridcolor": "white",
            "linecolor": "white",
            "ticks": ""
           }
          },
          "scene": {
           "xaxis": {
            "backgroundcolor": "#E5ECF6",
            "gridcolor": "white",
            "gridwidth": 2,
            "linecolor": "white",
            "showbackground": true,
            "ticks": "",
            "zerolinecolor": "white"
           },
           "yaxis": {
            "backgroundcolor": "#E5ECF6",
            "gridcolor": "white",
            "gridwidth": 2,
            "linecolor": "white",
            "showbackground": true,
            "ticks": "",
            "zerolinecolor": "white"
           },
           "zaxis": {
            "backgroundcolor": "#E5ECF6",
            "gridcolor": "white",
            "gridwidth": 2,
            "linecolor": "white",
            "showbackground": true,
            "ticks": "",
            "zerolinecolor": "white"
           }
          },
          "shapedefaults": {
           "line": {
            "color": "#2a3f5f"
           }
          },
          "ternary": {
           "aaxis": {
            "gridcolor": "white",
            "linecolor": "white",
            "ticks": ""
           },
           "baxis": {
            "gridcolor": "white",
            "linecolor": "white",
            "ticks": ""
           },
           "bgcolor": "#E5ECF6",
           "caxis": {
            "gridcolor": "white",
            "linecolor": "white",
            "ticks": ""
           }
          },
          "title": {
           "x": 0.05
          },
          "xaxis": {
           "automargin": true,
           "gridcolor": "white",
           "linecolor": "white",
           "ticks": "",
           "title": {
            "standoff": 15
           },
           "zerolinecolor": "white",
           "zerolinewidth": 2
          },
          "yaxis": {
           "automargin": true,
           "gridcolor": "white",
           "linecolor": "white",
           "ticks": "",
           "title": {
            "standoff": 15
           },
           "zerolinecolor": "white",
           "zerolinewidth": 2
          }
         }
        },
        "title": {
         "text": "15 Most Common Words from Submitted Messages",
         "x": 0.5
        },
        "xaxis": {
         "anchor": "y",
         "autorange": true,
         "domain": [
          0,
          1
         ],
         "range": [
          -0.5,
          14.5
         ],
         "title": {
          "text": "Common Word"
         },
         "type": "category"
        },
        "yaxis": {
         "anchor": "x",
         "autorange": true,
         "domain": [
          0,
          1
         ],
         "range": [
          0,
          769.4736842105264
         ],
         "title": {
          "text": "Count"
         },
         "type": "linear"
        }
       }
      },
      "image/png": "[encoded data removed]"
     },
     "metadata": {},
     "output_type": "display_data"
    }
   ],
   "source": [
    "freq = dfqu_vec.sum().sort_values(ascending=False).head(15)\n",
    "\n",
    "bar_freq = px.bar(\n",
    "                  x=list(freq.index),\n",
    "                  y=list(freq.values),\n",
    "                  title='15 Most Common Words from Submitted Messages',\n",
    "                  labels = {'y': 'Count', 'x': 'Common Word'}\n",
    "\n",
    ")\n",
    "\n",
    "bar_freq.update_layout(title_x = 0.5)"
   ]
  },
  {
   "cell_type": "code",
   "execution_count": 30,
   "id": "dd219d8b-b84a-4508-9889-20225692f03a",
   "metadata": {},
   "outputs": [
    {
     "data": {
      "text/html": [
       "<div>\n",
       "<style scoped>\n",
       "    .dataframe tbody tr th:only-of-type {\n",
       "        vertical-align: middle;\n",
       "    }\n",
       "\n",
       "    .dataframe tbody tr th {\n",
       "        vertical-align: top;\n",
       "    }\n",
       "\n",
       "    .dataframe thead th {\n",
       "        text-align: right;\n",
       "    }\n",
       "</style>\n",
       "<table border=\"1\" class=\"dataframe\">\n",
       "  <thead>\n",
       "    <tr style=\"text-align: right;\">\n",
       "      <th></th>\n",
       "      <th>00</th>\n",
       "      <th>000</th>\n",
       "      <th>000421</th>\n",
       "      <th>001274</th>\n",
       "      <th>00527172874</th>\n",
       "      <th>01</th>\n",
       "      <th>01d08e1e</th>\n",
       "      <th>01t11</th>\n",
       "      <th>02</th>\n",
       "      <th>03</th>\n",
       "      <th>...</th>\n",
       "      <th>zest</th>\n",
       "      <th>zinc</th>\n",
       "      <th>zolmitriptan</th>\n",
       "      <th>zostavax</th>\n",
       "      <th>évidence</th>\n",
       "      <th>úlcera</th>\n",
       "      <th>ımportant</th>\n",
       "      <th>ınformatıon</th>\n",
       "      <th>ıs</th>\n",
       "      <th>col</th>\n",
       "    </tr>\n",
       "  </thead>\n",
       "  <tbody>\n",
       "    <tr>\n",
       "      <th>0</th>\n",
       "      <td>0</td>\n",
       "      <td>0</td>\n",
       "      <td>0</td>\n",
       "      <td>0</td>\n",
       "      <td>0</td>\n",
       "      <td>0</td>\n",
       "      <td>0</td>\n",
       "      <td>0</td>\n",
       "      <td>0</td>\n",
       "      <td>0</td>\n",
       "      <td>...</td>\n",
       "      <td>0</td>\n",
       "      <td>0</td>\n",
       "      <td>0</td>\n",
       "      <td>0</td>\n",
       "      <td>0</td>\n",
       "      <td>0</td>\n",
       "      <td>0</td>\n",
       "      <td>0</td>\n",
       "      <td>0</td>\n",
       "      <td>0</td>\n",
       "    </tr>\n",
       "    <tr>\n",
       "      <th>1</th>\n",
       "      <td>1</td>\n",
       "      <td>0</td>\n",
       "      <td>0</td>\n",
       "      <td>0</td>\n",
       "      <td>0</td>\n",
       "      <td>0</td>\n",
       "      <td>0</td>\n",
       "      <td>0</td>\n",
       "      <td>0</td>\n",
       "      <td>0</td>\n",
       "      <td>...</td>\n",
       "      <td>0</td>\n",
       "      <td>0</td>\n",
       "      <td>0</td>\n",
       "      <td>0</td>\n",
       "      <td>0</td>\n",
       "      <td>0</td>\n",
       "      <td>0</td>\n",
       "      <td>0</td>\n",
       "      <td>0</td>\n",
       "      <td>1</td>\n",
       "    </tr>\n",
       "    <tr>\n",
       "      <th>2</th>\n",
       "      <td>0</td>\n",
       "      <td>0</td>\n",
       "      <td>0</td>\n",
       "      <td>0</td>\n",
       "      <td>0</td>\n",
       "      <td>0</td>\n",
       "      <td>0</td>\n",
       "      <td>0</td>\n",
       "      <td>0</td>\n",
       "      <td>0</td>\n",
       "      <td>...</td>\n",
       "      <td>0</td>\n",
       "      <td>0</td>\n",
       "      <td>0</td>\n",
       "      <td>0</td>\n",
       "      <td>0</td>\n",
       "      <td>0</td>\n",
       "      <td>0</td>\n",
       "      <td>0</td>\n",
       "      <td>0</td>\n",
       "      <td>2</td>\n",
       "    </tr>\n",
       "  </tbody>\n",
       "</table>\n",
       "<p>3 rows × 6551 columns</p>\n",
       "</div>"
      ],
      "text/plain": [
       "   00  000  000421  001274  00527172874  01  01d08e1e  01t11  02  03  ...  \\\n",
       "0   0    0       0       0            0   0         0      0   0   0  ...   \n",
       "1   1    0       0       0            0   0         0      0   0   0  ...   \n",
       "2   0    0       0       0            0   0         0      0   0   0  ...   \n",
       "\n",
       "   zest  zinc  zolmitriptan  zostavax  évidence  úlcera  ımportant  \\\n",
       "0     0     0             0         0         0       0          0   \n",
       "1     0     0             0         0         0       0          0   \n",
       "2     0     0             0         0         0       0          0   \n",
       "\n",
       "   ınformatıon  ıs  col  \n",
       "0            0   0    0  \n",
       "1            0   0    1  \n",
       "2            0   0    2  \n",
       "\n",
       "[3 rows x 6551 columns]"
      ]
     },
     "execution_count": 30,
     "metadata": {},
     "output_type": "execute_result"
    }
   ],
   "source": [
    "dfqu_vec['col'] = range(0,1000)\n",
    "dfqu_vec.head(3)"
   ]
  },
  {
   "cell_type": "code",
   "execution_count": 31,
   "id": "89a26de7-6045-450a-9363-b0b18edbf201",
   "metadata": {},
   "outputs": [
    {
     "data": {
      "text/html": [
       "<div>\n",
       "<style scoped>\n",
       "    .dataframe tbody tr th:only-of-type {\n",
       "        vertical-align: middle;\n",
       "    }\n",
       "\n",
       "    .dataframe tbody tr th {\n",
       "        vertical-align: top;\n",
       "    }\n",
       "\n",
       "    .dataframe thead th {\n",
       "        text-align: right;\n",
       "    }\n",
       "</style>\n",
       "<table border=\"1\" class=\"dataframe\">\n",
       "  <thead>\n",
       "    <tr style=\"text-align: right;\">\n",
       "      <th></th>\n",
       "      <th>File</th>\n",
       "      <th>message</th>\n",
       "      <th>binary</th>\n",
       "      <th>specialty</th>\n",
       "      <th>Summary</th>\n",
       "      <th>specialty.1</th>\n",
       "      <th>Unnamed: 6</th>\n",
       "      <th>message_word_count</th>\n",
       "      <th>col</th>\n",
       "    </tr>\n",
       "  </thead>\n",
       "  <tbody>\n",
       "    <tr>\n",
       "      <th>0</th>\n",
       "      <td>1-131188152.xml.txt</td>\n",
       "      <td>SUBJECT: who and where to get cetirizine - D\\n MESSAGE: I need/want to know who manufscturs Cetirizine. My Walmart is looking for a new supply and are not getting the recent</td>\n",
       "      <td>pharmacist</td>\n",
       "      <td>pharmacist</td>\n",
       "      <td>Who manufactures cetirizine?</td>\n",
       "      <td>pharmacist</td>\n",
       "      <td>pharmacist</td>\n",
       "      <td>31</td>\n",
       "      <td>0</td>\n",
       "    </tr>\n",
       "    <tr>\n",
       "      <th>1</th>\n",
       "      <td>14348.txt</td>\n",
       "      <td>who makes bromocriptine\\n i am wondering what company makes the drug bromocriptine, i need it for a mass i have on my pituitary gland and the cost just keeps raising. i cannot ever buy a full prescription because of the price and i was told if i get a hold of the maker of the drug sometimes they offer coupons or something to help me afford the medicine. if i buy 10 pills in which i have to take 2 times a day it costs me 78.00. and that is how i have to buy them. thanks.</td>\n",
       "      <td>pharmacist</td>\n",
       "      <td>pharmacist</td>\n",
       "      <td>Who manufactures bromocriptine?</td>\n",
       "      <td>pediatrician</td>\n",
       "      <td>internist</td>\n",
       "      <td>97</td>\n",
       "      <td>1</td>\n",
       "    </tr>\n",
       "    <tr>\n",
       "      <th>2</th>\n",
       "      <td>1-131985747.xml.txt</td>\n",
       "      <td>SUBJECT: nulytely\\n MESSAGE: Hello can you tell me where do i order the nulytely who is the manufacture, what phone number can i call. thanks.</td>\n",
       "      <td>pharmacist</td>\n",
       "      <td>pharmacist</td>\n",
       "      <td>Who makes nulytely, and where can I buy it?</td>\n",
       "      <td>oncologist</td>\n",
       "      <td>dentist</td>\n",
       "      <td>25</td>\n",
       "      <td>2</td>\n",
       "    </tr>\n",
       "  </tbody>\n",
       "</table>\n",
       "</div>"
      ],
      "text/plain": [
       "                  File  \\\n",
       "0  1-131188152.xml.txt   \n",
       "1            14348.txt   \n",
       "2  1-131985747.xml.txt   \n",
       "\n",
       "                                                                                                                                                                                                                                                                                                                                                                                                                                                                                      message  \\\n",
       "0                                                                                                                                                                                                                                                                                                               SUBJECT: who and where to get cetirizine - D\\n MESSAGE: I need/want to know who manufscturs Cetirizine. My Walmart is looking for a new supply and are not getting the recent   \n",
       "1  who makes bromocriptine\\n i am wondering what company makes the drug bromocriptine, i need it for a mass i have on my pituitary gland and the cost just keeps raising. i cannot ever buy a full prescription because of the price and i was told if i get a hold of the maker of the drug sometimes they offer coupons or something to help me afford the medicine. if i buy 10 pills in which i have to take 2 times a day it costs me 78.00. and that is how i have to buy them. thanks.   \n",
       "2                                                                                                                                                                                                                                                                                                                                              SUBJECT: nulytely\\n MESSAGE: Hello can you tell me where do i order the nulytely who is the manufacture, what phone number can i call. thanks.   \n",
       "\n",
       "       binary   specialty                                      Summary  \\\n",
       "0  pharmacist  pharmacist                 Who manufactures cetirizine?   \n",
       "1  pharmacist  pharmacist              Who manufactures bromocriptine?   \n",
       "2  pharmacist  pharmacist  Who makes nulytely, and where can I buy it?   \n",
       "\n",
       "    specialty.1  Unnamed: 6  message_word_count  col  \n",
       "0    pharmacist  pharmacist                  31    0  \n",
       "1  pediatrician   internist                  97    1  \n",
       "2    oncologist     dentist                  25    2  "
      ]
     },
     "execution_count": 31,
     "metadata": {},
     "output_type": "execute_result"
    }
   ],
   "source": [
    "questions['col'] = range(0,1000)\n",
    "questions.head(3)"
   ]
  },
  {
   "cell_type": "code",
   "execution_count": 32,
   "id": "2f812e35-09c0-4d07-8428-d73b234495bd",
   "metadata": {},
   "outputs": [
    {
     "data": {
      "text/html": [
       "<div>\n",
       "<style scoped>\n",
       "    .dataframe tbody tr th:only-of-type {\n",
       "        vertical-align: middle;\n",
       "    }\n",
       "\n",
       "    .dataframe tbody tr th {\n",
       "        vertical-align: top;\n",
       "    }\n",
       "\n",
       "    .dataframe thead th {\n",
       "        text-align: right;\n",
       "    }\n",
       "</style>\n",
       "<table border=\"1\" class=\"dataframe\">\n",
       "  <thead>\n",
       "    <tr style=\"text-align: right;\">\n",
       "      <th></th>\n",
       "      <th>00</th>\n",
       "      <th>000</th>\n",
       "      <th>000421</th>\n",
       "      <th>001274</th>\n",
       "      <th>00527172874</th>\n",
       "      <th>01</th>\n",
       "      <th>01d08e1e</th>\n",
       "      <th>01t11</th>\n",
       "      <th>02</th>\n",
       "      <th>03</th>\n",
       "      <th>...</th>\n",
       "      <th>zinc</th>\n",
       "      <th>zolmitriptan</th>\n",
       "      <th>zostavax</th>\n",
       "      <th>évidence</th>\n",
       "      <th>úlcera</th>\n",
       "      <th>ımportant</th>\n",
       "      <th>ınformatıon</th>\n",
       "      <th>ıs</th>\n",
       "      <th>col</th>\n",
       "      <th>binary</th>\n",
       "    </tr>\n",
       "  </thead>\n",
       "  <tbody>\n",
       "    <tr>\n",
       "      <th>0</th>\n",
       "      <td>0</td>\n",
       "      <td>0</td>\n",
       "      <td>0</td>\n",
       "      <td>0</td>\n",
       "      <td>0</td>\n",
       "      <td>0</td>\n",
       "      <td>0</td>\n",
       "      <td>0</td>\n",
       "      <td>0</td>\n",
       "      <td>0</td>\n",
       "      <td>...</td>\n",
       "      <td>0</td>\n",
       "      <td>0</td>\n",
       "      <td>0</td>\n",
       "      <td>0</td>\n",
       "      <td>0</td>\n",
       "      <td>0</td>\n",
       "      <td>0</td>\n",
       "      <td>0</td>\n",
       "      <td>0</td>\n",
       "      <td>pharmacist</td>\n",
       "    </tr>\n",
       "    <tr>\n",
       "      <th>1</th>\n",
       "      <td>1</td>\n",
       "      <td>0</td>\n",
       "      <td>0</td>\n",
       "      <td>0</td>\n",
       "      <td>0</td>\n",
       "      <td>0</td>\n",
       "      <td>0</td>\n",
       "      <td>0</td>\n",
       "      <td>0</td>\n",
       "      <td>0</td>\n",
       "      <td>...</td>\n",
       "      <td>0</td>\n",
       "      <td>0</td>\n",
       "      <td>0</td>\n",
       "      <td>0</td>\n",
       "      <td>0</td>\n",
       "      <td>0</td>\n",
       "      <td>0</td>\n",
       "      <td>0</td>\n",
       "      <td>1</td>\n",
       "      <td>pharmacist</td>\n",
       "    </tr>\n",
       "    <tr>\n",
       "      <th>2</th>\n",
       "      <td>0</td>\n",
       "      <td>0</td>\n",
       "      <td>0</td>\n",
       "      <td>0</td>\n",
       "      <td>0</td>\n",
       "      <td>0</td>\n",
       "      <td>0</td>\n",
       "      <td>0</td>\n",
       "      <td>0</td>\n",
       "      <td>0</td>\n",
       "      <td>...</td>\n",
       "      <td>0</td>\n",
       "      <td>0</td>\n",
       "      <td>0</td>\n",
       "      <td>0</td>\n",
       "      <td>0</td>\n",
       "      <td>0</td>\n",
       "      <td>0</td>\n",
       "      <td>0</td>\n",
       "      <td>2</td>\n",
       "      <td>pharmacist</td>\n",
       "    </tr>\n",
       "  </tbody>\n",
       "</table>\n",
       "<p>3 rows × 6552 columns</p>\n",
       "</div>"
      ],
      "text/plain": [
       "   00  000  000421  001274  00527172874  01  01d08e1e  01t11  02  03  ...  \\\n",
       "0   0    0       0       0            0   0         0      0   0   0  ...   \n",
       "1   1    0       0       0            0   0         0      0   0   0  ...   \n",
       "2   0    0       0       0            0   0         0      0   0   0  ...   \n",
       "\n",
       "   zinc  zolmitriptan  zostavax  évidence  úlcera  ımportant  ınformatıon  ıs  \\\n",
       "0     0             0         0         0       0          0            0   0   \n",
       "1     0             0         0         0       0          0            0   0   \n",
       "2     0             0         0         0       0          0            0   0   \n",
       "\n",
       "   col      binary  \n",
       "0    0  pharmacist  \n",
       "1    1  pharmacist  \n",
       "2    2  pharmacist  \n",
       "\n",
       "[3 rows x 6552 columns]"
      ]
     },
     "execution_count": 32,
     "metadata": {},
     "output_type": "execute_result"
    }
   ],
   "source": [
    "df_all = pd.merge(left = dfqu_vec, right = questions[['binary', 'col']], how = 'left', left_on = 'col', right_on = 'col')\n",
    "df_all.head(3)"
   ]
  },
  {
   "cell_type": "code",
   "execution_count": 33,
   "id": "438de2ea-bfa7-4fc3-b707-9cfe90b3a5b4",
   "metadata": {},
   "outputs": [
    {
     "data": {
      "text/html": [
       "<div>\n",
       "<style scoped>\n",
       "    .dataframe tbody tr th:only-of-type {\n",
       "        vertical-align: middle;\n",
       "    }\n",
       "\n",
       "    .dataframe tbody tr th {\n",
       "        vertical-align: top;\n",
       "    }\n",
       "\n",
       "    .dataframe thead th {\n",
       "        text-align: right;\n",
       "    }\n",
       "</style>\n",
       "<table border=\"1\" class=\"dataframe\">\n",
       "  <thead>\n",
       "    <tr style=\"text-align: right;\">\n",
       "      <th></th>\n",
       "      <th>00</th>\n",
       "      <th>000</th>\n",
       "      <th>000421</th>\n",
       "      <th>001274</th>\n",
       "      <th>00527172874</th>\n",
       "      <th>01</th>\n",
       "      <th>01d08e1e</th>\n",
       "      <th>01t11</th>\n",
       "      <th>02</th>\n",
       "      <th>03</th>\n",
       "      <th>...</th>\n",
       "      <th>zest</th>\n",
       "      <th>zinc</th>\n",
       "      <th>zolmitriptan</th>\n",
       "      <th>zostavax</th>\n",
       "      <th>évidence</th>\n",
       "      <th>úlcera</th>\n",
       "      <th>ımportant</th>\n",
       "      <th>ınformatıon</th>\n",
       "      <th>ıs</th>\n",
       "      <th>binary</th>\n",
       "    </tr>\n",
       "  </thead>\n",
       "  <tbody>\n",
       "    <tr>\n",
       "      <th>0</th>\n",
       "      <td>0</td>\n",
       "      <td>0</td>\n",
       "      <td>0</td>\n",
       "      <td>0</td>\n",
       "      <td>0</td>\n",
       "      <td>0</td>\n",
       "      <td>0</td>\n",
       "      <td>0</td>\n",
       "      <td>0</td>\n",
       "      <td>0</td>\n",
       "      <td>...</td>\n",
       "      <td>0</td>\n",
       "      <td>0</td>\n",
       "      <td>0</td>\n",
       "      <td>0</td>\n",
       "      <td>0</td>\n",
       "      <td>0</td>\n",
       "      <td>0</td>\n",
       "      <td>0</td>\n",
       "      <td>0</td>\n",
       "      <td>pharmacist</td>\n",
       "    </tr>\n",
       "    <tr>\n",
       "      <th>1</th>\n",
       "      <td>1</td>\n",
       "      <td>0</td>\n",
       "      <td>0</td>\n",
       "      <td>0</td>\n",
       "      <td>0</td>\n",
       "      <td>0</td>\n",
       "      <td>0</td>\n",
       "      <td>0</td>\n",
       "      <td>0</td>\n",
       "      <td>0</td>\n",
       "      <td>...</td>\n",
       "      <td>0</td>\n",
       "      <td>0</td>\n",
       "      <td>0</td>\n",
       "      <td>0</td>\n",
       "      <td>0</td>\n",
       "      <td>0</td>\n",
       "      <td>0</td>\n",
       "      <td>0</td>\n",
       "      <td>0</td>\n",
       "      <td>pharmacist</td>\n",
       "    </tr>\n",
       "    <tr>\n",
       "      <th>2</th>\n",
       "      <td>0</td>\n",
       "      <td>0</td>\n",
       "      <td>0</td>\n",
       "      <td>0</td>\n",
       "      <td>0</td>\n",
       "      <td>0</td>\n",
       "      <td>0</td>\n",
       "      <td>0</td>\n",
       "      <td>0</td>\n",
       "      <td>0</td>\n",
       "      <td>...</td>\n",
       "      <td>0</td>\n",
       "      <td>0</td>\n",
       "      <td>0</td>\n",
       "      <td>0</td>\n",
       "      <td>0</td>\n",
       "      <td>0</td>\n",
       "      <td>0</td>\n",
       "      <td>0</td>\n",
       "      <td>0</td>\n",
       "      <td>pharmacist</td>\n",
       "    </tr>\n",
       "  </tbody>\n",
       "</table>\n",
       "<p>3 rows × 6551 columns</p>\n",
       "</div>"
      ],
      "text/plain": [
       "   00  000  000421  001274  00527172874  01  01d08e1e  01t11  02  03  ...  \\\n",
       "0   0    0       0       0            0   0         0      0   0   0  ...   \n",
       "1   1    0       0       0            0   0         0      0   0   0  ...   \n",
       "2   0    0       0       0            0   0         0      0   0   0  ...   \n",
       "\n",
       "   zest  zinc  zolmitriptan  zostavax  évidence  úlcera  ımportant  \\\n",
       "0     0     0             0         0         0       0          0   \n",
       "1     0     0             0         0         0       0          0   \n",
       "2     0     0             0         0         0       0          0   \n",
       "\n",
       "   ınformatıon  ıs      binary  \n",
       "0            0   0  pharmacist  \n",
       "1            0   0  pharmacist  \n",
       "2            0   0  pharmacist  \n",
       "\n",
       "[3 rows x 6551 columns]"
      ]
     },
     "execution_count": 33,
     "metadata": {},
     "output_type": "execute_result"
    }
   ],
   "source": [
    "df_all.drop(columns='col', inplace=True)\n",
    "df_all.head(3)"
   ]
  },
  {
   "cell_type": "code",
   "execution_count": 34,
   "id": "6fb56535-2083-4d90-9c99-38c73d459ea0",
   "metadata": {
    "tags": []
   },
   "outputs": [
    {
     "data": {
      "text/html": [
       "<div>\n",
       "<style scoped>\n",
       "    .dataframe tbody tr th:only-of-type {\n",
       "        vertical-align: middle;\n",
       "    }\n",
       "\n",
       "    .dataframe tbody tr th {\n",
       "        vertical-align: top;\n",
       "    }\n",
       "\n",
       "    .dataframe thead th {\n",
       "        text-align: right;\n",
       "    }\n",
       "</style>\n",
       "<table border=\"1\" class=\"dataframe\">\n",
       "  <thead>\n",
       "    <tr style=\"text-align: right;\">\n",
       "      <th></th>\n",
       "      <th>00</th>\n",
       "      <th>000</th>\n",
       "      <th>000421</th>\n",
       "      <th>001274</th>\n",
       "      <th>00527172874</th>\n",
       "      <th>01</th>\n",
       "      <th>01d08e1e</th>\n",
       "      <th>01t11</th>\n",
       "      <th>02</th>\n",
       "      <th>03</th>\n",
       "      <th>...</th>\n",
       "      <th>zest</th>\n",
       "      <th>zinc</th>\n",
       "      <th>zolmitriptan</th>\n",
       "      <th>zostavax</th>\n",
       "      <th>évidence</th>\n",
       "      <th>úlcera</th>\n",
       "      <th>ımportant</th>\n",
       "      <th>ınformatıon</th>\n",
       "      <th>ıs</th>\n",
       "      <th>binary</th>\n",
       "    </tr>\n",
       "  </thead>\n",
       "  <tbody>\n",
       "    <tr>\n",
       "      <th>0</th>\n",
       "      <td>0</td>\n",
       "      <td>0</td>\n",
       "      <td>0</td>\n",
       "      <td>0</td>\n",
       "      <td>0</td>\n",
       "      <td>0</td>\n",
       "      <td>0</td>\n",
       "      <td>0</td>\n",
       "      <td>0</td>\n",
       "      <td>0</td>\n",
       "      <td>...</td>\n",
       "      <td>0</td>\n",
       "      <td>0</td>\n",
       "      <td>0</td>\n",
       "      <td>0</td>\n",
       "      <td>0</td>\n",
       "      <td>0</td>\n",
       "      <td>0</td>\n",
       "      <td>0</td>\n",
       "      <td>0</td>\n",
       "      <td>pharmacist</td>\n",
       "    </tr>\n",
       "    <tr>\n",
       "      <th>1</th>\n",
       "      <td>1</td>\n",
       "      <td>0</td>\n",
       "      <td>0</td>\n",
       "      <td>0</td>\n",
       "      <td>0</td>\n",
       "      <td>0</td>\n",
       "      <td>0</td>\n",
       "      <td>0</td>\n",
       "      <td>0</td>\n",
       "      <td>0</td>\n",
       "      <td>...</td>\n",
       "      <td>0</td>\n",
       "      <td>0</td>\n",
       "      <td>0</td>\n",
       "      <td>0</td>\n",
       "      <td>0</td>\n",
       "      <td>0</td>\n",
       "      <td>0</td>\n",
       "      <td>0</td>\n",
       "      <td>0</td>\n",
       "      <td>pharmacist</td>\n",
       "    </tr>\n",
       "    <tr>\n",
       "      <th>2</th>\n",
       "      <td>0</td>\n",
       "      <td>0</td>\n",
       "      <td>0</td>\n",
       "      <td>0</td>\n",
       "      <td>0</td>\n",
       "      <td>0</td>\n",
       "      <td>0</td>\n",
       "      <td>0</td>\n",
       "      <td>0</td>\n",
       "      <td>0</td>\n",
       "      <td>...</td>\n",
       "      <td>0</td>\n",
       "      <td>0</td>\n",
       "      <td>0</td>\n",
       "      <td>0</td>\n",
       "      <td>0</td>\n",
       "      <td>0</td>\n",
       "      <td>0</td>\n",
       "      <td>0</td>\n",
       "      <td>0</td>\n",
       "      <td>pharmacist</td>\n",
       "    </tr>\n",
       "  </tbody>\n",
       "</table>\n",
       "<p>3 rows × 6551 columns</p>\n",
       "</div>"
      ],
      "text/plain": [
       "   00  000  000421  001274  00527172874  01  01d08e1e  01t11  02  03  ...  \\\n",
       "0   0    0       0       0            0   0         0      0   0   0  ...   \n",
       "1   1    0       0       0            0   0         0      0   0   0  ...   \n",
       "2   0    0       0       0            0   0         0      0   0   0  ...   \n",
       "\n",
       "   zest  zinc  zolmitriptan  zostavax  évidence  úlcera  ımportant  \\\n",
       "0     0     0             0         0         0       0          0   \n",
       "1     0     0             0         0         0       0          0   \n",
       "2     0     0             0         0         0       0          0   \n",
       "\n",
       "   ınformatıon  ıs      binary  \n",
       "0            0   0  pharmacist  \n",
       "1            0   0  pharmacist  \n",
       "2            0   0  pharmacist  \n",
       "\n",
       "[3 rows x 6551 columns]"
      ]
     },
     "execution_count": 34,
     "metadata": {},
     "output_type": "execute_result"
    }
   ],
   "source": [
    "df_all[df_all['binary'] == 'pharmacist'].head(3)"
   ]
  },
  {
   "cell_type": "code",
   "execution_count": 35,
   "id": "3faaeae1-aa17-4aeb-95ff-5101bdb0b5ea",
   "metadata": {},
   "outputs": [
    {
     "name": "stderr",
     "output_type": "stream",
     "text": [
      "/var/folders/3x/mhg15qwn5vs8792nlh38tg080000gn/T/ipykernel_81928/3429303352.py:2: SettingWithCopyWarning:\n",
      "\n",
      "\n",
      "A value is trying to be set on a copy of a slice from a DataFrame\n",
      "\n",
      "See the caveats in the documentation: https://pandas.pydata.org/pandas-docs/stable/user_guide/indexing.html#returning-a-view-versus-a-copy\n",
      "\n"
     ]
    },
    {
     "data": {
      "application/vnd.plotly.v1+json": {
       "config": {
        "plotlyServerURL": "https://plot.ly"
       },
       "data": [
        {
         "alignmentgroup": "True",
         "hovertemplate": "Common Word=%{x}<br>Count=%{y}<extra></extra>",
         "legendgroup": "",
         "marker": {
          "color": "#636efa",
          "pattern": {
           "shape": ""
          }
         },
         "name": "",
         "offsetgroup": "",
         "orientation": "v",
         "showlegend": false,
         "textposition": "auto",
         "type": "bar",
         "x": [
          "message",
          "subject",
          "name",
          "help",
          "please",
          "would",
          "know",
          "years",
          "information",
          "treatment",
          "old",
          "location",
          "need",
          "get",
          "thank"
         ],
         "xaxis": "x",
         "y": [
          599,
          541,
          319,
          308,
          233,
          211,
          206,
          194,
          174,
          161,
          155,
          152,
          144,
          143,
          138
         ],
         "yaxis": "y"
        }
       ],
       "layout": {
        "autosize": true,
        "barmode": "relative",
        "legend": {
         "tracegroupgap": 0
        },
        "template": {
         "data": {
          "bar": [
           {
            "error_x": {
             "color": "#2a3f5f"
            },
            "error_y": {
             "color": "#2a3f5f"
            },
            "marker": {
             "line": {
              "color": "#E5ECF6",
              "width": 0.5
             },
             "pattern": {
              "fillmode": "overlay",
              "size": 10,
              "solidity": 0.2
             }
            },
            "type": "bar"
           }
          ],
          "barpolar": [
           {
            "marker": {
             "line": {
              "color": "#E5ECF6",
              "width": 0.5
             },
             "pattern": {
              "fillmode": "overlay",
              "size": 10,
              "solidity": 0.2
             }
            },
            "type": "barpolar"
           }
          ],
          "carpet": [
           {
            "aaxis": {
             "endlinecolor": "#2a3f5f",
             "gridcolor": "white",
             "linecolor": "white",
             "minorgridcolor": "white",
             "startlinecolor": "#2a3f5f"
            },
            "baxis": {
             "endlinecolor": "#2a3f5f",
             "gridcolor": "white",
             "linecolor": "white",
             "minorgridcolor": "white",
             "startlinecolor": "#2a3f5f"
            },
            "type": "carpet"
           }
          ],
          "choropleth": [
           {
            "colorbar": {
             "outlinewidth": 0,
             "ticks": ""
            },
            "type": "choropleth"
           }
          ],
          "contour": [
           {
            "colorbar": {
             "outlinewidth": 0,
             "ticks": ""
            },
            "colorscale": [
             [
              0,
              "#0d0887"
             ],
             [
              0.1111111111111111,
              "#46039f"
             ],
             [
              0.2222222222222222,
              "#7201a8"
             ],
             [
              0.3333333333333333,
              "#9c179e"
             ],
             [
              0.4444444444444444,
              "#bd3786"
             ],
             [
              0.5555555555555556,
              "#d8576b"
             ],
             [
              0.6666666666666666,
              "#ed7953"
             ],
             [
              0.7777777777777778,
              "#fb9f3a"
             ],
             [
              0.8888888888888888,
              "#fdca26"
             ],
             [
              1,
              "#f0f921"
             ]
            ],
            "type": "contour"
           }
          ],
          "contourcarpet": [
           {
            "colorbar": {
             "outlinewidth": 0,
             "ticks": ""
            },
            "type": "contourcarpet"
           }
          ],
          "heatmap": [
           {
            "colorbar": {
             "outlinewidth": 0,
             "ticks": ""
            },
            "colorscale": [
             [
              0,
              "#0d0887"
             ],
             [
              0.1111111111111111,
              "#46039f"
             ],
             [
              0.2222222222222222,
              "#7201a8"
             ],
             [
              0.3333333333333333,
              "#9c179e"
             ],
             [
              0.4444444444444444,
              "#bd3786"
             ],
             [
              0.5555555555555556,
              "#d8576b"
             ],
             [
              0.6666666666666666,
              "#ed7953"
             ],
             [
              0.7777777777777778,
              "#fb9f3a"
             ],
             [
              0.8888888888888888,
              "#fdca26"
             ],
             [
              1,
              "#f0f921"
             ]
            ],
            "type": "heatmap"
           }
          ],
          "heatmapgl": [
           {
            "colorbar": {
             "outlinewidth": 0,
             "ticks": ""
            },
            "colorscale": [
             [
              0,
              "#0d0887"
             ],
             [
              0.1111111111111111,
              "#46039f"
             ],
             [
              0.2222222222222222,
              "#7201a8"
             ],
             [
              0.3333333333333333,
              "#9c179e"
             ],
             [
              0.4444444444444444,
              "#bd3786"
             ],
             [
              0.5555555555555556,
              "#d8576b"
             ],
             [
              0.6666666666666666,
              "#ed7953"
             ],
             [
              0.7777777777777778,
              "#fb9f3a"
             ],
             [
              0.8888888888888888,
              "#fdca26"
             ],
             [
              1,
              "#f0f921"
             ]
            ],
            "type": "heatmapgl"
           }
          ],
          "histogram": [
           {
            "marker": {
             "pattern": {
              "fillmode": "overlay",
              "size": 10,
              "solidity": 0.2
             }
            },
            "type": "histogram"
           }
          ],
          "histogram2d": [
           {
            "colorbar": {
             "outlinewidth": 0,
             "ticks": ""
            },
            "colorscale": [
             [
              0,
              "#0d0887"
             ],
             [
              0.1111111111111111,
              "#46039f"
             ],
             [
              0.2222222222222222,
              "#7201a8"
             ],
             [
              0.3333333333333333,
              "#9c179e"
             ],
             [
              0.4444444444444444,
              "#bd3786"
             ],
             [
              0.5555555555555556,
              "#d8576b"
             ],
             [
              0.6666666666666666,
              "#ed7953"
             ],
             [
              0.7777777777777778,
              "#fb9f3a"
             ],
             [
              0.8888888888888888,
              "#fdca26"
             ],
             [
              1,
              "#f0f921"
             ]
            ],
            "type": "histogram2d"
           }
          ],
          "histogram2dcontour": [
           {
            "colorbar": {
             "outlinewidth": 0,
             "ticks": ""
            },
            "colorscale": [
             [
              0,
              "#0d0887"
             ],
             [
              0.1111111111111111,
              "#46039f"
             ],
             [
              0.2222222222222222,
              "#7201a8"
             ],
             [
              0.3333333333333333,
              "#9c179e"
             ],
             [
              0.4444444444444444,
              "#bd3786"
             ],
             [
              0.5555555555555556,
              "#d8576b"
             ],
             [
              0.6666666666666666,
              "#ed7953"
             ],
             [
              0.7777777777777778,
              "#fb9f3a"
             ],
             [
              0.8888888888888888,
              "#fdca26"
             ],
             [
              1,
              "#f0f921"
             ]
            ],
            "type": "histogram2dcontour"
           }
          ],
          "mesh3d": [
           {
            "colorbar": {
             "outlinewidth": 0,
             "ticks": ""
            },
            "type": "mesh3d"
           }
          ],
          "parcoords": [
           {
            "line": {
             "colorbar": {
              "outlinewidth": 0,
              "ticks": ""
             }
            },
            "type": "parcoords"
           }
          ],
          "pie": [
           {
            "automargin": true,
            "type": "pie"
           }
          ],
          "scatter": [
           {
            "fillpattern": {
             "fillmode": "overlay",
             "size": 10,
             "solidity": 0.2
            },
            "type": "scatter"
           }
          ],
          "scatter3d": [
           {
            "line": {
             "colorbar": {
              "outlinewidth": 0,
              "ticks": ""
             }
            },
            "marker": {
             "colorbar": {
              "outlinewidth": 0,
              "ticks": ""
             }
            },
            "type": "scatter3d"
           }
          ],
          "scattercarpet": [
           {
            "marker": {
             "colorbar": {
              "outlinewidth": 0,
              "ticks": ""
             }
            },
            "type": "scattercarpet"
           }
          ],
          "scattergeo": [
           {
            "marker": {
             "colorbar": {
              "outlinewidth": 0,
              "ticks": ""
             }
            },
            "type": "scattergeo"
           }
          ],
          "scattergl": [
           {
            "marker": {
             "colorbar": {
              "outlinewidth": 0,
              "ticks": ""
             }
            },
            "type": "scattergl"
           }
          ],
          "scattermapbox": [
           {
            "marker": {
             "colorbar": {
              "outlinewidth": 0,
              "ticks": ""
             }
            },
            "type": "scattermapbox"
           }
          ],
          "scatterpolar": [
           {
            "marker": {
             "colorbar": {
              "outlinewidth": 0,
              "ticks": ""
             }
            },
            "type": "scatterpolar"
           }
          ],
          "scatterpolargl": [
           {
            "marker": {
             "colorbar": {
              "outlinewidth": 0,
              "ticks": ""
             }
            },
            "type": "scatterpolargl"
           }
          ],
          "scatterternary": [
           {
            "marker": {
             "colorbar": {
              "outlinewidth": 0,
              "ticks": ""
             }
            },
            "type": "scatterternary"
           }
          ],
          "surface": [
           {
            "colorbar": {
             "outlinewidth": 0,
             "ticks": ""
            },
            "colorscale": [
             [
              0,
              "#0d0887"
             ],
             [
              0.1111111111111111,
              "#46039f"
             ],
             [
              0.2222222222222222,
              "#7201a8"
             ],
             [
              0.3333333333333333,
              "#9c179e"
             ],
             [
              0.4444444444444444,
              "#bd3786"
             ],
             [
              0.5555555555555556,
              "#d8576b"
             ],
             [
              0.6666666666666666,
              "#ed7953"
             ],
             [
              0.7777777777777778,
              "#fb9f3a"
             ],
             [
              0.8888888888888888,
              "#fdca26"
             ],
             [
              1,
              "#f0f921"
             ]
            ],
            "type": "surface"
           }
          ],
          "table": [
           {
            "cells": {
             "fill": {
              "color": "#EBF0F8"
             },
             "line": {
              "color": "white"
             }
            },
            "header": {
             "fill": {
              "color": "#C8D4E3"
             },
             "line": {
              "color": "white"
             }
            },
            "type": "table"
           }
          ]
         },
         "layout": {
          "annotationdefaults": {
           "arrowcolor": "#2a3f5f",
           "arrowhead": 0,
           "arrowwidth": 1
          },
          "autotypenumbers": "strict",
          "coloraxis": {
           "colorbar": {
            "outlinewidth": 0,
            "ticks": ""
           }
          },
          "colorscale": {
           "diverging": [
            [
             0,
             "#8e0152"
            ],
            [
             0.1,
             "#c51b7d"
            ],
            [
             0.2,
             "#de77ae"
            ],
            [
             0.3,
             "#f1b6da"
            ],
            [
             0.4,
             "#fde0ef"
            ],
            [
             0.5,
             "#f7f7f7"
            ],
            [
             0.6,
             "#e6f5d0"
            ],
            [
             0.7,
             "#b8e186"
            ],
            [
             0.8,
             "#7fbc41"
            ],
            [
             0.9,
             "#4d9221"
            ],
            [
             1,
             "#276419"
            ]
           ],
           "sequential": [
            [
             0,
             "#0d0887"
            ],
            [
             0.1111111111111111,
             "#46039f"
            ],
            [
             0.2222222222222222,
             "#7201a8"
            ],
            [
             0.3333333333333333,
             "#9c179e"
            ],
            [
             0.4444444444444444,
             "#bd3786"
            ],
            [
             0.5555555555555556,
             "#d8576b"
            ],
            [
             0.6666666666666666,
             "#ed7953"
            ],
            [
             0.7777777777777778,
             "#fb9f3a"
            ],
            [
             0.8888888888888888,
             "#fdca26"
            ],
            [
             1,
             "#f0f921"
            ]
           ],
           "sequentialminus": [
            [
             0,
             "#0d0887"
            ],
            [
             0.1111111111111111,
             "#46039f"
            ],
            [
             0.2222222222222222,
             "#7201a8"
            ],
            [
             0.3333333333333333,
             "#9c179e"
            ],
            [
             0.4444444444444444,
             "#bd3786"
            ],
            [
             0.5555555555555556,
             "#d8576b"
            ],
            [
             0.6666666666666666,
             "#ed7953"
            ],
            [
             0.7777777777777778,
             "#fb9f3a"
            ],
            [
             0.8888888888888888,
             "#fdca26"
            ],
            [
             1,
             "#f0f921"
            ]
           ]
          },
          "colorway": [
           "#636efa",
           "#EF553B",
           "#00cc96",
           "#ab63fa",
           "#FFA15A",
           "#19d3f3",
           "#FF6692",
           "#B6E880",
           "#FF97FF",
           "#FECB52"
          ],
          "font": {
           "color": "#2a3f5f"
          },
          "geo": {
           "bgcolor": "white",
           "lakecolor": "white",
           "landcolor": "#E5ECF6",
           "showlakes": true,
           "showland": true,
           "subunitcolor": "white"
          },
          "hoverlabel": {
           "align": "left"
          },
          "hovermode": "closest",
          "mapbox": {
           "style": "light"
          },
          "paper_bgcolor": "white",
          "plot_bgcolor": "#E5ECF6",
          "polar": {
           "angularaxis": {
            "gridcolor": "white",
            "linecolor": "white",
            "ticks": ""
           },
           "bgcolor": "#E5ECF6",
           "radialaxis": {
            "gridcolor": "white",
            "linecolor": "white",
            "ticks": ""
           }
          },
          "scene": {
           "xaxis": {
            "backgroundcolor": "#E5ECF6",
            "gridcolor": "white",
            "gridwidth": 2,
            "linecolor": "white",
            "showbackground": true,
            "ticks": "",
            "zerolinecolor": "white"
           },
           "yaxis": {
            "backgroundcolor": "#E5ECF6",
            "gridcolor": "white",
            "gridwidth": 2,
            "linecolor": "white",
            "showbackground": true,
            "ticks": "",
            "zerolinecolor": "white"
           },
           "zaxis": {
            "backgroundcolor": "#E5ECF6",
            "gridcolor": "white",
            "gridwidth": 2,
            "linecolor": "white",
            "showbackground": true,
            "ticks": "",
            "zerolinecolor": "white"
           }
          },
          "shapedefaults": {
           "line": {
            "color": "#2a3f5f"
           }
          },
          "ternary": {
           "aaxis": {
            "gridcolor": "white",
            "linecolor": "white",
            "ticks": ""
           },
           "baxis": {
            "gridcolor": "white",
            "linecolor": "white",
            "ticks": ""
           },
           "bgcolor": "#E5ECF6",
           "caxis": {
            "gridcolor": "white",
            "linecolor": "white",
            "ticks": ""
           }
          },
          "title": {
           "x": 0.05
          },
          "xaxis": {
           "automargin": true,
           "gridcolor": "white",
           "linecolor": "white",
           "ticks": "",
           "title": {
            "standoff": 15
           },
           "zerolinecolor": "white",
           "zerolinewidth": 2
          },
          "yaxis": {
           "automargin": true,
           "gridcolor": "white",
           "linecolor": "white",
           "ticks": "",
           "title": {
            "standoff": 15
           },
           "zerolinecolor": "white",
           "zerolinewidth": 2
          }
         }
        },
        "title": {
         "text": "15 Most Common Words from Submitted Messages (Hand-Classified as Internist before Modeling)",
         "x": 0.5
        },
        "xaxis": {
         "anchor": "y",
         "autorange": true,
         "domain": [
          0,
          1
         ],
         "range": [
          -0.5,
          14.5
         ],
         "title": {
          "text": "Common Word"
         },
         "type": "category"
        },
        "yaxis": {
         "anchor": "x",
         "autorange": true,
         "domain": [
          0,
          1
         ],
         "range": [
          0,
          630.5263157894736
         ],
         "title": {
          "text": "Count"
         },
         "type": "linear"
        }
       }
      },
      "image/png": "[encoded data removed]"
     },
     "metadata": {},
     "output_type": "display_data"
    }
   ],
   "source": [
    "internist = df_all[df_all['binary'] == 'internist']\n",
    "internist.drop(columns='binary', inplace=True)\n",
    "freq1 = internist.sum().sort_values(ascending=False).head(15)\n",
    "\n",
    "bar_freq1 = px.bar(\n",
    "                  x=list(freq1.index),\n",
    "                  y=list(freq1.values),\n",
    "                  title='15 Most Common Words from Submitted Messages (Hand-Classified as Internist before Modeling)',\n",
    "                  labels = {'y': 'Count', 'x': 'Common Word'}\n",
    "\n",
    ")\n",
    "\n",
    "bar_freq1.update_layout(title_x = 0.5)"
   ]
  },
  {
   "cell_type": "code",
   "execution_count": 36,
   "id": "c2c3abc6-c42f-467f-9690-910555d1abe8",
   "metadata": {},
   "outputs": [
    {
     "name": "stderr",
     "output_type": "stream",
     "text": [
      "/var/folders/3x/mhg15qwn5vs8792nlh38tg080000gn/T/ipykernel_81928/100744022.py:2: SettingWithCopyWarning:\n",
      "\n",
      "\n",
      "A value is trying to be set on a copy of a slice from a DataFrame\n",
      "\n",
      "See the caveats in the documentation: https://pandas.pydata.org/pandas-docs/stable/user_guide/indexing.html#returning-a-view-versus-a-copy\n",
      "\n"
     ]
    },
    {
     "data": {
      "application/vnd.plotly.v1+json": {
       "config": {
        "plotlyServerURL": "https://plot.ly"
       },
       "data": [
        {
         "alignmentgroup": "True",
         "hovertemplate": "Common Word=%{x}<br>Count=%{y}<extra></extra>",
         "legendgroup": "",
         "marker": {
          "color": "#636efa",
          "pattern": {
           "shape": ""
          }
         },
         "name": "",
         "offsetgroup": "",
         "orientation": "v",
         "showlegend": false,
         "textposition": "auto",
         "type": "bar",
         "x": [
          "message",
          "subject",
          "thank",
          "name",
          "take",
          "taking",
          "gluten",
          "help",
          "medication",
          "drug",
          "years",
          "please",
          "know",
          "free",
          "mg"
         ],
         "xaxis": "x",
         "y": [
          132,
          125,
          42,
          35,
          32,
          30,
          30,
          28,
          24,
          24,
          23,
          22,
          22,
          21,
          20
         ],
         "yaxis": "y"
        }
       ],
       "layout": {
        "autosize": true,
        "barmode": "relative",
        "legend": {
         "tracegroupgap": 0
        },
        "template": {
         "data": {
          "bar": [
           {
            "error_x": {
             "color": "#2a3f5f"
            },
            "error_y": {
             "color": "#2a3f5f"
            },
            "marker": {
             "line": {
              "color": "#E5ECF6",
              "width": 0.5
             },
             "pattern": {
              "fillmode": "overlay",
              "size": 10,
              "solidity": 0.2
             }
            },
            "type": "bar"
           }
          ],
          "barpolar": [
           {
            "marker": {
             "line": {
              "color": "#E5ECF6",
              "width": 0.5
             },
             "pattern": {
              "fillmode": "overlay",
              "size": 10,
              "solidity": 0.2
             }
            },
            "type": "barpolar"
           }
          ],
          "carpet": [
           {
            "aaxis": {
             "endlinecolor": "#2a3f5f",
             "gridcolor": "white",
             "linecolor": "white",
             "minorgridcolor": "white",
             "startlinecolor": "#2a3f5f"
            },
            "baxis": {
             "endlinecolor": "#2a3f5f",
             "gridcolor": "white",
             "linecolor": "white",
             "minorgridcolor": "white",
             "startlinecolor": "#2a3f5f"
            },
            "type": "carpet"
           }
          ],
          "choropleth": [
           {
            "colorbar": {
             "outlinewidth": 0,
             "ticks": ""
            },
            "type": "choropleth"
           }
          ],
          "contour": [
           {
            "colorbar": {
             "outlinewidth": 0,
             "ticks": ""
            },
            "colorscale": [
             [
              0,
              "#0d0887"
             ],
             [
              0.1111111111111111,
              "#46039f"
             ],
             [
              0.2222222222222222,
              "#7201a8"
             ],
             [
              0.3333333333333333,
              "#9c179e"
             ],
             [
              0.4444444444444444,
              "#bd3786"
             ],
             [
              0.5555555555555556,
              "#d8576b"
             ],
             [
              0.6666666666666666,
              "#ed7953"
             ],
             [
              0.7777777777777778,
              "#fb9f3a"
             ],
             [
              0.8888888888888888,
              "#fdca26"
             ],
             [
              1,
              "#f0f921"
             ]
            ],
            "type": "contour"
           }
          ],
          "contourcarpet": [
           {
            "colorbar": {
             "outlinewidth": 0,
             "ticks": ""
            },
            "type": "contourcarpet"
           }
          ],
          "heatmap": [
           {
            "colorbar": {
             "outlinewidth": 0,
             "ticks": ""
            },
            "colorscale": [
             [
              0,
              "#0d0887"
             ],
             [
              0.1111111111111111,
              "#46039f"
             ],
             [
              0.2222222222222222,
              "#7201a8"
             ],
             [
              0.3333333333333333,
              "#9c179e"
             ],
             [
              0.4444444444444444,
              "#bd3786"
             ],
             [
              0.5555555555555556,
              "#d8576b"
             ],
             [
              0.6666666666666666,
              "#ed7953"
             ],
             [
              0.7777777777777778,
              "#fb9f3a"
             ],
             [
              0.8888888888888888,
              "#fdca26"
             ],
             [
              1,
              "#f0f921"
             ]
            ],
            "type": "heatmap"
           }
          ],
          "heatmapgl": [
           {
            "colorbar": {
             "outlinewidth": 0,
             "ticks": ""
            },
            "colorscale": [
             [
              0,
              "#0d0887"
             ],
             [
              0.1111111111111111,
              "#46039f"
             ],
             [
              0.2222222222222222,
              "#7201a8"
             ],
             [
              0.3333333333333333,
              "#9c179e"
             ],
             [
              0.4444444444444444,
              "#bd3786"
             ],
             [
              0.5555555555555556,
              "#d8576b"
             ],
             [
              0.6666666666666666,
              "#ed7953"
             ],
             [
              0.7777777777777778,
              "#fb9f3a"
             ],
             [
              0.8888888888888888,
              "#fdca26"
             ],
             [
              1,
              "#f0f921"
             ]
            ],
            "type": "heatmapgl"
           }
          ],
          "histogram": [
           {
            "marker": {
             "pattern": {
              "fillmode": "overlay",
              "size": 10,
              "solidity": 0.2
             }
            },
            "type": "histogram"
           }
          ],
          "histogram2d": [
           {
            "colorbar": {
             "outlinewidth": 0,
             "ticks": ""
            },
            "colorscale": [
             [
              0,
              "#0d0887"
             ],
             [
              0.1111111111111111,
              "#46039f"
             ],
             [
              0.2222222222222222,
              "#7201a8"
             ],
             [
              0.3333333333333333,
              "#9c179e"
             ],
             [
              0.4444444444444444,
              "#bd3786"
             ],
             [
              0.5555555555555556,
              "#d8576b"
             ],
             [
              0.6666666666666666,
              "#ed7953"
             ],
             [
              0.7777777777777778,
              "#fb9f3a"
             ],
             [
              0.8888888888888888,
              "#fdca26"
             ],
             [
              1,
              "#f0f921"
             ]
            ],
            "type": "histogram2d"
           }
          ],
          "histogram2dcontour": [
           {
            "colorbar": {
             "outlinewidth": 0,
             "ticks": ""
            },
            "colorscale": [
             [
              0,
              "#0d0887"
             ],
             [
              0.1111111111111111,
              "#46039f"
             ],
             [
              0.2222222222222222,
              "#7201a8"
             ],
             [
              0.3333333333333333,
              "#9c179e"
             ],
             [
              0.4444444444444444,
              "#bd3786"
             ],
             [
              0.5555555555555556,
              "#d8576b"
             ],
             [
              0.6666666666666666,
              "#ed7953"
             ],
             [
              0.7777777777777778,
              "#fb9f3a"
             ],
             [
              0.8888888888888888,
              "#fdca26"
             ],
             [
              1,
              "#f0f921"
             ]
            ],
            "type": "histogram2dcontour"
           }
          ],
          "mesh3d": [
           {
            "colorbar": {
             "outlinewidth": 0,
             "ticks": ""
            },
            "type": "mesh3d"
           }
          ],
          "parcoords": [
           {
            "line": {
             "colorbar": {
              "outlinewidth": 0,
              "ticks": ""
             }
            },
            "type": "parcoords"
           }
          ],
          "pie": [
           {
            "automargin": true,
            "type": "pie"
           }
          ],
          "scatter": [
           {
            "fillpattern": {
             "fillmode": "overlay",
             "size": 10,
             "solidity": 0.2
            },
            "type": "scatter"
           }
          ],
          "scatter3d": [
           {
            "line": {
             "colorbar": {
              "outlinewidth": 0,
              "ticks": ""
             }
            },
            "marker": {
             "colorbar": {
              "outlinewidth": 0,
              "ticks": ""
             }
            },
            "type": "scatter3d"
           }
          ],
          "scattercarpet": [
           {
            "marker": {
             "colorbar": {
              "outlinewidth": 0,
              "ticks": ""
             }
            },
            "type": "scattercarpet"
           }
          ],
          "scattergeo": [
           {
            "marker": {
             "colorbar": {
              "outlinewidth": 0,
              "ticks": ""
             }
            },
            "type": "scattergeo"
           }
          ],
          "scattergl": [
           {
            "marker": {
             "colorbar": {
              "outlinewidth": 0,
              "ticks": ""
             }
            },
            "type": "scattergl"
           }
          ],
          "scattermapbox": [
           {
            "marker": {
             "colorbar": {
              "outlinewidth": 0,
              "ticks": ""
             }
            },
            "type": "scattermapbox"
           }
          ],
          "scatterpolar": [
           {
            "marker": {
             "colorbar": {
              "outlinewidth": 0,
              "ticks": ""
             }
            },
            "type": "scatterpolar"
           }
          ],
          "scatterpolargl": [
           {
            "marker": {
             "colorbar": {
              "outlinewidth": 0,
              "ticks": ""
             }
            },
            "type": "scatterpolargl"
           }
          ],
          "scatterternary": [
           {
            "marker": {
             "colorbar": {
              "outlinewidth": 0,
              "ticks": ""
             }
            },
            "type": "scatterternary"
           }
          ],
          "surface": [
           {
            "colorbar": {
             "outlinewidth": 0,
             "ticks": ""
            },
            "colorscale": [
             [
              0,
              "#0d0887"
             ],
             [
              0.1111111111111111,
              "#46039f"
             ],
             [
              0.2222222222222222,
              "#7201a8"
             ],
             [
              0.3333333333333333,
              "#9c179e"
             ],
             [
              0.4444444444444444,
              "#bd3786"
             ],
             [
              0.5555555555555556,
              "#d8576b"
             ],
             [
              0.6666666666666666,
              "#ed7953"
             ],
             [
              0.7777777777777778,
              "#fb9f3a"
             ],
             [
              0.8888888888888888,
              "#fdca26"
             ],
             [
              1,
              "#f0f921"
             ]
            ],
            "type": "surface"
           }
          ],
          "table": [
           {
            "cells": {
             "fill": {
              "color": "#EBF0F8"
             },
             "line": {
              "color": "white"
             }
            },
            "header": {
             "fill": {
              "color": "#C8D4E3"
             },
             "line": {
              "color": "white"
             }
            },
            "type": "table"
           }
          ]
         },
         "layout": {
          "annotationdefaults": {
           "arrowcolor": "#2a3f5f",
           "arrowhead": 0,
           "arrowwidth": 1
          },
          "autotypenumbers": "strict",
          "coloraxis": {
           "colorbar": {
            "outlinewidth": 0,
            "ticks": ""
           }
          },
          "colorscale": {
           "diverging": [
            [
             0,
             "#8e0152"
            ],
            [
             0.1,
             "#c51b7d"
            ],
            [
             0.2,
             "#de77ae"
            ],
            [
             0.3,
             "#f1b6da"
            ],
            [
             0.4,
             "#fde0ef"
            ],
            [
             0.5,
             "#f7f7f7"
            ],
            [
             0.6,
             "#e6f5d0"
            ],
            [
             0.7,
             "#b8e186"
            ],
            [
             0.8,
             "#7fbc41"
            ],
            [
             0.9,
             "#4d9221"
            ],
            [
             1,
             "#276419"
            ]
           ],
           "sequential": [
            [
             0,
             "#0d0887"
            ],
            [
             0.1111111111111111,
             "#46039f"
            ],
            [
             0.2222222222222222,
             "#7201a8"
            ],
            [
             0.3333333333333333,
             "#9c179e"
            ],
            [
             0.4444444444444444,
             "#bd3786"
            ],
            [
             0.5555555555555556,
             "#d8576b"
            ],
            [
             0.6666666666666666,
             "#ed7953"
            ],
            [
             0.7777777777777778,
             "#fb9f3a"
            ],
            [
             0.8888888888888888,
             "#fdca26"
            ],
            [
             1,
             "#f0f921"
            ]
           ],
           "sequentialminus": [
            [
             0,
             "#0d0887"
            ],
            [
             0.1111111111111111,
             "#46039f"
            ],
            [
             0.2222222222222222,
             "#7201a8"
            ],
            [
             0.3333333333333333,
             "#9c179e"
            ],
            [
             0.4444444444444444,
             "#bd3786"
            ],
            [
             0.5555555555555556,
             "#d8576b"
            ],
            [
             0.6666666666666666,
             "#ed7953"
            ],
            [
             0.7777777777777778,
             "#fb9f3a"
            ],
            [
             0.8888888888888888,
             "#fdca26"
            ],
            [
             1,
             "#f0f921"
            ]
           ]
          },
          "colorway": [
           "#636efa",
           "#EF553B",
           "#00cc96",
           "#ab63fa",
           "#FFA15A",
           "#19d3f3",
           "#FF6692",
           "#B6E880",
           "#FF97FF",
           "#FECB52"
          ],
          "font": {
           "color": "#2a3f5f"
          },
          "geo": {
           "bgcolor": "white",
           "lakecolor": "white",
           "landcolor": "#E5ECF6",
           "showlakes": true,
           "showland": true,
           "subunitcolor": "white"
          },
          "hoverlabel": {
           "align": "left"
          },
          "hovermode": "closest",
          "mapbox": {
           "style": "light"
          },
          "paper_bgcolor": "white",
          "plot_bgcolor": "#E5ECF6",
          "polar": {
           "angularaxis": {
            "gridcolor": "white",
            "linecolor": "white",
            "ticks": ""
           },
           "bgcolor": "#E5ECF6",
           "radialaxis": {
            "gridcolor": "white",
            "linecolor": "white",
            "ticks": ""
           }
          },
          "scene": {
           "xaxis": {
            "backgroundcolor": "#E5ECF6",
            "gridcolor": "white",
            "gridwidth": 2,
            "linecolor": "white",
            "showbackground": true,
            "ticks": "",
            "zerolinecolor": "white"
           },
           "yaxis": {
            "backgroundcolor": "#E5ECF6",
            "gridcolor": "white",
            "gridwidth": 2,
            "linecolor": "white",
            "showbackground": true,
            "ticks": "",
            "zerolinecolor": "white"
           },
           "zaxis": {
            "backgroundcolor": "#E5ECF6",
            "gridcolor": "white",
            "gridwidth": 2,
            "linecolor": "white",
            "showbackground": true,
            "ticks": "",
            "zerolinecolor": "white"
           }
          },
          "shapedefaults": {
           "line": {
            "color": "#2a3f5f"
           }
          },
          "ternary": {
           "aaxis": {
            "gridcolor": "white",
            "linecolor": "white",
            "ticks": ""
           },
           "baxis": {
            "gridcolor": "white",
            "linecolor": "white",
            "ticks": ""
           },
           "bgcolor": "#E5ECF6",
           "caxis": {
            "gridcolor": "white",
            "linecolor": "white",
            "ticks": ""
           }
          },
          "title": {
           "x": 0.05
          },
          "xaxis": {
           "automargin": true,
           "gridcolor": "white",
           "linecolor": "white",
           "ticks": "",
           "title": {
            "standoff": 15
           },
           "zerolinecolor": "white",
           "zerolinewidth": 2
          },
          "yaxis": {
           "automargin": true,
           "gridcolor": "white",
           "linecolor": "white",
           "ticks": "",
           "title": {
            "standoff": 15
           },
           "zerolinecolor": "white",
           "zerolinewidth": 2
          }
         }
        },
        "title": {
         "text": "15 Most Common Words from Submitted Messages (Hand-Classified as Pharmacist before Modeling)",
         "x": 0.5
        },
        "xaxis": {
         "anchor": "y",
         "autorange": true,
         "domain": [
          0,
          1
         ],
         "range": [
          -0.5,
          14.5
         ],
         "title": {
          "text": "Common Word"
         },
         "type": "category"
        },
        "yaxis": {
         "anchor": "x",
         "autorange": true,
         "domain": [
          0,
          1
         ],
         "range": [
          0,
          138.94736842105263
         ],
         "title": {
          "text": "Count"
         },
         "type": "linear"
        }
       }
      },
      "image/png": "[encoded data removed]"
     },
     "metadata": {},
     "output_type": "display_data"
    }
   ],
   "source": [
    "pharmacist = df_all[df_all['binary'] == 'pharmacist']\n",
    "pharmacist.drop(columns='binary', inplace=True)\n",
    "freq2 = pharmacist.sum().sort_values(ascending=False).head(15)\n",
    "\n",
    "bar_freq2 = px.bar(\n",
    "                  x=list(freq2.index),\n",
    "                  y=list(freq2.values),\n",
    "                  title='15 Most Common Words from Submitted Messages (Hand-Classified as Pharmacist before Modeling)',\n",
    "                  labels = {'y': 'Count', 'x': 'Common Word'}\n",
    "\n",
    ")\n",
    "\n",
    "bar_freq2.update_layout(title_x = 0.5)"
   ]
  },
  {
   "cell_type": "code",
   "execution_count": 37,
   "id": "85fd9b72-856d-49c1-b81b-bac1fc4e5e86",
   "metadata": {},
   "outputs": [
    {
     "data": {
      "text/html": [
       "<div>\n",
       "<style scoped>\n",
       "    .dataframe tbody tr th:only-of-type {\n",
       "        vertical-align: middle;\n",
       "    }\n",
       "\n",
       "    .dataframe tbody tr th {\n",
       "        vertical-align: top;\n",
       "    }\n",
       "\n",
       "    .dataframe thead th {\n",
       "        text-align: right;\n",
       "    }\n",
       "</style>\n",
       "<table border=\"1\" class=\"dataframe\">\n",
       "  <thead>\n",
       "    <tr style=\"text-align: right;\">\n",
       "      <th></th>\n",
       "      <th>00</th>\n",
       "      <th>000</th>\n",
       "      <th>000421</th>\n",
       "      <th>001274</th>\n",
       "      <th>00527172874</th>\n",
       "      <th>01</th>\n",
       "      <th>01d08e1e</th>\n",
       "      <th>01t11</th>\n",
       "      <th>02</th>\n",
       "      <th>03</th>\n",
       "      <th>...</th>\n",
       "      <th>zest</th>\n",
       "      <th>zinc</th>\n",
       "      <th>zolmitriptan</th>\n",
       "      <th>zostavax</th>\n",
       "      <th>évidence</th>\n",
       "      <th>úlcera</th>\n",
       "      <th>ımportant</th>\n",
       "      <th>ınformatıon</th>\n",
       "      <th>ıs</th>\n",
       "      <th>binary</th>\n",
       "    </tr>\n",
       "  </thead>\n",
       "  <tbody>\n",
       "    <tr>\n",
       "      <th>0</th>\n",
       "      <td>0</td>\n",
       "      <td>0</td>\n",
       "      <td>0</td>\n",
       "      <td>0</td>\n",
       "      <td>0</td>\n",
       "      <td>0</td>\n",
       "      <td>0</td>\n",
       "      <td>0</td>\n",
       "      <td>0</td>\n",
       "      <td>0</td>\n",
       "      <td>...</td>\n",
       "      <td>0</td>\n",
       "      <td>0</td>\n",
       "      <td>0</td>\n",
       "      <td>0</td>\n",
       "      <td>0</td>\n",
       "      <td>0</td>\n",
       "      <td>0</td>\n",
       "      <td>0</td>\n",
       "      <td>0</td>\n",
       "      <td>pharmacist</td>\n",
       "    </tr>\n",
       "    <tr>\n",
       "      <th>1</th>\n",
       "      <td>1</td>\n",
       "      <td>0</td>\n",
       "      <td>0</td>\n",
       "      <td>0</td>\n",
       "      <td>0</td>\n",
       "      <td>0</td>\n",
       "      <td>0</td>\n",
       "      <td>0</td>\n",
       "      <td>0</td>\n",
       "      <td>0</td>\n",
       "      <td>...</td>\n",
       "      <td>0</td>\n",
       "      <td>0</td>\n",
       "      <td>0</td>\n",
       "      <td>0</td>\n",
       "      <td>0</td>\n",
       "      <td>0</td>\n",
       "      <td>0</td>\n",
       "      <td>0</td>\n",
       "      <td>0</td>\n",
       "      <td>pharmacist</td>\n",
       "    </tr>\n",
       "    <tr>\n",
       "      <th>2</th>\n",
       "      <td>0</td>\n",
       "      <td>0</td>\n",
       "      <td>0</td>\n",
       "      <td>0</td>\n",
       "      <td>0</td>\n",
       "      <td>0</td>\n",
       "      <td>0</td>\n",
       "      <td>0</td>\n",
       "      <td>0</td>\n",
       "      <td>0</td>\n",
       "      <td>...</td>\n",
       "      <td>0</td>\n",
       "      <td>0</td>\n",
       "      <td>0</td>\n",
       "      <td>0</td>\n",
       "      <td>0</td>\n",
       "      <td>0</td>\n",
       "      <td>0</td>\n",
       "      <td>0</td>\n",
       "      <td>0</td>\n",
       "      <td>pharmacist</td>\n",
       "    </tr>\n",
       "  </tbody>\n",
       "</table>\n",
       "<p>3 rows × 6551 columns</p>\n",
       "</div>"
      ],
      "text/plain": [
       "   00  000  000421  001274  00527172874  01  01d08e1e  01t11  02  03  ...  \\\n",
       "0   0    0       0       0            0   0         0      0   0   0  ...   \n",
       "1   1    0       0       0            0   0         0      0   0   0  ...   \n",
       "2   0    0       0       0            0   0         0      0   0   0  ...   \n",
       "\n",
       "   zest  zinc  zolmitriptan  zostavax  évidence  úlcera  ımportant  \\\n",
       "0     0     0             0         0         0       0          0   \n",
       "1     0     0             0         0         0       0          0   \n",
       "2     0     0             0         0         0       0          0   \n",
       "\n",
       "   ınformatıon  ıs      binary  \n",
       "0            0   0  pharmacist  \n",
       "1            0   0  pharmacist  \n",
       "2            0   0  pharmacist  \n",
       "\n",
       "[3 rows x 6551 columns]"
      ]
     },
     "execution_count": 37,
     "metadata": {},
     "output_type": "execute_result"
    }
   ],
   "source": [
    "df_all.head(3)"
   ]
  },
  {
   "cell_type": "code",
   "execution_count": 38,
   "id": "504477f8-b223-4f55-9318-91becdc71a57",
   "metadata": {},
   "outputs": [
    {
     "data": {
      "text/html": [
       "<div>\n",
       "<style scoped>\n",
       "    .dataframe tbody tr th:only-of-type {\n",
       "        vertical-align: middle;\n",
       "    }\n",
       "\n",
       "    .dataframe tbody tr th {\n",
       "        vertical-align: top;\n",
       "    }\n",
       "\n",
       "    .dataframe thead th {\n",
       "        text-align: right;\n",
       "    }\n",
       "</style>\n",
       "<table border=\"1\" class=\"dataframe\">\n",
       "  <thead>\n",
       "    <tr style=\"text-align: right;\">\n",
       "      <th></th>\n",
       "      <th>00</th>\n",
       "      <th>000</th>\n",
       "      <th>000421</th>\n",
       "      <th>001274</th>\n",
       "      <th>00527172874</th>\n",
       "      <th>01</th>\n",
       "      <th>01d08e1e</th>\n",
       "      <th>01t11</th>\n",
       "      <th>02</th>\n",
       "      <th>03</th>\n",
       "      <th>...</th>\n",
       "      <th>zinc</th>\n",
       "      <th>zolmitriptan</th>\n",
       "      <th>zostavax</th>\n",
       "      <th>évidence</th>\n",
       "      <th>úlcera</th>\n",
       "      <th>ımportant</th>\n",
       "      <th>ınformatıon</th>\n",
       "      <th>ıs</th>\n",
       "      <th>binary</th>\n",
       "      <th>binary_pharm_1</th>\n",
       "    </tr>\n",
       "  </thead>\n",
       "  <tbody>\n",
       "    <tr>\n",
       "      <th>0</th>\n",
       "      <td>0</td>\n",
       "      <td>0</td>\n",
       "      <td>0</td>\n",
       "      <td>0</td>\n",
       "      <td>0</td>\n",
       "      <td>0</td>\n",
       "      <td>0</td>\n",
       "      <td>0</td>\n",
       "      <td>0</td>\n",
       "      <td>0</td>\n",
       "      <td>...</td>\n",
       "      <td>0</td>\n",
       "      <td>0</td>\n",
       "      <td>0</td>\n",
       "      <td>0</td>\n",
       "      <td>0</td>\n",
       "      <td>0</td>\n",
       "      <td>0</td>\n",
       "      <td>0</td>\n",
       "      <td>pharmacist</td>\n",
       "      <td>1</td>\n",
       "    </tr>\n",
       "    <tr>\n",
       "      <th>1</th>\n",
       "      <td>1</td>\n",
       "      <td>0</td>\n",
       "      <td>0</td>\n",
       "      <td>0</td>\n",
       "      <td>0</td>\n",
       "      <td>0</td>\n",
       "      <td>0</td>\n",
       "      <td>0</td>\n",
       "      <td>0</td>\n",
       "      <td>0</td>\n",
       "      <td>...</td>\n",
       "      <td>0</td>\n",
       "      <td>0</td>\n",
       "      <td>0</td>\n",
       "      <td>0</td>\n",
       "      <td>0</td>\n",
       "      <td>0</td>\n",
       "      <td>0</td>\n",
       "      <td>0</td>\n",
       "      <td>pharmacist</td>\n",
       "      <td>1</td>\n",
       "    </tr>\n",
       "    <tr>\n",
       "      <th>2</th>\n",
       "      <td>0</td>\n",
       "      <td>0</td>\n",
       "      <td>0</td>\n",
       "      <td>0</td>\n",
       "      <td>0</td>\n",
       "      <td>0</td>\n",
       "      <td>0</td>\n",
       "      <td>0</td>\n",
       "      <td>0</td>\n",
       "      <td>0</td>\n",
       "      <td>...</td>\n",
       "      <td>0</td>\n",
       "      <td>0</td>\n",
       "      <td>0</td>\n",
       "      <td>0</td>\n",
       "      <td>0</td>\n",
       "      <td>0</td>\n",
       "      <td>0</td>\n",
       "      <td>0</td>\n",
       "      <td>pharmacist</td>\n",
       "      <td>1</td>\n",
       "    </tr>\n",
       "  </tbody>\n",
       "</table>\n",
       "<p>3 rows × 6552 columns</p>\n",
       "</div>"
      ],
      "text/plain": [
       "   00  000  000421  001274  00527172874  01  01d08e1e  01t11  02  03  ...  \\\n",
       "0   0    0       0       0            0   0         0      0   0   0  ...   \n",
       "1   1    0       0       0            0   0         0      0   0   0  ...   \n",
       "2   0    0       0       0            0   0         0      0   0   0  ...   \n",
       "\n",
       "   zinc  zolmitriptan  zostavax  évidence  úlcera  ımportant  ınformatıon  ıs  \\\n",
       "0     0             0         0         0       0          0            0   0   \n",
       "1     0             0         0         0       0          0            0   0   \n",
       "2     0             0         0         0       0          0            0   0   \n",
       "\n",
       "       binary  binary_pharm_1  \n",
       "0  pharmacist               1  \n",
       "1  pharmacist               1  \n",
       "2  pharmacist               1  \n",
       "\n",
       "[3 rows x 6552 columns]"
      ]
     },
     "execution_count": 38,
     "metadata": {},
     "output_type": "execute_result"
    }
   ],
   "source": [
    "from sklearn.preprocessing import LabelEncoder\n",
    "le = LabelEncoder()\n",
    "df_all['binary_pharm_1'] = pd.DataFrame(le.fit_transform(df_all['binary']), columns=['binary'])\n",
    "df_all.head(3)"
   ]
  },
  {
   "cell_type": "code",
   "execution_count": 39,
   "id": "a91c0486-c2bd-4e84-baab-a51161c9a9b6",
   "metadata": {},
   "outputs": [],
   "source": [
    "X = df_all.drop(columns=['binary', 'binary_pharm_1'])\n",
    "y = df_all['binary_pharm_1']"
   ]
  },
  {
   "cell_type": "code",
   "execution_count": 40,
   "id": "066907f0-d7bc-4f10-8abd-bb42cb962421",
   "metadata": {},
   "outputs": [],
   "source": [
    "from sklearn.linear_model import LogisticRegression\n",
    "from sklearn.model_selection import train_test_split\n",
    "\n",
    "\n",
    "X_train, X_test, y_train, y_test = train_test_split(X, y, random_state=13, stratify=y)"
   ]
  },
  {
   "cell_type": "code",
   "execution_count": 41,
   "id": "991590b5-6bf9-4fdf-be8b-fa694d13376d",
   "metadata": {},
   "outputs": [
    {
     "data": {
      "text/plain": [
       "0    0.861333\n",
       "1    0.138667\n",
       "Name: binary_pharm_1, dtype: float64"
      ]
     },
     "execution_count": 41,
     "metadata": {},
     "output_type": "execute_result"
    }
   ],
   "source": [
    "y_train.value_counts(normalize=True)"
   ]
  },
  {
   "cell_type": "code",
   "execution_count": 42,
   "id": "0899249e-3938-43a1-a7c0-eedb51143340",
   "metadata": {},
   "outputs": [],
   "source": [
    "lg = LogisticRegression()"
   ]
  },
  {
   "cell_type": "code",
   "execution_count": 43,
   "id": "0d0c9350-182d-4c5c-870b-56f2eba547bf",
   "metadata": {},
   "outputs": [
    {
     "data": {
      "text/plain": [
       "LogisticRegression()"
      ]
     },
     "execution_count": 43,
     "metadata": {},
     "output_type": "execute_result"
    }
   ],
   "source": [
    "lg.fit(X_train, y_train)"
   ]
  },
  {
   "cell_type": "code",
   "execution_count": 44,
   "id": "49104021-a010-4c35-b844-6db09fdcadb2",
   "metadata": {},
   "outputs": [
    {
     "data": {
      "text/plain": [
       "1.0"
      ]
     },
     "execution_count": 44,
     "metadata": {},
     "output_type": "execute_result"
    }
   ],
   "source": [
    "lg.score(X_train, y_train)"
   ]
  },
  {
   "cell_type": "code",
   "execution_count": 45,
   "id": "3e6d05db-b783-4d8a-ae68-03075b664ccd",
   "metadata": {},
   "outputs": [
    {
     "data": {
      "text/plain": [
       "0.904"
      ]
     },
     "execution_count": 45,
     "metadata": {},
     "output_type": "execute_result"
    }
   ],
   "source": [
    "lg.score(X_test, y_test)"
   ]
  },
  {
   "cell_type": "code",
   "execution_count": 46,
   "id": "2a8f025c-c358-431c-b5c5-39a2863265b5",
   "metadata": {},
   "outputs": [
    {
     "data": {
      "text/plain": [
       "array([[ 0.07745127, -0.09649402, -0.00406703, ..., -0.00173374,\n",
       "        -0.00173374, -0.00346747]])"
      ]
     },
     "execution_count": 46,
     "metadata": {},
     "output_type": "execute_result"
    }
   ],
   "source": [
    "lg.coef_"
   ]
  },
  {
   "cell_type": "code",
   "execution_count": 47,
   "id": "04ccf63c-bd88-4cc3-98d0-81979861ab10",
   "metadata": {},
   "outputs": [
    {
     "data": {
      "text/html": [
       "<div>\n",
       "<style scoped>\n",
       "    .dataframe tbody tr th:only-of-type {\n",
       "        vertical-align: middle;\n",
       "    }\n",
       "\n",
       "    .dataframe tbody tr th {\n",
       "        vertical-align: top;\n",
       "    }\n",
       "\n",
       "    .dataframe thead th {\n",
       "        text-align: right;\n",
       "    }\n",
       "</style>\n",
       "<table border=\"1\" class=\"dataframe\">\n",
       "  <thead>\n",
       "    <tr style=\"text-align: right;\">\n",
       "      <th></th>\n",
       "      <th>coef_val</th>\n",
       "    </tr>\n",
       "  </thead>\n",
       "  <tbody>\n",
       "    <tr>\n",
       "      <th>problem</th>\n",
       "      <td>0.550822</td>\n",
       "    </tr>\n",
       "    <tr>\n",
       "      <th>get</th>\n",
       "      <td>0.556100</td>\n",
       "    </tr>\n",
       "    <tr>\n",
       "      <th>disease</th>\n",
       "      <td>0.559734</td>\n",
       "    </tr>\n",
       "    <tr>\n",
       "      <th>surgery</th>\n",
       "      <td>0.567874</td>\n",
       "    </tr>\n",
       "    <tr>\n",
       "      <th>shingles</th>\n",
       "      <td>0.585485</td>\n",
       "    </tr>\n",
       "    <tr>\n",
       "      <th>syndrome</th>\n",
       "      <td>0.592697</td>\n",
       "    </tr>\n",
       "    <tr>\n",
       "      <th>back</th>\n",
       "      <td>0.599488</td>\n",
       "    </tr>\n",
       "    <tr>\n",
       "      <th>would</th>\n",
       "      <td>0.601114</td>\n",
       "    </tr>\n",
       "    <tr>\n",
       "      <th>location</th>\n",
       "      <td>0.615077</td>\n",
       "    </tr>\n",
       "    <tr>\n",
       "      <th>treatment</th>\n",
       "      <td>0.617482</td>\n",
       "    </tr>\n",
       "    <tr>\n",
       "      <th>ago</th>\n",
       "      <td>0.620327</td>\n",
       "    </tr>\n",
       "    <tr>\n",
       "      <th>please</th>\n",
       "      <td>0.623523</td>\n",
       "    </tr>\n",
       "    <tr>\n",
       "      <th>months</th>\n",
       "      <td>0.646159</td>\n",
       "    </tr>\n",
       "    <tr>\n",
       "      <th>treat</th>\n",
       "      <td>0.647373</td>\n",
       "    </tr>\n",
       "    <tr>\n",
       "      <th>stroke</th>\n",
       "      <td>0.657845</td>\n",
       "    </tr>\n",
       "    <tr>\n",
       "      <th>causes</th>\n",
       "      <td>0.673292</td>\n",
       "    </tr>\n",
       "    <tr>\n",
       "      <th>right</th>\n",
       "      <td>0.673773</td>\n",
       "    </tr>\n",
       "    <tr>\n",
       "      <th>diagnosed</th>\n",
       "      <td>0.676144</td>\n",
       "    </tr>\n",
       "    <tr>\n",
       "      <th>brain</th>\n",
       "      <td>0.680564</td>\n",
       "    </tr>\n",
       "    <tr>\n",
       "      <th>hernia</th>\n",
       "      <td>0.683476</td>\n",
       "    </tr>\n",
       "    <tr>\n",
       "      <th>cause</th>\n",
       "      <td>0.685085</td>\n",
       "    </tr>\n",
       "    <tr>\n",
       "      <th>possible</th>\n",
       "      <td>0.689128</td>\n",
       "    </tr>\n",
       "    <tr>\n",
       "      <th>well</th>\n",
       "      <td>0.694511</td>\n",
       "    </tr>\n",
       "    <tr>\n",
       "      <th>sore</th>\n",
       "      <td>0.699991</td>\n",
       "    </tr>\n",
       "    <tr>\n",
       "      <th>give</th>\n",
       "      <td>0.703578</td>\n",
       "    </tr>\n",
       "  </tbody>\n",
       "</table>\n",
       "</div>"
      ],
      "text/plain": [
       "           coef_val\n",
       "problem    0.550822\n",
       "get        0.556100\n",
       "disease    0.559734\n",
       "surgery    0.567874\n",
       "shingles   0.585485\n",
       "syndrome   0.592697\n",
       "back       0.599488\n",
       "would      0.601114\n",
       "location   0.615077\n",
       "treatment  0.617482\n",
       "ago        0.620327\n",
       "please     0.623523\n",
       "months     0.646159\n",
       "treat      0.647373\n",
       "stroke     0.657845\n",
       "causes     0.673292\n",
       "right      0.673773\n",
       "diagnosed  0.676144\n",
       "brain      0.680564\n",
       "hernia     0.683476\n",
       "cause      0.685085\n",
       "possible   0.689128\n",
       "well       0.694511\n",
       "sore       0.699991\n",
       "give       0.703578"
      ]
     },
     "execution_count": 47,
     "metadata": {},
     "output_type": "execute_result"
    }
   ],
   "source": [
    "conv_odds = pd.DataFrame(np.exp(lg.coef_[0]), index=lg.feature_names_in_, columns = ['coef_val'])\n",
    "conv_odds.sort_values(by='coef_val', ascending=True).head(25)"
   ]
  },
  {
   "cell_type": "code",
   "execution_count": 48,
   "id": "49b2c9f6-a11f-46fa-8882-4e17bcfb5244",
   "metadata": {},
   "outputs": [
    {
     "data": {
      "text/html": [
       "<div>\n",
       "<style scoped>\n",
       "    .dataframe tbody tr th:only-of-type {\n",
       "        vertical-align: middle;\n",
       "    }\n",
       "\n",
       "    .dataframe tbody tr th {\n",
       "        vertical-align: top;\n",
       "    }\n",
       "\n",
       "    .dataframe thead th {\n",
       "        text-align: right;\n",
       "    }\n",
       "</style>\n",
       "<table border=\"1\" class=\"dataframe\">\n",
       "  <thead>\n",
       "    <tr style=\"text-align: right;\">\n",
       "      <th></th>\n",
       "      <th>coef_val</th>\n",
       "    </tr>\n",
       "  </thead>\n",
       "  <tbody>\n",
       "    <tr>\n",
       "      <th>product</th>\n",
       "      <td>1.791311</td>\n",
       "    </tr>\n",
       "    <tr>\n",
       "      <th>gelatin</th>\n",
       "      <td>1.793384</td>\n",
       "    </tr>\n",
       "    <tr>\n",
       "      <th>reactions</th>\n",
       "      <td>1.796775</td>\n",
       "    </tr>\n",
       "    <tr>\n",
       "      <th>instructions</th>\n",
       "      <td>1.815583</td>\n",
       "    </tr>\n",
       "    <tr>\n",
       "      <th>day</th>\n",
       "      <td>1.824776</td>\n",
       "    </tr>\n",
       "    <tr>\n",
       "      <th>lower</th>\n",
       "      <td>1.831126</td>\n",
       "    </tr>\n",
       "    <tr>\n",
       "      <th>glucosamine</th>\n",
       "      <td>1.840661</td>\n",
       "    </tr>\n",
       "    <tr>\n",
       "      <th>effects</th>\n",
       "      <td>1.853131</td>\n",
       "    </tr>\n",
       "    <tr>\n",
       "      <th>new</th>\n",
       "      <td>1.862429</td>\n",
       "    </tr>\n",
       "    <tr>\n",
       "      <th>topical</th>\n",
       "      <td>1.940510</td>\n",
       "    </tr>\n",
       "    <tr>\n",
       "      <th>drugs</th>\n",
       "      <td>1.954066</td>\n",
       "    </tr>\n",
       "    <tr>\n",
       "      <th>cetirizine</th>\n",
       "      <td>1.960746</td>\n",
       "    </tr>\n",
       "    <tr>\n",
       "      <th>sulphate</th>\n",
       "      <td>1.978153</td>\n",
       "    </tr>\n",
       "    <tr>\n",
       "      <th>march</th>\n",
       "      <td>2.012895</td>\n",
       "    </tr>\n",
       "    <tr>\n",
       "      <th>free</th>\n",
       "      <td>2.219120</td>\n",
       "    </tr>\n",
       "    <tr>\n",
       "      <th>message</th>\n",
       "      <td>2.243632</td>\n",
       "    </tr>\n",
       "    <tr>\n",
       "      <th>build</th>\n",
       "      <td>2.244271</td>\n",
       "    </tr>\n",
       "    <tr>\n",
       "      <th>subject</th>\n",
       "      <td>2.297862</td>\n",
       "    </tr>\n",
       "    <tr>\n",
       "      <th>ingredients</th>\n",
       "      <td>2.330410</td>\n",
       "    </tr>\n",
       "    <tr>\n",
       "      <th>drug</th>\n",
       "      <td>2.332354</td>\n",
       "    </tr>\n",
       "    <tr>\n",
       "      <th>taking</th>\n",
       "      <td>2.356167</td>\n",
       "    </tr>\n",
       "    <tr>\n",
       "      <th>meds</th>\n",
       "      <td>2.367979</td>\n",
       "    </tr>\n",
       "    <tr>\n",
       "      <th>thank</th>\n",
       "      <td>2.452773</td>\n",
       "    </tr>\n",
       "    <tr>\n",
       "      <th>gluten</th>\n",
       "      <td>2.727432</td>\n",
       "    </tr>\n",
       "    <tr>\n",
       "      <th>medication</th>\n",
       "      <td>2.792547</td>\n",
       "    </tr>\n",
       "  </tbody>\n",
       "</table>\n",
       "</div>"
      ],
      "text/plain": [
       "              coef_val\n",
       "product       1.791311\n",
       "gelatin       1.793384\n",
       "reactions     1.796775\n",
       "instructions  1.815583\n",
       "day           1.824776\n",
       "lower         1.831126\n",
       "glucosamine   1.840661\n",
       "effects       1.853131\n",
       "new           1.862429\n",
       "topical       1.940510\n",
       "drugs         1.954066\n",
       "cetirizine    1.960746\n",
       "sulphate      1.978153\n",
       "march         2.012895\n",
       "free          2.219120\n",
       "message       2.243632\n",
       "build         2.244271\n",
       "subject       2.297862\n",
       "ingredients   2.330410\n",
       "drug          2.332354\n",
       "taking        2.356167\n",
       "meds          2.367979\n",
       "thank         2.452773\n",
       "gluten        2.727432\n",
       "medication    2.792547"
      ]
     },
     "execution_count": 48,
     "metadata": {},
     "output_type": "execute_result"
    }
   ],
   "source": [
    "conv_odds.sort_values(by='coef_val', ascending=True).tail(25)"
   ]
  },
  {
   "cell_type": "code",
   "execution_count": null,
   "id": "7160f27c-21d2-42dc-8b64-aca8788b05a0",
   "metadata": {},
   "outputs": [],
   "source": [
    "# from bertopic import BERTopic"
   ]
  },
  {
   "cell_type": "code",
   "execution_count": null,
   "id": "e9ca643f-279f-42ad-9592-4219463fe965",
   "metadata": {},
   "outputs": [],
   "source": [
    "# topic_model = BERTopic()\n",
    "# topic_model"
   ]
  },
  {
   "cell_type": "code",
   "execution_count": null,
   "id": "9740a0b3-cb25-4f8c-9c15-f489e91a1469",
   "metadata": {},
   "outputs": [],
   "source": [
    "# topics, probabilities = topic_model.fit_transform(df_all[df_all['binary'] == 'pharmacist'])"
   ]
  },
  {
   "cell_type": "code",
   "execution_count": null,
   "id": "cff79358-9d34-4102-8f76-ccefc595889d",
   "metadata": {},
   "outputs": [],
   "source": []
  },
  {
   "cell_type": "code",
   "execution_count": null,
   "id": "c9ee5b49-6c18-4092-a1f0-ac4368a49729",
   "metadata": {},
   "outputs": [],
   "source": []
  },
  {
   "cell_type": "code",
   "execution_count": null,
   "id": "dc78a0e0-74ba-48fc-bfb7-16a6d3739321",
   "metadata": {},
   "outputs": [],
   "source": []
  },
  {
   "cell_type": "code",
   "execution_count": null,
   "id": "e75edc79-7b7e-48af-ab4c-e5f50e7b2894",
   "metadata": {},
   "outputs": [],
   "source": []
  },
  {
   "cell_type": "code",
   "execution_count": null,
   "id": "9dce9c4f-2397-44de-a77a-4805be495775",
   "metadata": {},
   "outputs": [],
   "source": []
  }
 ],
 "metadata": {
  "kernelspec": {
   "display_name": "Python 3.8.8 ('base')",
   "language": "python",
   "name": "python388jvsc74a57bd040d3a090f54c6569ab1632332b64b2c03c39dcf918b08424e98f38b5ae0af88f"
  },
  "language_info": {
   "codemirror_mode": {
    "name": "ipython",
    "version": 3
   },
   "file_extension": ".py",
   "mimetype": "text/x-python",
   "name": "python",
   "nbconvert_exporter": "python",
   "pygments_lexer": "ipython3",
   "version": "3.8.8"
  }
 },
 "nbformat": 4,
 "nbformat_minor": 5
}
